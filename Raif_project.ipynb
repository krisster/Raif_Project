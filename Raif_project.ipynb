{
  "cells": [
    {
      "cell_type": "markdown",
      "metadata": {
        "id": "view-in-github",
        "colab_type": "text"
      },
      "source": [
        "<a href=\"https://colab.research.google.com/github/krisster/Raif_Project/blob/main/Raif_project.ipynb\" target=\"_parent\"><img src=\"https://colab.research.google.com/assets/colab-badge.svg\" alt=\"Open In Colab\"/></a>"
      ]
    },
    {
      "cell_type": "markdown",
      "source": [
        "# Solving the problem of income predictions\n",
        "*According to characteristics decide if an agent has an income higher or lower than 50 thousands*\n",
        "* Downloading dataset \n",
        "* Analysis of missing values and wrong data"
      ],
      "metadata": {
        "id": "z79gbIw0bWJZ"
      }
    },
    {
      "cell_type": "code",
      "execution_count": 2,
      "metadata": {
        "id": "wD3LYTXnhtwZ"
      },
      "outputs": [],
      "source": [
        "import pandas as pd\n",
        "import numpy as np\n",
        "from matplotlib import pyplot as plt\n",
        "\n",
        "from sklearn.linear_model import LogisticRegression\n",
        "from sklearn.ensemble import RandomForestClassifier\n",
        "from sklearn.cluster import KMeans\n",
        "\n",
        "from sklearn.preprocessing import MinMaxScaler\n",
        "from sklearn.metrics import accuracy_score\n",
        "from sklearn.model_selection import train_test_split\n",
        "from imblearn.over_sampling import SMOTE\n",
        "from sklearn.svm import SVC\n",
        "\n",
        "from sklearn.metrics import confusion_matrix\n",
        "from sklearn.metrics import ConfusionMatrixDisplay\n",
        "from sklearn.metrics import recall_score\n",
        "from sklearn.metrics import precision_score\n",
        "from sklearn.metrics import f1_score\n",
        "from sklearn.metrics import roc_auc_score\n",
        "\n",
        "\n",
        "from google.colab import drive\n",
        "\n",
        "\n",
        "import warnings\n",
        "warnings.filterwarnings(\"ignore\")"
      ]
    },
    {
      "cell_type": "markdown",
      "source": [
        "## Download data\n",
        "\n"
      ],
      "metadata": {
        "id": "cgXJLC1Yjpnm"
      }
    },
    {
      "cell_type": "code",
      "execution_count": null,
      "metadata": {
        "id": "HWwIJ2AQhtwb"
      },
      "outputs": [],
      "source": [
        "!mkdir -p ~/.postgresql && \\\n",
        "wget \"https://storage.yandexcloud.net/cloud-certs/CA.pem\" \\\n",
        "    --output-document ~/.postgresql/root.crt && \\\n",
        "chmod 0600 ~/.postgresql/root.crt"
      ]
    },
    {
      "cell_type": "code",
      "source": [
        "!sudo apt update && sudo apt install --yes python3 python3-pip && \\\n",
        "!pip3 install psycopg2-binary"
      ],
      "metadata": {
        "id": "OAFi6whWi-so"
      },
      "execution_count": null,
      "outputs": []
    },
    {
      "cell_type": "code",
      "source": [
        "import psycopg2\n",
        "\n",
        "conn = psycopg2.connect(\"\"\"\n",
        "    host=rc1b-70q90cunwkzx49mj.mdb.yandexcloud.net\n",
        "    port=6432\n",
        "    sslmode=verify-full\n",
        "    dbname=db_clients\n",
        "    user=mlhs_student\n",
        "    password=mlhs_student\n",
        "    target_session_attrs=read-write\n",
        "\"\"\")"
      ],
      "metadata": {
        "id": "7efd5Dz0jBYo"
      },
      "execution_count": null,
      "outputs": []
    },
    {
      "cell_type": "code",
      "source": [
        "query = \"SELECT * from public.adult_income\"\n",
        "df = pd.read_sql_query(query, conn)\n",
        "conn.close()"
      ],
      "metadata": {
        "id": "Z4QXHJtvjG5G"
      },
      "execution_count": null,
      "outputs": []
    },
    {
      "cell_type": "code",
      "source": [
        "df.head()"
      ],
      "metadata": {
        "colab": {
          "base_uri": "https://localhost:8080/",
          "height": 443
        },
        "id": "-qMNRHrm6VBG",
        "outputId": "a3dff0c2-3512-4fc1-c968-64c922a3b6ed"
      },
      "execution_count": null,
      "outputs": [
        {
          "output_type": "execute_result",
          "data": {
            "text/plain": [
              "    age  workclass  fnlwgt     education  educational-num      marital-status  \\\n",
              "0  25.0    Private  226802          11th                7       Never-married   \n",
              "1  38.0    Private   89814       HS-grad                9  Married-civ-spouse   \n",
              "2  28.0  Local-gov  336951    Assoc-acdm               12  Married-civ-spouse   \n",
              "3  44.0    Private  160323  Some-college               10  Married-civ-spouse   \n",
              "4  18.0          ?  103497  Some-college               10       Never-married   \n",
              "\n",
              "          occupation relationship   race  gender  capital-gain  capital-loss  \\\n",
              "0  Machine-op-inspct    Own-child  Black    Male           0.0           0.0   \n",
              "1    Farming-fishing      Husband  White    Male           0.0           0.0   \n",
              "2    Protective-serv      Husband  White    Male           0.0           0.0   \n",
              "3  Machine-op-inspct      Husband  Black    Male        7688.0           0.0   \n",
              "4                  ?    Own-child  White  Female           0.0           0.0   \n",
              "\n",
              "   hours-per-week native-country income  \n",
              "0            40.0  United-States  <=50K  \n",
              "1            50.0  United-States  <=50K  \n",
              "2            40.0  United-States   >50K  \n",
              "3            40.0  United-States   >50K  \n",
              "4            30.0  United-States  <=50K  "
            ],
            "text/html": [
              "\n",
              "  <div id=\"df-0e29ff91-0925-4de9-9f81-76c98ec8aecb\">\n",
              "    <div class=\"colab-df-container\">\n",
              "      <div>\n",
              "<style scoped>\n",
              "    .dataframe tbody tr th:only-of-type {\n",
              "        vertical-align: middle;\n",
              "    }\n",
              "\n",
              "    .dataframe tbody tr th {\n",
              "        vertical-align: top;\n",
              "    }\n",
              "\n",
              "    .dataframe thead th {\n",
              "        text-align: right;\n",
              "    }\n",
              "</style>\n",
              "<table border=\"1\" class=\"dataframe\">\n",
              "  <thead>\n",
              "    <tr style=\"text-align: right;\">\n",
              "      <th></th>\n",
              "      <th>age</th>\n",
              "      <th>workclass</th>\n",
              "      <th>fnlwgt</th>\n",
              "      <th>education</th>\n",
              "      <th>educational-num</th>\n",
              "      <th>marital-status</th>\n",
              "      <th>occupation</th>\n",
              "      <th>relationship</th>\n",
              "      <th>race</th>\n",
              "      <th>gender</th>\n",
              "      <th>capital-gain</th>\n",
              "      <th>capital-loss</th>\n",
              "      <th>hours-per-week</th>\n",
              "      <th>native-country</th>\n",
              "      <th>income</th>\n",
              "    </tr>\n",
              "  </thead>\n",
              "  <tbody>\n",
              "    <tr>\n",
              "      <th>0</th>\n",
              "      <td>25.0</td>\n",
              "      <td>Private</td>\n",
              "      <td>226802</td>\n",
              "      <td>11th</td>\n",
              "      <td>7</td>\n",
              "      <td>Never-married</td>\n",
              "      <td>Machine-op-inspct</td>\n",
              "      <td>Own-child</td>\n",
              "      <td>Black</td>\n",
              "      <td>Male</td>\n",
              "      <td>0.0</td>\n",
              "      <td>0.0</td>\n",
              "      <td>40.0</td>\n",
              "      <td>United-States</td>\n",
              "      <td>&lt;=50K</td>\n",
              "    </tr>\n",
              "    <tr>\n",
              "      <th>1</th>\n",
              "      <td>38.0</td>\n",
              "      <td>Private</td>\n",
              "      <td>89814</td>\n",
              "      <td>HS-grad</td>\n",
              "      <td>9</td>\n",
              "      <td>Married-civ-spouse</td>\n",
              "      <td>Farming-fishing</td>\n",
              "      <td>Husband</td>\n",
              "      <td>White</td>\n",
              "      <td>Male</td>\n",
              "      <td>0.0</td>\n",
              "      <td>0.0</td>\n",
              "      <td>50.0</td>\n",
              "      <td>United-States</td>\n",
              "      <td>&lt;=50K</td>\n",
              "    </tr>\n",
              "    <tr>\n",
              "      <th>2</th>\n",
              "      <td>28.0</td>\n",
              "      <td>Local-gov</td>\n",
              "      <td>336951</td>\n",
              "      <td>Assoc-acdm</td>\n",
              "      <td>12</td>\n",
              "      <td>Married-civ-spouse</td>\n",
              "      <td>Protective-serv</td>\n",
              "      <td>Husband</td>\n",
              "      <td>White</td>\n",
              "      <td>Male</td>\n",
              "      <td>0.0</td>\n",
              "      <td>0.0</td>\n",
              "      <td>40.0</td>\n",
              "      <td>United-States</td>\n",
              "      <td>&gt;50K</td>\n",
              "    </tr>\n",
              "    <tr>\n",
              "      <th>3</th>\n",
              "      <td>44.0</td>\n",
              "      <td>Private</td>\n",
              "      <td>160323</td>\n",
              "      <td>Some-college</td>\n",
              "      <td>10</td>\n",
              "      <td>Married-civ-spouse</td>\n",
              "      <td>Machine-op-inspct</td>\n",
              "      <td>Husband</td>\n",
              "      <td>Black</td>\n",
              "      <td>Male</td>\n",
              "      <td>7688.0</td>\n",
              "      <td>0.0</td>\n",
              "      <td>40.0</td>\n",
              "      <td>United-States</td>\n",
              "      <td>&gt;50K</td>\n",
              "    </tr>\n",
              "    <tr>\n",
              "      <th>4</th>\n",
              "      <td>18.0</td>\n",
              "      <td>?</td>\n",
              "      <td>103497</td>\n",
              "      <td>Some-college</td>\n",
              "      <td>10</td>\n",
              "      <td>Never-married</td>\n",
              "      <td>?</td>\n",
              "      <td>Own-child</td>\n",
              "      <td>White</td>\n",
              "      <td>Female</td>\n",
              "      <td>0.0</td>\n",
              "      <td>0.0</td>\n",
              "      <td>30.0</td>\n",
              "      <td>United-States</td>\n",
              "      <td>&lt;=50K</td>\n",
              "    </tr>\n",
              "  </tbody>\n",
              "</table>\n",
              "</div>\n",
              "      <button class=\"colab-df-convert\" onclick=\"convertToInteractive('df-0e29ff91-0925-4de9-9f81-76c98ec8aecb')\"\n",
              "              title=\"Convert this dataframe to an interactive table.\"\n",
              "              style=\"display:none;\">\n",
              "        \n",
              "  <svg xmlns=\"http://www.w3.org/2000/svg\" height=\"24px\"viewBox=\"0 0 24 24\"\n",
              "       width=\"24px\">\n",
              "    <path d=\"M0 0h24v24H0V0z\" fill=\"none\"/>\n",
              "    <path d=\"M18.56 5.44l.94 2.06.94-2.06 2.06-.94-2.06-.94-.94-2.06-.94 2.06-2.06.94zm-11 1L8.5 8.5l.94-2.06 2.06-.94-2.06-.94L8.5 2.5l-.94 2.06-2.06.94zm10 10l.94 2.06.94-2.06 2.06-.94-2.06-.94-.94-2.06-.94 2.06-2.06.94z\"/><path d=\"M17.41 7.96l-1.37-1.37c-.4-.4-.92-.59-1.43-.59-.52 0-1.04.2-1.43.59L10.3 9.45l-7.72 7.72c-.78.78-.78 2.05 0 2.83L4 21.41c.39.39.9.59 1.41.59.51 0 1.02-.2 1.41-.59l7.78-7.78 2.81-2.81c.8-.78.8-2.07 0-2.86zM5.41 20L4 18.59l7.72-7.72 1.47 1.35L5.41 20z\"/>\n",
              "  </svg>\n",
              "      </button>\n",
              "      \n",
              "  <style>\n",
              "    .colab-df-container {\n",
              "      display:flex;\n",
              "      flex-wrap:wrap;\n",
              "      gap: 12px;\n",
              "    }\n",
              "\n",
              "    .colab-df-convert {\n",
              "      background-color: #E8F0FE;\n",
              "      border: none;\n",
              "      border-radius: 50%;\n",
              "      cursor: pointer;\n",
              "      display: none;\n",
              "      fill: #1967D2;\n",
              "      height: 32px;\n",
              "      padding: 0 0 0 0;\n",
              "      width: 32px;\n",
              "    }\n",
              "\n",
              "    .colab-df-convert:hover {\n",
              "      background-color: #E2EBFA;\n",
              "      box-shadow: 0px 1px 2px rgba(60, 64, 67, 0.3), 0px 1px 3px 1px rgba(60, 64, 67, 0.15);\n",
              "      fill: #174EA6;\n",
              "    }\n",
              "\n",
              "    [theme=dark] .colab-df-convert {\n",
              "      background-color: #3B4455;\n",
              "      fill: #D2E3FC;\n",
              "    }\n",
              "\n",
              "    [theme=dark] .colab-df-convert:hover {\n",
              "      background-color: #434B5C;\n",
              "      box-shadow: 0px 1px 3px 1px rgba(0, 0, 0, 0.15);\n",
              "      filter: drop-shadow(0px 1px 2px rgba(0, 0, 0, 0.3));\n",
              "      fill: #FFFFFF;\n",
              "    }\n",
              "  </style>\n",
              "\n",
              "      <script>\n",
              "        const buttonEl =\n",
              "          document.querySelector('#df-0e29ff91-0925-4de9-9f81-76c98ec8aecb button.colab-df-convert');\n",
              "        buttonEl.style.display =\n",
              "          google.colab.kernel.accessAllowed ? 'block' : 'none';\n",
              "\n",
              "        async function convertToInteractive(key) {\n",
              "          const element = document.querySelector('#df-0e29ff91-0925-4de9-9f81-76c98ec8aecb');\n",
              "          const dataTable =\n",
              "            await google.colab.kernel.invokeFunction('convertToInteractive',\n",
              "                                                     [key], {});\n",
              "          if (!dataTable) return;\n",
              "\n",
              "          const docLinkHtml = 'Like what you see? Visit the ' +\n",
              "            '<a target=\"_blank\" href=https://colab.research.google.com/notebooks/data_table.ipynb>data table notebook</a>'\n",
              "            + ' to learn more about interactive tables.';\n",
              "          element.innerHTML = '';\n",
              "          dataTable['output_type'] = 'display_data';\n",
              "          await google.colab.output.renderOutput(dataTable, element);\n",
              "          const docLink = document.createElement('div');\n",
              "          docLink.innerHTML = docLinkHtml;\n",
              "          element.appendChild(docLink);\n",
              "        }\n",
              "      </script>\n",
              "    </div>\n",
              "  </div>\n",
              "  "
            ]
          },
          "metadata": {},
          "execution_count": 12
        }
      ]
    },
    {
      "cell_type": "code",
      "source": [
        "df.shape "
      ],
      "metadata": {
        "id": "aX7cYQzN0k_Z",
        "colab": {
          "base_uri": "https://localhost:8080/"
        },
        "outputId": "abcba17b-090e-4131-836a-cf5b626e8c5f"
      },
      "execution_count": null,
      "outputs": [
        {
          "output_type": "execute_result",
          "data": {
            "text/plain": [
              "(9615, 15)"
            ]
          },
          "metadata": {},
          "execution_count": 13
        }
      ]
    },
    {
      "cell_type": "code",
      "source": [
        "df.info()"
      ],
      "metadata": {
        "id": "1FjpaGIa0mjt",
        "colab": {
          "base_uri": "https://localhost:8080/"
        },
        "outputId": "40698bd3-d362-4611-cb2e-fbe67383bb24"
      },
      "execution_count": null,
      "outputs": [
        {
          "output_type": "stream",
          "name": "stdout",
          "text": [
            "<class 'pandas.core.frame.DataFrame'>\n",
            "RangeIndex: 9615 entries, 0 to 9614\n",
            "Data columns (total 15 columns):\n",
            " #   Column           Non-Null Count  Dtype  \n",
            "---  ------           --------------  -----  \n",
            " 0   age              8961 non-null   float64\n",
            " 1   workclass        9615 non-null   object \n",
            " 2   fnlwgt           9615 non-null   int64  \n",
            " 3   education        9615 non-null   object \n",
            " 4   educational-num  9615 non-null   int64  \n",
            " 5   marital-status   9615 non-null   object \n",
            " 6   occupation       9615 non-null   object \n",
            " 7   relationship     9615 non-null   object \n",
            " 8   race             9614 non-null   object \n",
            " 9   gender           9614 non-null   object \n",
            " 10  capital-gain     9614 non-null   float64\n",
            " 11  capital-loss     9614 non-null   float64\n",
            " 12  hours-per-week   8543 non-null   float64\n",
            " 13  native-country   9614 non-null   object \n",
            " 14  income           9614 non-null   object \n",
            "dtypes: float64(4), int64(2), object(9)\n",
            "memory usage: 1.1+ MB\n"
          ]
        }
      ]
    },
    {
      "cell_type": "markdown",
      "source": [
        "### Data collection"
      ],
      "metadata": {
        "id": "0ALQi-Vf2rYb"
      }
    },
    {
      "cell_type": "code",
      "source": [
        "df.to_csv(\"income_clients.csv\", index=False)"
      ],
      "metadata": {
        "id": "nAFYRh072trA"
      },
      "execution_count": null,
      "outputs": []
    },
    {
      "cell_type": "markdown",
      "source": [
        "## Data analysis"
      ],
      "metadata": {
        "id": "9u5kjESXjg-s"
      }
    },
    {
      "cell_type": "code",
      "source": [
        "drive.mount('/content/drive')"
      ],
      "metadata": {
        "colab": {
          "base_uri": "https://localhost:8080/"
        },
        "id": "fetzM1xt8h4c",
        "outputId": "322e7b74-5f08-44c8-d2fc-06bd94df957f"
      },
      "execution_count": 3,
      "outputs": [
        {
          "output_type": "stream",
          "name": "stdout",
          "text": [
            "Mounted at /content/drive\n"
          ]
        }
      ]
    },
    {
      "cell_type": "code",
      "source": [
        "df = pd.read_csv(\"/content/drive/MyDrive/Colab Notebooks/income_clients.csv\")"
      ],
      "metadata": {
        "id": "St_3B7fjIyX8"
      },
      "execution_count": 4,
      "outputs": []
    },
    {
      "cell_type": "markdown",
      "source": [
        "### Quality of data"
      ],
      "metadata": {
        "id": "ORzwrTOrltqs"
      }
    },
    {
      "cell_type": "code",
      "source": [
        "df.isna().sum()"
      ],
      "metadata": {
        "id": "rM92inoDURTx",
        "colab": {
          "base_uri": "https://localhost:8080/"
        },
        "outputId": "bcd73922-50f5-4de4-eb0b-8ddecc8cfd01"
      },
      "execution_count": 5,
      "outputs": [
        {
          "output_type": "execute_result",
          "data": {
            "text/plain": [
              "age                 654\n",
              "workclass             0\n",
              "fnlwgt                0\n",
              "education             0\n",
              "educational-num       0\n",
              "marital-status        0\n",
              "occupation            0\n",
              "relationship          0\n",
              "race                  1\n",
              "gender                1\n",
              "capital-gain          1\n",
              "capital-loss          1\n",
              "hours-per-week     1072\n",
              "native-country        1\n",
              "income                1\n",
              "dtype: int64"
            ]
          },
          "metadata": {},
          "execution_count": 5
        }
      ]
    },
    {
      "cell_type": "code",
      "source": [
        "# delete the row, where income is nan\n",
        "df = df.drop(df[df[\"income\"].isna()].index)"
      ],
      "metadata": {
        "id": "2fOOja8S4JsD"
      },
      "execution_count": 6,
      "outputs": []
    },
    {
      "cell_type": "code",
      "source": [
        "result = df[df.applymap(lambda x: '?' in str(x)).any(axis=1)] \n",
        "result"
      ],
      "metadata": {
        "colab": {
          "base_uri": "https://localhost:8080/",
          "height": 713
        },
        "id": "0PQ70VM_uBJj",
        "outputId": "5b9b4a34-603e-4804-dc84-a0d09769c55c"
      },
      "execution_count": 7,
      "outputs": [
        {
          "output_type": "execute_result",
          "data": {
            "text/plain": [
              "       age  workclass  fnlwgt     education  educational-num  \\\n",
              "4     18.0          ?  103497  Some-college               10   \n",
              "6     29.0          ?  227026       HS-grad                9   \n",
              "13    58.0          ?  299831       HS-grad                9   \n",
              "19    40.0    Private   85019     Doctorate               16   \n",
              "22    72.0          ?  132015       7th-8th                4   \n",
              "...    ...        ...     ...           ...              ...   \n",
              "9543  20.0          ?   49819  Some-college               10   \n",
              "9545   NaN  Local-gov  263690     Bachelors               13   \n",
              "9568   NaN          ?  150250       Masters               14   \n",
              "9573   NaN          ?  305145     Bachelors               13   \n",
              "9589   NaN          ?  127306  Some-college               10   \n",
              "\n",
              "          marital-status      occupation   relationship                race  \\\n",
              "4          Never-married               ?      Own-child               White   \n",
              "6          Never-married               ?      Unmarried               Black   \n",
              "13    Married-civ-spouse               ?        Husband               White   \n",
              "19    Married-civ-spouse  Prof-specialty        Husband  Asian-Pac-Islander   \n",
              "22              Divorced               ?  Not-in-family               White   \n",
              "...                  ...             ...            ...                 ...   \n",
              "9543       Never-married               ?      Own-child               White   \n",
              "9545       Never-married  Prof-specialty      Unmarried               Black   \n",
              "9568  Married-civ-spouse               ?        Husband               White   \n",
              "9573             Widowed               ?  Not-in-family               White   \n",
              "9589            Divorced               ?      Unmarried               White   \n",
              "\n",
              "      gender  capital-gain  capital-loss  hours-per-week native-country income  \n",
              "4     Female           0.0           0.0            30.0  United-States  <=50K  \n",
              "6       Male           0.0           0.0            40.0  United-States  <=50K  \n",
              "13      Male           0.0           0.0            35.0  United-States  <=50K  \n",
              "19      Male           0.0           0.0            45.0              ?   >50K  \n",
              "22    Female           0.0           0.0             6.0  United-States  <=50K  \n",
              "...      ...           ...           ...             ...            ...    ...  \n",
              "9543  Female           0.0           0.0             NaN  United-States  <=50K  \n",
              "9545    Male           0.0           0.0             NaN              ?  <=50K  \n",
              "9568    Male           0.0        1510.0             NaN  United-States  <=50K  \n",
              "9573    Male           0.0           0.0             NaN  United-States  <=50K  \n",
              "9589  Female           0.0           0.0             NaN  United-States  <=50K  \n",
              "\n",
              "[737 rows x 15 columns]"
            ],
            "text/html": [
              "\n",
              "  <div id=\"df-0403eb69-701a-411f-9b1f-e251114c003a\">\n",
              "    <div class=\"colab-df-container\">\n",
              "      <div>\n",
              "<style scoped>\n",
              "    .dataframe tbody tr th:only-of-type {\n",
              "        vertical-align: middle;\n",
              "    }\n",
              "\n",
              "    .dataframe tbody tr th {\n",
              "        vertical-align: top;\n",
              "    }\n",
              "\n",
              "    .dataframe thead th {\n",
              "        text-align: right;\n",
              "    }\n",
              "</style>\n",
              "<table border=\"1\" class=\"dataframe\">\n",
              "  <thead>\n",
              "    <tr style=\"text-align: right;\">\n",
              "      <th></th>\n",
              "      <th>age</th>\n",
              "      <th>workclass</th>\n",
              "      <th>fnlwgt</th>\n",
              "      <th>education</th>\n",
              "      <th>educational-num</th>\n",
              "      <th>marital-status</th>\n",
              "      <th>occupation</th>\n",
              "      <th>relationship</th>\n",
              "      <th>race</th>\n",
              "      <th>gender</th>\n",
              "      <th>capital-gain</th>\n",
              "      <th>capital-loss</th>\n",
              "      <th>hours-per-week</th>\n",
              "      <th>native-country</th>\n",
              "      <th>income</th>\n",
              "    </tr>\n",
              "  </thead>\n",
              "  <tbody>\n",
              "    <tr>\n",
              "      <th>4</th>\n",
              "      <td>18.0</td>\n",
              "      <td>?</td>\n",
              "      <td>103497</td>\n",
              "      <td>Some-college</td>\n",
              "      <td>10</td>\n",
              "      <td>Never-married</td>\n",
              "      <td>?</td>\n",
              "      <td>Own-child</td>\n",
              "      <td>White</td>\n",
              "      <td>Female</td>\n",
              "      <td>0.0</td>\n",
              "      <td>0.0</td>\n",
              "      <td>30.0</td>\n",
              "      <td>United-States</td>\n",
              "      <td>&lt;=50K</td>\n",
              "    </tr>\n",
              "    <tr>\n",
              "      <th>6</th>\n",
              "      <td>29.0</td>\n",
              "      <td>?</td>\n",
              "      <td>227026</td>\n",
              "      <td>HS-grad</td>\n",
              "      <td>9</td>\n",
              "      <td>Never-married</td>\n",
              "      <td>?</td>\n",
              "      <td>Unmarried</td>\n",
              "      <td>Black</td>\n",
              "      <td>Male</td>\n",
              "      <td>0.0</td>\n",
              "      <td>0.0</td>\n",
              "      <td>40.0</td>\n",
              "      <td>United-States</td>\n",
              "      <td>&lt;=50K</td>\n",
              "    </tr>\n",
              "    <tr>\n",
              "      <th>13</th>\n",
              "      <td>58.0</td>\n",
              "      <td>?</td>\n",
              "      <td>299831</td>\n",
              "      <td>HS-grad</td>\n",
              "      <td>9</td>\n",
              "      <td>Married-civ-spouse</td>\n",
              "      <td>?</td>\n",
              "      <td>Husband</td>\n",
              "      <td>White</td>\n",
              "      <td>Male</td>\n",
              "      <td>0.0</td>\n",
              "      <td>0.0</td>\n",
              "      <td>35.0</td>\n",
              "      <td>United-States</td>\n",
              "      <td>&lt;=50K</td>\n",
              "    </tr>\n",
              "    <tr>\n",
              "      <th>19</th>\n",
              "      <td>40.0</td>\n",
              "      <td>Private</td>\n",
              "      <td>85019</td>\n",
              "      <td>Doctorate</td>\n",
              "      <td>16</td>\n",
              "      <td>Married-civ-spouse</td>\n",
              "      <td>Prof-specialty</td>\n",
              "      <td>Husband</td>\n",
              "      <td>Asian-Pac-Islander</td>\n",
              "      <td>Male</td>\n",
              "      <td>0.0</td>\n",
              "      <td>0.0</td>\n",
              "      <td>45.0</td>\n",
              "      <td>?</td>\n",
              "      <td>&gt;50K</td>\n",
              "    </tr>\n",
              "    <tr>\n",
              "      <th>22</th>\n",
              "      <td>72.0</td>\n",
              "      <td>?</td>\n",
              "      <td>132015</td>\n",
              "      <td>7th-8th</td>\n",
              "      <td>4</td>\n",
              "      <td>Divorced</td>\n",
              "      <td>?</td>\n",
              "      <td>Not-in-family</td>\n",
              "      <td>White</td>\n",
              "      <td>Female</td>\n",
              "      <td>0.0</td>\n",
              "      <td>0.0</td>\n",
              "      <td>6.0</td>\n",
              "      <td>United-States</td>\n",
              "      <td>&lt;=50K</td>\n",
              "    </tr>\n",
              "    <tr>\n",
              "      <th>...</th>\n",
              "      <td>...</td>\n",
              "      <td>...</td>\n",
              "      <td>...</td>\n",
              "      <td>...</td>\n",
              "      <td>...</td>\n",
              "      <td>...</td>\n",
              "      <td>...</td>\n",
              "      <td>...</td>\n",
              "      <td>...</td>\n",
              "      <td>...</td>\n",
              "      <td>...</td>\n",
              "      <td>...</td>\n",
              "      <td>...</td>\n",
              "      <td>...</td>\n",
              "      <td>...</td>\n",
              "    </tr>\n",
              "    <tr>\n",
              "      <th>9543</th>\n",
              "      <td>20.0</td>\n",
              "      <td>?</td>\n",
              "      <td>49819</td>\n",
              "      <td>Some-college</td>\n",
              "      <td>10</td>\n",
              "      <td>Never-married</td>\n",
              "      <td>?</td>\n",
              "      <td>Own-child</td>\n",
              "      <td>White</td>\n",
              "      <td>Female</td>\n",
              "      <td>0.0</td>\n",
              "      <td>0.0</td>\n",
              "      <td>NaN</td>\n",
              "      <td>United-States</td>\n",
              "      <td>&lt;=50K</td>\n",
              "    </tr>\n",
              "    <tr>\n",
              "      <th>9545</th>\n",
              "      <td>NaN</td>\n",
              "      <td>Local-gov</td>\n",
              "      <td>263690</td>\n",
              "      <td>Bachelors</td>\n",
              "      <td>13</td>\n",
              "      <td>Never-married</td>\n",
              "      <td>Prof-specialty</td>\n",
              "      <td>Unmarried</td>\n",
              "      <td>Black</td>\n",
              "      <td>Male</td>\n",
              "      <td>0.0</td>\n",
              "      <td>0.0</td>\n",
              "      <td>NaN</td>\n",
              "      <td>?</td>\n",
              "      <td>&lt;=50K</td>\n",
              "    </tr>\n",
              "    <tr>\n",
              "      <th>9568</th>\n",
              "      <td>NaN</td>\n",
              "      <td>?</td>\n",
              "      <td>150250</td>\n",
              "      <td>Masters</td>\n",
              "      <td>14</td>\n",
              "      <td>Married-civ-spouse</td>\n",
              "      <td>?</td>\n",
              "      <td>Husband</td>\n",
              "      <td>White</td>\n",
              "      <td>Male</td>\n",
              "      <td>0.0</td>\n",
              "      <td>1510.0</td>\n",
              "      <td>NaN</td>\n",
              "      <td>United-States</td>\n",
              "      <td>&lt;=50K</td>\n",
              "    </tr>\n",
              "    <tr>\n",
              "      <th>9573</th>\n",
              "      <td>NaN</td>\n",
              "      <td>?</td>\n",
              "      <td>305145</td>\n",
              "      <td>Bachelors</td>\n",
              "      <td>13</td>\n",
              "      <td>Widowed</td>\n",
              "      <td>?</td>\n",
              "      <td>Not-in-family</td>\n",
              "      <td>White</td>\n",
              "      <td>Male</td>\n",
              "      <td>0.0</td>\n",
              "      <td>0.0</td>\n",
              "      <td>NaN</td>\n",
              "      <td>United-States</td>\n",
              "      <td>&lt;=50K</td>\n",
              "    </tr>\n",
              "    <tr>\n",
              "      <th>9589</th>\n",
              "      <td>NaN</td>\n",
              "      <td>?</td>\n",
              "      <td>127306</td>\n",
              "      <td>Some-college</td>\n",
              "      <td>10</td>\n",
              "      <td>Divorced</td>\n",
              "      <td>?</td>\n",
              "      <td>Unmarried</td>\n",
              "      <td>White</td>\n",
              "      <td>Female</td>\n",
              "      <td>0.0</td>\n",
              "      <td>0.0</td>\n",
              "      <td>NaN</td>\n",
              "      <td>United-States</td>\n",
              "      <td>&lt;=50K</td>\n",
              "    </tr>\n",
              "  </tbody>\n",
              "</table>\n",
              "<p>737 rows × 15 columns</p>\n",
              "</div>\n",
              "      <button class=\"colab-df-convert\" onclick=\"convertToInteractive('df-0403eb69-701a-411f-9b1f-e251114c003a')\"\n",
              "              title=\"Convert this dataframe to an interactive table.\"\n",
              "              style=\"display:none;\">\n",
              "        \n",
              "  <svg xmlns=\"http://www.w3.org/2000/svg\" height=\"24px\"viewBox=\"0 0 24 24\"\n",
              "       width=\"24px\">\n",
              "    <path d=\"M0 0h24v24H0V0z\" fill=\"none\"/>\n",
              "    <path d=\"M18.56 5.44l.94 2.06.94-2.06 2.06-.94-2.06-.94-.94-2.06-.94 2.06-2.06.94zm-11 1L8.5 8.5l.94-2.06 2.06-.94-2.06-.94L8.5 2.5l-.94 2.06-2.06.94zm10 10l.94 2.06.94-2.06 2.06-.94-2.06-.94-.94-2.06-.94 2.06-2.06.94z\"/><path d=\"M17.41 7.96l-1.37-1.37c-.4-.4-.92-.59-1.43-.59-.52 0-1.04.2-1.43.59L10.3 9.45l-7.72 7.72c-.78.78-.78 2.05 0 2.83L4 21.41c.39.39.9.59 1.41.59.51 0 1.02-.2 1.41-.59l7.78-7.78 2.81-2.81c.8-.78.8-2.07 0-2.86zM5.41 20L4 18.59l7.72-7.72 1.47 1.35L5.41 20z\"/>\n",
              "  </svg>\n",
              "      </button>\n",
              "      \n",
              "  <style>\n",
              "    .colab-df-container {\n",
              "      display:flex;\n",
              "      flex-wrap:wrap;\n",
              "      gap: 12px;\n",
              "    }\n",
              "\n",
              "    .colab-df-convert {\n",
              "      background-color: #E8F0FE;\n",
              "      border: none;\n",
              "      border-radius: 50%;\n",
              "      cursor: pointer;\n",
              "      display: none;\n",
              "      fill: #1967D2;\n",
              "      height: 32px;\n",
              "      padding: 0 0 0 0;\n",
              "      width: 32px;\n",
              "    }\n",
              "\n",
              "    .colab-df-convert:hover {\n",
              "      background-color: #E2EBFA;\n",
              "      box-shadow: 0px 1px 2px rgba(60, 64, 67, 0.3), 0px 1px 3px 1px rgba(60, 64, 67, 0.15);\n",
              "      fill: #174EA6;\n",
              "    }\n",
              "\n",
              "    [theme=dark] .colab-df-convert {\n",
              "      background-color: #3B4455;\n",
              "      fill: #D2E3FC;\n",
              "    }\n",
              "\n",
              "    [theme=dark] .colab-df-convert:hover {\n",
              "      background-color: #434B5C;\n",
              "      box-shadow: 0px 1px 3px 1px rgba(0, 0, 0, 0.15);\n",
              "      filter: drop-shadow(0px 1px 2px rgba(0, 0, 0, 0.3));\n",
              "      fill: #FFFFFF;\n",
              "    }\n",
              "  </style>\n",
              "\n",
              "      <script>\n",
              "        const buttonEl =\n",
              "          document.querySelector('#df-0403eb69-701a-411f-9b1f-e251114c003a button.colab-df-convert');\n",
              "        buttonEl.style.display =\n",
              "          google.colab.kernel.accessAllowed ? 'block' : 'none';\n",
              "\n",
              "        async function convertToInteractive(key) {\n",
              "          const element = document.querySelector('#df-0403eb69-701a-411f-9b1f-e251114c003a');\n",
              "          const dataTable =\n",
              "            await google.colab.kernel.invokeFunction('convertToInteractive',\n",
              "                                                     [key], {});\n",
              "          if (!dataTable) return;\n",
              "\n",
              "          const docLinkHtml = 'Like what you see? Visit the ' +\n",
              "            '<a target=\"_blank\" href=https://colab.research.google.com/notebooks/data_table.ipynb>data table notebook</a>'\n",
              "            + ' to learn more about interactive tables.';\n",
              "          element.innerHTML = '';\n",
              "          dataTable['output_type'] = 'display_data';\n",
              "          await google.colab.output.renderOutput(dataTable, element);\n",
              "          const docLink = document.createElement('div');\n",
              "          docLink.innerHTML = docLinkHtml;\n",
              "          element.appendChild(docLink);\n",
              "        }\n",
              "      </script>\n",
              "    </div>\n",
              "  </div>\n",
              "  "
            ]
          },
          "metadata": {},
          "execution_count": 7
        }
      ]
    },
    {
      "cell_type": "markdown",
      "source": [
        "There are missing values in \"age\", \"hours-per-week\" and also in \"workclass\", \"native-country\" and \"occupation\". I decided to use different methods to fill nans. For the first case, with age, I just use median. Second thing, I decide to fill \"workclass\" and \"occupation\" using random forest. Third case \"hours-per-week\" will be filled according information from missed data by KMeans method."
      ],
      "metadata": {
        "id": "rByiUbVXa1LU"
      }
    },
    {
      "cell_type": "code",
      "source": [
        "df[\"hours-per-week\"].hist(bins=100)"
      ],
      "metadata": {
        "colab": {
          "base_uri": "https://localhost:8080/",
          "height": 448
        },
        "id": "zP95eNUbQLJm",
        "outputId": "563ccf1c-d8af-44db-ed44-8b77c4dc7bb7"
      },
      "execution_count": 8,
      "outputs": [
        {
          "output_type": "execute_result",
          "data": {
            "text/plain": [
              "<Axes: >"
            ]
          },
          "metadata": {},
          "execution_count": 8
        },
        {
          "output_type": "display_data",
          "data": {
            "text/plain": [
              "<Figure size 640x480 with 1 Axes>"
            ],
            "image/png": "[encoded data removed]"
          },
          "metadata": {}
        }
      ]
    },
    {
      "cell_type": "code",
      "source": [
        "median_age = df.age.median()\n",
        "df[\"age\"] = df[\"age\"].fillna(median_age)"
      ],
      "metadata": {
        "id": "Uu6-Oikwam3H"
      },
      "execution_count": 9,
      "outputs": []
    },
    {
      "cell_type": "markdown",
      "source": [
        "We can see that missong values in the variable \"hours-per-week\" is aboout 10%. Thus we have to fill this values with something. Looking at this histogram plot we can see that the most frequent value is 40 hours a day. So, put it instead of nan"
      ],
      "metadata": {
        "id": "TPhQVIdcQotx"
      }
    },
    {
      "cell_type": "markdown",
      "source": [
        "However, there are cases, where values are hidden (\"?\"). Try to use a RandomForest method to fill missing values"
      ],
      "metadata": {
        "id": "jnTu-Q8j_Pd3"
      }
    },
    {
      "cell_type": "markdown",
      "source": [
        "### RandomForestClassifier"
      ],
      "metadata": {
        "id": "ByvBpKjc_com"
      }
    },
    {
      "cell_type": "code",
      "source": [
        "cat_features = [\"education\", \"marital-status\", \"relationship\", \n",
        "                \"race\", \"gender\", \"income\"] # \"native-country\", \"workclass\", \"occupation\"     "
      ],
      "metadata": {
        "id": "eumYsHZrP-eE"
      },
      "execution_count": 10,
      "outputs": []
    },
    {
      "cell_type": "code",
      "source": [
        "numerical_feat = [\"age\", \"fnlwgt\", \"educational-num\", \n",
        "                  \"capital-gain\", \"capital-loss\"]"
      ],
      "metadata": {
        "id": "MK20CL4ZaPO9"
      },
      "execution_count": 11,
      "outputs": []
    },
    {
      "cell_type": "code",
      "source": [
        "df_change = pd.get_dummies(df, columns = cat_features)"
      ],
      "metadata": {
        "id": "hW2pv-AugpeG"
      },
      "execution_count": 12,
      "outputs": []
    },
    {
      "cell_type": "code",
      "source": [
        "mis_values = df_change[(df_change[\"occupation\"] == \"?\") | (df_change[\"workclass\"] == \"?\") | (df_change[\"native-country\"] == \"?\")]"
      ],
      "metadata": {
        "id": "IjDv7a5dRnjv"
      },
      "execution_count": 13,
      "outputs": []
    },
    {
      "cell_type": "code",
      "source": [
        "df_full = df_change[(df_change[\"occupation\"] != \"?\") & (df_change[\"workclass\"] != \"?\") & (df_change[\"native-country\"] != \"?\")]\n",
        "# df_full = df_full.dropna()"
      ],
      "metadata": {
        "id": "DEi6JJpHXoaF"
      },
      "execution_count": 14,
      "outputs": []
    },
    {
      "cell_type": "code",
      "source": [
        "# drop hours-per-week because there are lots of nans, \n",
        "# but fill it according information from other columns\n",
        "X = df_full.drop(columns = [\"workclass\", \"occupation\", \"native-country\", \"hours-per-week\"])\n",
        "y = df_full[\"native-country\"]"
      ],
      "metadata": {
        "id": "csYn-TtwP-iG"
      },
      "execution_count": 15,
      "outputs": []
    },
    {
      "cell_type": "code",
      "source": [
        "clf = RandomForestClassifier(n_estimators=100, random_state=0)\n",
        "clf.fit(X, y)"
      ],
      "metadata": {
        "colab": {
          "base_uri": "https://localhost:8080/",
          "height": 75
        },
        "id": "y9vlrORDRT5T",
        "outputId": "ad409261-d196-40e0-d1b7-ce26ec34a7b0"
      },
      "execution_count": 16,
      "outputs": [
        {
          "output_type": "execute_result",
          "data": {
            "text/plain": [
              "RandomForestClassifier(random_state=0)"
            ],
            "text/html": [
              "<style>#sk-container-id-1 {color: black;background-color: white;}#sk-container-id-1 pre{padding: 0;}#sk-container-id-1 div.sk-toggleable {background-color: white;}#sk-container-id-1 label.sk-toggleable__label {cursor: pointer;display: block;width: 100%;margin-bottom: 0;padding: 0.3em;box-sizing: border-box;text-align: center;}#sk-container-id-1 label.sk-toggleable__label-arrow:before {content: \"▸\";float: left;margin-right: 0.25em;color: #696969;}#sk-container-id-1 label.sk-toggleable__label-arrow:hover:before {color: black;}#sk-container-id-1 div.sk-estimator:hover label.sk-toggleable__label-arrow:before {color: black;}#sk-container-id-1 div.sk-toggleable__content {max-height: 0;max-width: 0;overflow: hidden;text-align: left;background-color: #f0f8ff;}#sk-container-id-1 div.sk-toggleable__content pre {margin: 0.2em;color: black;border-radius: 0.25em;background-color: #f0f8ff;}#sk-container-id-1 input.sk-toggleable__control:checked~div.sk-toggleable__content {max-height: 200px;max-width: 100%;overflow: auto;}#sk-container-id-1 input.sk-toggleable__control:checked~label.sk-toggleable__label-arrow:before {content: \"▾\";}#sk-container-id-1 div.sk-estimator input.sk-toggleable__control:checked~label.sk-toggleable__label {background-color: #d4ebff;}#sk-container-id-1 div.sk-label input.sk-toggleable__control:checked~label.sk-toggleable__label {background-color: #d4ebff;}#sk-container-id-1 input.sk-hidden--visually {border: 0;clip: rect(1px 1px 1px 1px);clip: rect(1px, 1px, 1px, 1px);height: 1px;margin: -1px;overflow: hidden;padding: 0;position: absolute;width: 1px;}#sk-container-id-1 div.sk-estimator {font-family: monospace;background-color: #f0f8ff;border: 1px dotted black;border-radius: 0.25em;box-sizing: border-box;margin-bottom: 0.5em;}#sk-container-id-1 div.sk-estimator:hover {background-color: #d4ebff;}#sk-container-id-1 div.sk-parallel-item::after {content: \"\";width: 100%;border-bottom: 1px solid gray;flex-grow: 1;}#sk-container-id-1 div.sk-label:hover label.sk-toggleable__label {background-color: #d4ebff;}#sk-container-id-1 div.sk-serial::before {content: \"\";position: absolute;border-left: 1px solid gray;box-sizing: border-box;top: 0;bottom: 0;left: 50%;z-index: 0;}#sk-container-id-1 div.sk-serial {display: flex;flex-direction: column;align-items: center;background-color: white;padding-right: 0.2em;padding-left: 0.2em;position: relative;}#sk-container-id-1 div.sk-item {position: relative;z-index: 1;}#sk-container-id-1 div.sk-parallel {display: flex;align-items: stretch;justify-content: center;background-color: white;position: relative;}#sk-container-id-1 div.sk-item::before, #sk-container-id-1 div.sk-parallel-item::before {content: \"\";position: absolute;border-left: 1px solid gray;box-sizing: border-box;top: 0;bottom: 0;left: 50%;z-index: -1;}#sk-container-id-1 div.sk-parallel-item {display: flex;flex-direction: column;z-index: 1;position: relative;background-color: white;}#sk-container-id-1 div.sk-parallel-item:first-child::after {align-self: flex-end;width: 50%;}#sk-container-id-1 div.sk-parallel-item:last-child::after {align-self: flex-start;width: 50%;}#sk-container-id-1 div.sk-parallel-item:only-child::after {width: 0;}#sk-container-id-1 div.sk-dashed-wrapped {border: 1px dashed gray;margin: 0 0.4em 0.5em 0.4em;box-sizing: border-box;padding-bottom: 0.4em;background-color: white;}#sk-container-id-1 div.sk-label label {font-family: monospace;font-weight: bold;display: inline-block;line-height: 1.2em;}#sk-container-id-1 div.sk-label-container {text-align: center;}#sk-container-id-1 div.sk-container {/* jupyter's `normalize.less` sets `[hidden] { display: none; }` but bootstrap.min.css set `[hidden] { display: none !important; }` so we also need the `!important` here to be able to override the default hidden behavior on the sphinx rendered scikit-learn.org. See: https://github.com/scikit-learn/scikit-learn/issues/21755 */display: inline-block !important;position: relative;}#sk-container-id-1 div.sk-text-repr-fallback {display: none;}</style><div id=\"sk-container-id-1\" class=\"sk-top-container\"><div class=\"sk-text-repr-fallback\"><pre>RandomForestClassifier(random_state=0)</pre><b>In a Jupyter environment, please rerun this cell to show the HTML representation or trust the notebook. <br />On GitHub, the HTML representation is unable to render, please try loading this page with nbviewer.org.</b></div><div class=\"sk-container\" hidden><div class=\"sk-item\"><div class=\"sk-estimator sk-toggleable\"><input class=\"sk-toggleable__control sk-hidden--visually\" id=\"sk-estimator-id-1\" type=\"checkbox\" checked><label for=\"sk-estimator-id-1\" class=\"sk-toggleable__label sk-toggleable__label-arrow\">RandomForestClassifier</label><div class=\"sk-toggleable__content\"><pre>RandomForestClassifier(random_state=0)</pre></div></div></div></div></div>"
            ]
          },
          "metadata": {},
          "execution_count": 16
        }
      ]
    },
    {
      "cell_type": "code",
      "source": [
        "X_test = mis_values.drop(columns = [\"workclass\", \"occupation\", \"native-country\", \"hours-per-week\"])"
      ],
      "metadata": {
        "id": "_5k0F-i3pVYe"
      },
      "execution_count": 17,
      "outputs": []
    },
    {
      "cell_type": "code",
      "source": [
        "mis_values[\"native-country\"] = clf.predict(X_test)"
      ],
      "metadata": {
        "id": "_NDZDEISpbA4"
      },
      "execution_count": 18,
      "outputs": []
    },
    {
      "cell_type": "code",
      "source": [
        "df[\"native-country\"].value_counts()"
      ],
      "metadata": {
        "colab": {
          "base_uri": "https://localhost:8080/"
        },
        "id": "EzJfq_nYPAkU",
        "outputId": "c8342b6c-0e9c-4271-d7e5-3bf046b58598"
      },
      "execution_count": 19,
      "outputs": [
        {
          "output_type": "execute_result",
          "data": {
            "text/plain": [
              "United-States                 8681\n",
              "Mexico                         186\n",
              "?                              164\n",
              "Philippines                     51\n",
              "Puerto-Rico                     41\n",
              "Germany                         41\n",
              "Canada                          34\n",
              "India                           34\n",
              "El-Salvador                     30\n",
              "Cuba                            28\n",
              "England                         21\n",
              "Haiti                           20\n",
              "Poland                          20\n",
              "South                           20\n",
              "China                           19\n",
              "Dominican-Republic              18\n",
              "Portugal                        18\n",
              "Guatemala                       17\n",
              "Jamaica                         15\n",
              "Italy                           15\n",
              "Columbia                        13\n",
              "Ecuador                         13\n",
              "Japan                           12\n",
              "Peru                            11\n",
              "Thailand                        10\n",
              "Nicaragua                        9\n",
              "Greece                           7\n",
              "Vietnam                          7\n",
              "Taiwan                           7\n",
              "Iran                             6\n",
              "Ireland                          6\n",
              "France                           6\n",
              "Cambodia                         5\n",
              "Scotland                         5\n",
              "Honduras                         4\n",
              "Yugoslavia                       4\n",
              "Trinadad&Tobago                  4\n",
              "Outlying-US(Guam-USVI-etc)       4\n",
              "Hungary                          3\n",
              "Hong                             3\n",
              "Laos                             2\n",
              "Name: native-country, dtype: int64"
            ]
          },
          "metadata": {},
          "execution_count": 19
        }
      ]
    },
    {
      "cell_type": "code",
      "source": [
        "mis_values[\"native-country\"].value_counts()"
      ],
      "metadata": {
        "colab": {
          "base_uri": "https://localhost:8080/"
        },
        "id": "vInWpGlIP-nS",
        "outputId": "b02e7d8c-3b1d-4179-e091-e44a05151a14"
      },
      "execution_count": 20,
      "outputs": [
        {
          "output_type": "execute_result",
          "data": {
            "text/plain": [
              "United-States         703\n",
              "Mexico                 10\n",
              "Philippines             9\n",
              "India                   8\n",
              "Columbia                2\n",
              "China                   2\n",
              "Guatemala               1\n",
              "Peru                    1\n",
              "Dominican-Republic      1\n",
              "Name: native-country, dtype: int64"
            ]
          },
          "metadata": {},
          "execution_count": 20
        }
      ]
    },
    {
      "cell_type": "markdown",
      "source": [
        "In some case the proportion between countries is saved. Thus, the tree gives not so random answers"
      ],
      "metadata": {
        "id": "DpfZldDYPMgu"
      }
    },
    {
      "cell_type": "code",
      "source": [
        "df_new = pd.concat([df_full, mis_values])"
      ],
      "metadata": {
        "id": "6mCpMxCfqubi"
      },
      "execution_count": 21,
      "outputs": []
    },
    {
      "cell_type": "markdown",
      "source": [
        "Do the same things again for \"occupation\""
      ],
      "metadata": {
        "id": "hON_gYj3qwHf"
      }
    },
    {
      "cell_type": "code",
      "source": [
        "cat_features = [\"native-country\"]"
      ],
      "metadata": {
        "id": "JVUA9wc7yw1C"
      },
      "execution_count": 22,
      "outputs": []
    },
    {
      "cell_type": "code",
      "source": [
        "df_change = pd.get_dummies(df_new, columns = cat_features)"
      ],
      "metadata": {
        "id": "Nxjvv9Gjy2hb"
      },
      "execution_count": 23,
      "outputs": []
    },
    {
      "cell_type": "code",
      "source": [
        "mis_values = df_change[(df_change[\"occupation\"] == \"?\") | (df_change[\"workclass\"] == \"?\")]\n",
        "df_full = df_change[(df_change[\"occupation\"] != \"?\") & (df_change[\"workclass\"] != \"?\")]"
      ],
      "metadata": {
        "id": "ax4auSOHq1E4"
      },
      "execution_count": 24,
      "outputs": []
    },
    {
      "cell_type": "code",
      "source": [
        "X = df_full.drop(columns = [\"workclass\", \"occupation\", \"hours-per-week\", \"hours-per-week\"])\n",
        "y = df_full[\"workclass\"]"
      ],
      "metadata": {
        "id": "s034Kc1Eq1Hz"
      },
      "execution_count": 25,
      "outputs": []
    },
    {
      "cell_type": "code",
      "source": [
        "clf = RandomForestClassifier(n_estimators=100, random_state=0)\n",
        "clf.fit(X, y)"
      ],
      "metadata": {
        "colab": {
          "base_uri": "https://localhost:8080/",
          "height": 75
        },
        "id": "6oBd9_JnypbO",
        "outputId": "07c48093-18b6-4d42-e96e-ad2626d7feb4"
      },
      "execution_count": 26,
      "outputs": [
        {
          "output_type": "execute_result",
          "data": {
            "text/plain": [
              "RandomForestClassifier(random_state=0)"
            ],
            "text/html": [
              "<style>#sk-container-id-2 {color: black;background-color: white;}#sk-container-id-2 pre{padding: 0;}#sk-container-id-2 div.sk-toggleable {background-color: white;}#sk-container-id-2 label.sk-toggleable__label {cursor: pointer;display: block;width: 100%;margin-bottom: 0;padding: 0.3em;box-sizing: border-box;text-align: center;}#sk-container-id-2 label.sk-toggleable__label-arrow:before {content: \"▸\";float: left;margin-right: 0.25em;color: #696969;}#sk-container-id-2 label.sk-toggleable__label-arrow:hover:before {color: black;}#sk-container-id-2 div.sk-estimator:hover label.sk-toggleable__label-arrow:before {color: black;}#sk-container-id-2 div.sk-toggleable__content {max-height: 0;max-width: 0;overflow: hidden;text-align: left;background-color: #f0f8ff;}#sk-container-id-2 div.sk-toggleable__content pre {margin: 0.2em;color: black;border-radius: 0.25em;background-color: #f0f8ff;}#sk-container-id-2 input.sk-toggleable__control:checked~div.sk-toggleable__content {max-height: 200px;max-width: 100%;overflow: auto;}#sk-container-id-2 input.sk-toggleable__control:checked~label.sk-toggleable__label-arrow:before {content: \"▾\";}#sk-container-id-2 div.sk-estimator input.sk-toggleable__control:checked~label.sk-toggleable__label {background-color: #d4ebff;}#sk-container-id-2 div.sk-label input.sk-toggleable__control:checked~label.sk-toggleable__label {background-color: #d4ebff;}#sk-container-id-2 input.sk-hidden--visually {border: 0;clip: rect(1px 1px 1px 1px);clip: rect(1px, 1px, 1px, 1px);height: 1px;margin: -1px;overflow: hidden;padding: 0;position: absolute;width: 1px;}#sk-container-id-2 div.sk-estimator {font-family: monospace;background-color: #f0f8ff;border: 1px dotted black;border-radius: 0.25em;box-sizing: border-box;margin-bottom: 0.5em;}#sk-container-id-2 div.sk-estimator:hover {background-color: #d4ebff;}#sk-container-id-2 div.sk-parallel-item::after {content: \"\";width: 100%;border-bottom: 1px solid gray;flex-grow: 1;}#sk-container-id-2 div.sk-label:hover label.sk-toggleable__label {background-color: #d4ebff;}#sk-container-id-2 div.sk-serial::before {content: \"\";position: absolute;border-left: 1px solid gray;box-sizing: border-box;top: 0;bottom: 0;left: 50%;z-index: 0;}#sk-container-id-2 div.sk-serial {display: flex;flex-direction: column;align-items: center;background-color: white;padding-right: 0.2em;padding-left: 0.2em;position: relative;}#sk-container-id-2 div.sk-item {position: relative;z-index: 1;}#sk-container-id-2 div.sk-parallel {display: flex;align-items: stretch;justify-content: center;background-color: white;position: relative;}#sk-container-id-2 div.sk-item::before, #sk-container-id-2 div.sk-parallel-item::before {content: \"\";position: absolute;border-left: 1px solid gray;box-sizing: border-box;top: 0;bottom: 0;left: 50%;z-index: -1;}#sk-container-id-2 div.sk-parallel-item {display: flex;flex-direction: column;z-index: 1;position: relative;background-color: white;}#sk-container-id-2 div.sk-parallel-item:first-child::after {align-self: flex-end;width: 50%;}#sk-container-id-2 div.sk-parallel-item:last-child::after {align-self: flex-start;width: 50%;}#sk-container-id-2 div.sk-parallel-item:only-child::after {width: 0;}#sk-container-id-2 div.sk-dashed-wrapped {border: 1px dashed gray;margin: 0 0.4em 0.5em 0.4em;box-sizing: border-box;padding-bottom: 0.4em;background-color: white;}#sk-container-id-2 div.sk-label label {font-family: monospace;font-weight: bold;display: inline-block;line-height: 1.2em;}#sk-container-id-2 div.sk-label-container {text-align: center;}#sk-container-id-2 div.sk-container {/* jupyter's `normalize.less` sets `[hidden] { display: none; }` but bootstrap.min.css set `[hidden] { display: none !important; }` so we also need the `!important` here to be able to override the default hidden behavior on the sphinx rendered scikit-learn.org. See: https://github.com/scikit-learn/scikit-learn/issues/21755 */display: inline-block !important;position: relative;}#sk-container-id-2 div.sk-text-repr-fallback {display: none;}</style><div id=\"sk-container-id-2\" class=\"sk-top-container\"><div class=\"sk-text-repr-fallback\"><pre>RandomForestClassifier(random_state=0)</pre><b>In a Jupyter environment, please rerun this cell to show the HTML representation or trust the notebook. <br />On GitHub, the HTML representation is unable to render, please try loading this page with nbviewer.org.</b></div><div class=\"sk-container\" hidden><div class=\"sk-item\"><div class=\"sk-estimator sk-toggleable\"><input class=\"sk-toggleable__control sk-hidden--visually\" id=\"sk-estimator-id-2\" type=\"checkbox\" checked><label for=\"sk-estimator-id-2\" class=\"sk-toggleable__label sk-toggleable__label-arrow\">RandomForestClassifier</label><div class=\"sk-toggleable__content\"><pre>RandomForestClassifier(random_state=0)</pre></div></div></div></div></div>"
            ]
          },
          "metadata": {},
          "execution_count": 26
        }
      ]
    },
    {
      "cell_type": "code",
      "source": [
        "X_test = mis_values.drop(columns = [\"workclass\", \"occupation\", \"hours-per-week\", \"hours-per-week\"])"
      ],
      "metadata": {
        "id": "UuuWdlUbypl9"
      },
      "execution_count": 27,
      "outputs": []
    },
    {
      "cell_type": "code",
      "source": [
        "mis_values[\"workclass\"] = clf.predict(X_test)"
      ],
      "metadata": {
        "id": "vqjh-ntpypq8"
      },
      "execution_count": 28,
      "outputs": []
    },
    {
      "cell_type": "code",
      "source": [
        "df[\"workclass\"].value_counts()"
      ],
      "metadata": {
        "colab": {
          "base_uri": "https://localhost:8080/"
        },
        "id": "Xe_L-VnrQYbi",
        "outputId": "d7c8169a-15e4-494d-e7bc-876c9e88b40f"
      },
      "execution_count": 29,
      "outputs": [
        {
          "output_type": "execute_result",
          "data": {
            "text/plain": [
              "Private             6573\n",
              "Self-emp-not-inc     782\n",
              "Local-gov            609\n",
              "?                    584\n",
              "State-gov            429\n",
              "Self-emp-inc         353\n",
              "Federal-gov          279\n",
              "Without-pay            4\n",
              "Never-worked           1\n",
              "Name: workclass, dtype: int64"
            ]
          },
          "metadata": {},
          "execution_count": 29
        }
      ]
    },
    {
      "cell_type": "code",
      "source": [
        "mis_values[\"workclass\"].value_counts()"
      ],
      "metadata": {
        "colab": {
          "base_uri": "https://localhost:8080/"
        },
        "id": "JB7XuiNTzbV4",
        "outputId": "28541aaa-bdb5-4dd9-dfd4-2b45b2c728a4"
      },
      "execution_count": 30,
      "outputs": [
        {
          "output_type": "execute_result",
          "data": {
            "text/plain": [
              "Private             513\n",
              "Self-emp-not-inc     44\n",
              "Local-gov            16\n",
              "Self-emp-inc          5\n",
              "State-gov             5\n",
              "Federal-gov           2\n",
              "Name: workclass, dtype: int64"
            ]
          },
          "metadata": {},
          "execution_count": 30
        }
      ]
    },
    {
      "cell_type": "markdown",
      "source": [
        "Again the proportion between categories is saved"
      ],
      "metadata": {
        "id": "z6vtos_OQf4p"
      }
    },
    {
      "cell_type": "code",
      "source": [
        "df_new = pd.concat([df_full, mis_values])"
      ],
      "metadata": {
        "id": "fcGOG3ByzbYv"
      },
      "execution_count": 31,
      "outputs": []
    },
    {
      "cell_type": "markdown",
      "source": [
        "And for \"work-class\""
      ],
      "metadata": {
        "id": "7VjvsQrqzlze"
      }
    },
    {
      "cell_type": "code",
      "source": [
        "cat_features = [\"workclass\"]"
      ],
      "metadata": {
        "id": "suZoy2X6ziiw"
      },
      "execution_count": 32,
      "outputs": []
    },
    {
      "cell_type": "code",
      "source": [
        "df_change = pd.get_dummies(df_new, columns = cat_features)"
      ],
      "metadata": {
        "id": "T7kWirsazilc"
      },
      "execution_count": 33,
      "outputs": []
    },
    {
      "cell_type": "code",
      "source": [
        "mis_values = df_change[(df_change[\"occupation\"] == \"?\")]\n",
        "df_full = df_change[(df_change[\"occupation\"] != \"?\")]"
      ],
      "metadata": {
        "id": "RkN3gqPTzwq8"
      },
      "execution_count": 34,
      "outputs": []
    },
    {
      "cell_type": "code",
      "source": [
        "X = df_full.drop(columns = [\"occupation\", \"hours-per-week\", \"hours-per-week\"])\n",
        "y = df_full[\"occupation\"]"
      ],
      "metadata": {
        "id": "GuxwlzsyzwuY"
      },
      "execution_count": 35,
      "outputs": []
    },
    {
      "cell_type": "code",
      "source": [
        "clf = RandomForestClassifier(n_estimators=100, random_state=0)\n",
        "clf.fit(X, y)"
      ],
      "metadata": {
        "colab": {
          "base_uri": "https://localhost:8080/",
          "height": 75
        },
        "id": "8SiE8huEzwzI",
        "outputId": "f5c56f1c-4d3d-48eb-b920-169fd0c11037"
      },
      "execution_count": 36,
      "outputs": [
        {
          "output_type": "execute_result",
          "data": {
            "text/plain": [
              "RandomForestClassifier(random_state=0)"
            ],
            "text/html": [
              "<style>#sk-container-id-3 {color: black;background-color: white;}#sk-container-id-3 pre{padding: 0;}#sk-container-id-3 div.sk-toggleable {background-color: white;}#sk-container-id-3 label.sk-toggleable__label {cursor: pointer;display: block;width: 100%;margin-bottom: 0;padding: 0.3em;box-sizing: border-box;text-align: center;}#sk-container-id-3 label.sk-toggleable__label-arrow:before {content: \"▸\";float: left;margin-right: 0.25em;color: #696969;}#sk-container-id-3 label.sk-toggleable__label-arrow:hover:before {color: black;}#sk-container-id-3 div.sk-estimator:hover label.sk-toggleable__label-arrow:before {color: black;}#sk-container-id-3 div.sk-toggleable__content {max-height: 0;max-width: 0;overflow: hidden;text-align: left;background-color: #f0f8ff;}#sk-container-id-3 div.sk-toggleable__content pre {margin: 0.2em;color: black;border-radius: 0.25em;background-color: #f0f8ff;}#sk-container-id-3 input.sk-toggleable__control:checked~div.sk-toggleable__content {max-height: 200px;max-width: 100%;overflow: auto;}#sk-container-id-3 input.sk-toggleable__control:checked~label.sk-toggleable__label-arrow:before {content: \"▾\";}#sk-container-id-3 div.sk-estimator input.sk-toggleable__control:checked~label.sk-toggleable__label {background-color: #d4ebff;}#sk-container-id-3 div.sk-label input.sk-toggleable__control:checked~label.sk-toggleable__label {background-color: #d4ebff;}#sk-container-id-3 input.sk-hidden--visually {border: 0;clip: rect(1px 1px 1px 1px);clip: rect(1px, 1px, 1px, 1px);height: 1px;margin: -1px;overflow: hidden;padding: 0;position: absolute;width: 1px;}#sk-container-id-3 div.sk-estimator {font-family: monospace;background-color: #f0f8ff;border: 1px dotted black;border-radius: 0.25em;box-sizing: border-box;margin-bottom: 0.5em;}#sk-container-id-3 div.sk-estimator:hover {background-color: #d4ebff;}#sk-container-id-3 div.sk-parallel-item::after {content: \"\";width: 100%;border-bottom: 1px solid gray;flex-grow: 1;}#sk-container-id-3 div.sk-label:hover label.sk-toggleable__label {background-color: #d4ebff;}#sk-container-id-3 div.sk-serial::before {content: \"\";position: absolute;border-left: 1px solid gray;box-sizing: border-box;top: 0;bottom: 0;left: 50%;z-index: 0;}#sk-container-id-3 div.sk-serial {display: flex;flex-direction: column;align-items: center;background-color: white;padding-right: 0.2em;padding-left: 0.2em;position: relative;}#sk-container-id-3 div.sk-item {position: relative;z-index: 1;}#sk-container-id-3 div.sk-parallel {display: flex;align-items: stretch;justify-content: center;background-color: white;position: relative;}#sk-container-id-3 div.sk-item::before, #sk-container-id-3 div.sk-parallel-item::before {content: \"\";position: absolute;border-left: 1px solid gray;box-sizing: border-box;top: 0;bottom: 0;left: 50%;z-index: -1;}#sk-container-id-3 div.sk-parallel-item {display: flex;flex-direction: column;z-index: 1;position: relative;background-color: white;}#sk-container-id-3 div.sk-parallel-item:first-child::after {align-self: flex-end;width: 50%;}#sk-container-id-3 div.sk-parallel-item:last-child::after {align-self: flex-start;width: 50%;}#sk-container-id-3 div.sk-parallel-item:only-child::after {width: 0;}#sk-container-id-3 div.sk-dashed-wrapped {border: 1px dashed gray;margin: 0 0.4em 0.5em 0.4em;box-sizing: border-box;padding-bottom: 0.4em;background-color: white;}#sk-container-id-3 div.sk-label label {font-family: monospace;font-weight: bold;display: inline-block;line-height: 1.2em;}#sk-container-id-3 div.sk-label-container {text-align: center;}#sk-container-id-3 div.sk-container {/* jupyter's `normalize.less` sets `[hidden] { display: none; }` but bootstrap.min.css set `[hidden] { display: none !important; }` so we also need the `!important` here to be able to override the default hidden behavior on the sphinx rendered scikit-learn.org. See: https://github.com/scikit-learn/scikit-learn/issues/21755 */display: inline-block !important;position: relative;}#sk-container-id-3 div.sk-text-repr-fallback {display: none;}</style><div id=\"sk-container-id-3\" class=\"sk-top-container\"><div class=\"sk-text-repr-fallback\"><pre>RandomForestClassifier(random_state=0)</pre><b>In a Jupyter environment, please rerun this cell to show the HTML representation or trust the notebook. <br />On GitHub, the HTML representation is unable to render, please try loading this page with nbviewer.org.</b></div><div class=\"sk-container\" hidden><div class=\"sk-item\"><div class=\"sk-estimator sk-toggleable\"><input class=\"sk-toggleable__control sk-hidden--visually\" id=\"sk-estimator-id-3\" type=\"checkbox\" checked><label for=\"sk-estimator-id-3\" class=\"sk-toggleable__label sk-toggleable__label-arrow\">RandomForestClassifier</label><div class=\"sk-toggleable__content\"><pre>RandomForestClassifier(random_state=0)</pre></div></div></div></div></div>"
            ]
          },
          "metadata": {},
          "execution_count": 36
        }
      ]
    },
    {
      "cell_type": "code",
      "source": [
        "X_test = mis_values.drop(columns = [\"occupation\", \"hours-per-week\"])"
      ],
      "metadata": {
        "id": "ukLunu8Gzw2c"
      },
      "execution_count": 37,
      "outputs": []
    },
    {
      "cell_type": "code",
      "source": [
        "mis_values[\"occupation\"] = clf.predict(X_test)"
      ],
      "metadata": {
        "id": "Hl5mFo7ezw7q"
      },
      "execution_count": 38,
      "outputs": []
    },
    {
      "cell_type": "code",
      "source": [
        "df[\"occupation\"].value_counts()"
      ],
      "metadata": {
        "colab": {
          "base_uri": "https://localhost:8080/"
        },
        "id": "Mb22Tq6NQouE",
        "outputId": "f714e439-61d6-4606-cfa6-66fe2758b4ff"
      },
      "execution_count": 39,
      "outputs": [
        {
          "output_type": "execute_result",
          "data": {
            "text/plain": [
              "Prof-specialty       1222\n",
              "Exec-managerial      1213\n",
              "Craft-repair         1183\n",
              "Adm-clerical         1079\n",
              "Sales                1065\n",
              "Other-service         960\n",
              "Machine-op-inspct     621\n",
              "?                     585\n",
              "Transport-moving      429\n",
              "Handlers-cleaners     414\n",
              "Farming-fishing       310\n",
              "Tech-support          279\n",
              "Protective-serv       194\n",
              "Priv-house-serv        57\n",
              "Armed-Forces            3\n",
              "Name: occupation, dtype: int64"
            ]
          },
          "metadata": {},
          "execution_count": 39
        }
      ]
    },
    {
      "cell_type": "code",
      "source": [
        "mis_values[\"occupation\"].value_counts()"
      ],
      "metadata": {
        "colab": {
          "base_uri": "https://localhost:8080/"
        },
        "id": "_BMd_CyZ0Lk3",
        "outputId": "0fc57256-a7e8-4d86-80d9-95310d56d930"
      },
      "execution_count": 40,
      "outputs": [
        {
          "output_type": "execute_result",
          "data": {
            "text/plain": [
              "Other-service        128\n",
              "Adm-clerical          94\n",
              "Sales                 91\n",
              "Craft-repair          57\n",
              "Exec-managerial       47\n",
              "Machine-op-inspct     36\n",
              "Prof-specialty        32\n",
              "Transport-moving      27\n",
              "Handlers-cleaners     26\n",
              "Farming-fishing       25\n",
              "Tech-support          12\n",
              "Priv-house-serv        6\n",
              "Protective-serv        4\n",
              "Name: occupation, dtype: int64"
            ]
          },
          "metadata": {},
          "execution_count": 40
        }
      ]
    },
    {
      "cell_type": "markdown",
      "source": [
        "In this case the proportion is not the same. And I hope this is because it is one of the last category that allows to make predictions more carefully"
      ],
      "metadata": {
        "id": "209qBcEDQ7ZN"
      }
    },
    {
      "cell_type": "code",
      "source": [
        "df_new = pd.concat([df_full, mis_values])"
      ],
      "metadata": {
        "id": "Fj40Ocye0Lng"
      },
      "execution_count": 41,
      "outputs": []
    },
    {
      "cell_type": "code",
      "source": [
        "df_new.shape"
      ],
      "metadata": {
        "colab": {
          "base_uri": "https://localhost:8080/"
        },
        "id": "twRj1kuH0zjx",
        "outputId": "97efbb1a-83bb-4205-cd58-dd7d27341cc9"
      },
      "execution_count": 42,
      "outputs": [
        {
          "output_type": "execute_result",
          "data": {
            "text/plain": [
              "(9614, 92)"
            ]
          },
          "metadata": {},
          "execution_count": 42
        }
      ]
    },
    {
      "cell_type": "markdown",
      "source": [
        "The last feature is \"hours-per-week\". Let's try to apply clusterization. Then according to classes I fill missing values of hours-per-week"
      ],
      "metadata": {
        "id": "uu_KHpti5ion"
      }
    },
    {
      "cell_type": "code",
      "source": [
        "cat_features = [\"occupation\"]"
      ],
      "metadata": {
        "id": "Be6jG2AD9wdr"
      },
      "execution_count": 43,
      "outputs": []
    },
    {
      "cell_type": "code",
      "source": [
        "df_change = pd.get_dummies(df_new, columns = cat_features)"
      ],
      "metadata": {
        "id": "_KekzXkm91Ko"
      },
      "execution_count": 44,
      "outputs": []
    },
    {
      "cell_type": "code",
      "source": [
        "# Scale our values, use MinMax as we have categirical features\n",
        "mms = MinMaxScaler()\n",
        "mms.fit(df_change.drop(columns=\"hours-per-week\"))\n",
        "df_transformed = mms.transform(df_change.drop(columns=\"hours-per-week\"))"
      ],
      "metadata": {
        "id": "c2hk1A0r0VUY"
      },
      "execution_count": 45,
      "outputs": []
    },
    {
      "cell_type": "code",
      "source": [
        "# Elbow method to find an optimal numer of clusters\n",
        "Sum_of_squared_distances = []\n",
        "K = range(1, 15)\n",
        "for k in K:\n",
        "    km = KMeans(n_clusters=k)\n",
        "    km = km.fit(df_transformed)\n",
        "    Sum_of_squared_distances.append(km.inertia_)"
      ],
      "metadata": {
        "id": "vHPDYFXr9b57"
      },
      "execution_count": 46,
      "outputs": []
    },
    {
      "cell_type": "code",
      "source": [
        "plt.plot(K, Sum_of_squared_distances, 'bx-')\n",
        "plt.xlabel('k')\n",
        "plt.ylabel('Sum_of_squared_distances')\n",
        "plt.title('Elbow Method For Optimal k')\n",
        "plt.show()"
      ],
      "metadata": {
        "colab": {
          "base_uri": "https://localhost:8080/",
          "height": 472
        },
        "id": "W4cgdrXb9b86",
        "outputId": "6ca3ea10-9a5f-4cc3-cf9a-81e556907788"
      },
      "execution_count": 47,
      "outputs": [
        {
          "output_type": "display_data",
          "data": {
            "text/plain": [
              "<Figure size 640x480 with 1 Axes>"
            ],
            "image/png": "[encoded data removed]"
          },
          "metadata": {}
        }
      ]
    },
    {
      "cell_type": "markdown",
      "source": [
        "This is an elbow method even if we don't have a peak here. I will choose number of clusters = 7, as we can see, that we have lower additional qualuty here"
      ],
      "metadata": {
        "id": "h__g7U0C_OFw"
      }
    },
    {
      "cell_type": "code",
      "source": [
        "kmeans = KMeans(n_clusters=7, random_state=0)\n",
        "kmeans.fit(df_transformed)"
      ],
      "metadata": {
        "colab": {
          "base_uri": "https://localhost:8080/",
          "height": 75
        },
        "id": "2tv16M5w9cDr",
        "outputId": "8b4fd9b9-28ce-4548-c3c9-eac0ae7f9422"
      },
      "execution_count": 48,
      "outputs": [
        {
          "output_type": "execute_result",
          "data": {
            "text/plain": [
              "KMeans(n_clusters=7, random_state=0)"
            ],
            "text/html": [
              "<style>#sk-container-id-4 {color: black;background-color: white;}#sk-container-id-4 pre{padding: 0;}#sk-container-id-4 div.sk-toggleable {background-color: white;}#sk-container-id-4 label.sk-toggleable__label {cursor: pointer;display: block;width: 100%;margin-bottom: 0;padding: 0.3em;box-sizing: border-box;text-align: center;}#sk-container-id-4 label.sk-toggleable__label-arrow:before {content: \"▸\";float: left;margin-right: 0.25em;color: #696969;}#sk-container-id-4 label.sk-toggleable__label-arrow:hover:before {color: black;}#sk-container-id-4 div.sk-estimator:hover label.sk-toggleable__label-arrow:before {color: black;}#sk-container-id-4 div.sk-toggleable__content {max-height: 0;max-width: 0;overflow: hidden;text-align: left;background-color: #f0f8ff;}#sk-container-id-4 div.sk-toggleable__content pre {margin: 0.2em;color: black;border-radius: 0.25em;background-color: #f0f8ff;}#sk-container-id-4 input.sk-toggleable__control:checked~div.sk-toggleable__content {max-height: 200px;max-width: 100%;overflow: auto;}#sk-container-id-4 input.sk-toggleable__control:checked~label.sk-toggleable__label-arrow:before {content: \"▾\";}#sk-container-id-4 div.sk-estimator input.sk-toggleable__control:checked~label.sk-toggleable__label {background-color: #d4ebff;}#sk-container-id-4 div.sk-label input.sk-toggleable__control:checked~label.sk-toggleable__label {background-color: #d4ebff;}#sk-container-id-4 input.sk-hidden--visually {border: 0;clip: rect(1px 1px 1px 1px);clip: rect(1px, 1px, 1px, 1px);height: 1px;margin: -1px;overflow: hidden;padding: 0;position: absolute;width: 1px;}#sk-container-id-4 div.sk-estimator {font-family: monospace;background-color: #f0f8ff;border: 1px dotted black;border-radius: 0.25em;box-sizing: border-box;margin-bottom: 0.5em;}#sk-container-id-4 div.sk-estimator:hover {background-color: #d4ebff;}#sk-container-id-4 div.sk-parallel-item::after {content: \"\";width: 100%;border-bottom: 1px solid gray;flex-grow: 1;}#sk-container-id-4 div.sk-label:hover label.sk-toggleable__label {background-color: #d4ebff;}#sk-container-id-4 div.sk-serial::before {content: \"\";position: absolute;border-left: 1px solid gray;box-sizing: border-box;top: 0;bottom: 0;left: 50%;z-index: 0;}#sk-container-id-4 div.sk-serial {display: flex;flex-direction: column;align-items: center;background-color: white;padding-right: 0.2em;padding-left: 0.2em;position: relative;}#sk-container-id-4 div.sk-item {position: relative;z-index: 1;}#sk-container-id-4 div.sk-parallel {display: flex;align-items: stretch;justify-content: center;background-color: white;position: relative;}#sk-container-id-4 div.sk-item::before, #sk-container-id-4 div.sk-parallel-item::before {content: \"\";position: absolute;border-left: 1px solid gray;box-sizing: border-box;top: 0;bottom: 0;left: 50%;z-index: -1;}#sk-container-id-4 div.sk-parallel-item {display: flex;flex-direction: column;z-index: 1;position: relative;background-color: white;}#sk-container-id-4 div.sk-parallel-item:first-child::after {align-self: flex-end;width: 50%;}#sk-container-id-4 div.sk-parallel-item:last-child::after {align-self: flex-start;width: 50%;}#sk-container-id-4 div.sk-parallel-item:only-child::after {width: 0;}#sk-container-id-4 div.sk-dashed-wrapped {border: 1px dashed gray;margin: 0 0.4em 0.5em 0.4em;box-sizing: border-box;padding-bottom: 0.4em;background-color: white;}#sk-container-id-4 div.sk-label label {font-family: monospace;font-weight: bold;display: inline-block;line-height: 1.2em;}#sk-container-id-4 div.sk-label-container {text-align: center;}#sk-container-id-4 div.sk-container {/* jupyter's `normalize.less` sets `[hidden] { display: none; }` but bootstrap.min.css set `[hidden] { display: none !important; }` so we also need the `!important` here to be able to override the default hidden behavior on the sphinx rendered scikit-learn.org. See: https://github.com/scikit-learn/scikit-learn/issues/21755 */display: inline-block !important;position: relative;}#sk-container-id-4 div.sk-text-repr-fallback {display: none;}</style><div id=\"sk-container-id-4\" class=\"sk-top-container\"><div class=\"sk-text-repr-fallback\"><pre>KMeans(n_clusters=7, random_state=0)</pre><b>In a Jupyter environment, please rerun this cell to show the HTML representation or trust the notebook. <br />On GitHub, the HTML representation is unable to render, please try loading this page with nbviewer.org.</b></div><div class=\"sk-container\" hidden><div class=\"sk-item\"><div class=\"sk-estimator sk-toggleable\"><input class=\"sk-toggleable__control sk-hidden--visually\" id=\"sk-estimator-id-4\" type=\"checkbox\" checked><label for=\"sk-estimator-id-4\" class=\"sk-toggleable__label sk-toggleable__label-arrow\">KMeans</label><div class=\"sk-toggleable__content\"><pre>KMeans(n_clusters=7, random_state=0)</pre></div></div></div></div></div>"
            ]
          },
          "metadata": {},
          "execution_count": 48
        }
      ]
    },
    {
      "cell_type": "code",
      "source": [
        "df_change['cluster'] = kmeans.predict(df_transformed)"
      ],
      "metadata": {
        "id": "kkiOFsUb9cIK"
      },
      "execution_count": 49,
      "outputs": []
    },
    {
      "cell_type": "code",
      "source": [
        "df_change[\"hours-per-week\"] = df_change.groupby(\"cluster\")[\"hours-per-week\"].apply(lambda x: x.fillna(x.median()))"
      ],
      "metadata": {
        "id": "qmddPsJ9Gu6s"
      },
      "execution_count": 50,
      "outputs": []
    },
    {
      "cell_type": "code",
      "source": [
        "df_change.isna().sum()"
      ],
      "metadata": {
        "colab": {
          "base_uri": "https://localhost:8080/"
        },
        "id": "42cm_zJ3KbkP",
        "outputId": "57f0ebdc-5c18-4d3a-8c11-189d5107788a"
      },
      "execution_count": 51,
      "outputs": [
        {
          "output_type": "execute_result",
          "data": {
            "text/plain": [
              "age                            0\n",
              "fnlwgt                         0\n",
              "educational-num                0\n",
              "capital-gain                   0\n",
              "capital-loss                   0\n",
              "                              ..\n",
              "occupation_Protective-serv     0\n",
              "occupation_Sales               0\n",
              "occupation_Tech-support        0\n",
              "occupation_Transport-moving    0\n",
              "cluster                        0\n",
              "Length: 106, dtype: int64"
            ]
          },
          "metadata": {},
          "execution_count": 51
        }
      ]
    },
    {
      "cell_type": "markdown",
      "source": [
        "### Main characteristics"
      ],
      "metadata": {
        "id": "2nouWWLZl6oA"
      }
    },
    {
      "cell_type": "code",
      "source": [
        "# There is a class disbalance\n",
        "df['income'].value_counts(normalize=True)"
      ],
      "metadata": {
        "id": "EuBlDOeX5JM5",
        "colab": {
          "base_uri": "https://localhost:8080/"
        },
        "outputId": "be66dcae-968a-4f9c-d7c5-2604c784ab74"
      },
      "execution_count": 52,
      "outputs": [
        {
          "output_type": "execute_result",
          "data": {
            "text/plain": [
              "<=50K    0.765134\n",
              ">50K     0.234866\n",
              "Name: income, dtype: float64"
            ]
          },
          "metadata": {},
          "execution_count": 52
        }
      ]
    },
    {
      "cell_type": "code",
      "source": [
        "df.describe()"
      ],
      "metadata": {
        "id": "B5qadSUDl-vu",
        "colab": {
          "base_uri": "https://localhost:8080/",
          "height": 300
        },
        "outputId": "60989f09-edf4-4426-b082-8d8011f1dd0f"
      },
      "execution_count": 53,
      "outputs": [
        {
          "output_type": "execute_result",
          "data": {
            "text/plain": [
              "               age        fnlwgt  educational-num  capital-gain  capital-loss  \\\n",
              "count  9614.000000  9.614000e+03      9614.000000   9614.000000   9614.000000   \n",
              "mean     38.604327  1.882948e+05        10.080092   1121.998232     87.926669   \n",
              "std      13.362983  1.051352e+05         2.562733   7890.578253    404.085647   \n",
              "min      17.000000  1.376900e+04         1.000000      0.000000      0.000000   \n",
              "25%      28.000000  1.154652e+05         9.000000      0.000000      0.000000   \n",
              "50%      37.000000  1.778450e+05        10.000000      0.000000      0.000000   \n",
              "75%      47.000000  2.374175e+05        12.000000      0.000000      0.000000   \n",
              "max      90.000000  1.490400e+06        16.000000  99999.000000   3770.000000   \n",
              "\n",
              "       hours-per-week  \n",
              "count     8543.000000  \n",
              "mean        40.475126  \n",
              "std         12.340030  \n",
              "min          1.000000  \n",
              "25%         40.000000  \n",
              "50%         40.000000  \n",
              "75%         45.000000  \n",
              "max         99.000000  "
            ],
            "text/html": [
              "\n",
              "  <div id=\"df-62543b78-1a8a-41b1-8a13-c2a1017298fa\">\n",
              "    <div class=\"colab-df-container\">\n",
              "      <div>\n",
              "<style scoped>\n",
              "    .dataframe tbody tr th:only-of-type {\n",
              "        vertical-align: middle;\n",
              "    }\n",
              "\n",
              "    .dataframe tbody tr th {\n",
              "        vertical-align: top;\n",
              "    }\n",
              "\n",
              "    .dataframe thead th {\n",
              "        text-align: right;\n",
              "    }\n",
              "</style>\n",
              "<table border=\"1\" class=\"dataframe\">\n",
              "  <thead>\n",
              "    <tr style=\"text-align: right;\">\n",
              "      <th></th>\n",
              "      <th>age</th>\n",
              "      <th>fnlwgt</th>\n",
              "      <th>educational-num</th>\n",
              "      <th>capital-gain</th>\n",
              "      <th>capital-loss</th>\n",
              "      <th>hours-per-week</th>\n",
              "    </tr>\n",
              "  </thead>\n",
              "  <tbody>\n",
              "    <tr>\n",
              "      <th>count</th>\n",
              "      <td>9614.000000</td>\n",
              "      <td>9.614000e+03</td>\n",
              "      <td>9614.000000</td>\n",
              "      <td>9614.000000</td>\n",
              "      <td>9614.000000</td>\n",
              "      <td>8543.000000</td>\n",
              "    </tr>\n",
              "    <tr>\n",
              "      <th>mean</th>\n",
              "      <td>38.604327</td>\n",
              "      <td>1.882948e+05</td>\n",
              "      <td>10.080092</td>\n",
              "      <td>1121.998232</td>\n",
              "      <td>87.926669</td>\n",
              "      <td>40.475126</td>\n",
              "    </tr>\n",
              "    <tr>\n",
              "      <th>std</th>\n",
              "      <td>13.362983</td>\n",
              "      <td>1.051352e+05</td>\n",
              "      <td>2.562733</td>\n",
              "      <td>7890.578253</td>\n",
              "      <td>404.085647</td>\n",
              "      <td>12.340030</td>\n",
              "    </tr>\n",
              "    <tr>\n",
              "      <th>min</th>\n",
              "      <td>17.000000</td>\n",
              "      <td>1.376900e+04</td>\n",
              "      <td>1.000000</td>\n",
              "      <td>0.000000</td>\n",
              "      <td>0.000000</td>\n",
              "      <td>1.000000</td>\n",
              "    </tr>\n",
              "    <tr>\n",
              "      <th>25%</th>\n",
              "      <td>28.000000</td>\n",
              "      <td>1.154652e+05</td>\n",
              "      <td>9.000000</td>\n",
              "      <td>0.000000</td>\n",
              "      <td>0.000000</td>\n",
              "      <td>40.000000</td>\n",
              "    </tr>\n",
              "    <tr>\n",
              "      <th>50%</th>\n",
              "      <td>37.000000</td>\n",
              "      <td>1.778450e+05</td>\n",
              "      <td>10.000000</td>\n",
              "      <td>0.000000</td>\n",
              "      <td>0.000000</td>\n",
              "      <td>40.000000</td>\n",
              "    </tr>\n",
              "    <tr>\n",
              "      <th>75%</th>\n",
              "      <td>47.000000</td>\n",
              "      <td>2.374175e+05</td>\n",
              "      <td>12.000000</td>\n",
              "      <td>0.000000</td>\n",
              "      <td>0.000000</td>\n",
              "      <td>45.000000</td>\n",
              "    </tr>\n",
              "    <tr>\n",
              "      <th>max</th>\n",
              "      <td>90.000000</td>\n",
              "      <td>1.490400e+06</td>\n",
              "      <td>16.000000</td>\n",
              "      <td>99999.000000</td>\n",
              "      <td>3770.000000</td>\n",
              "      <td>99.000000</td>\n",
              "    </tr>\n",
              "  </tbody>\n",
              "</table>\n",
              "</div>\n",
              "      <button class=\"colab-df-convert\" onclick=\"convertToInteractive('df-62543b78-1a8a-41b1-8a13-c2a1017298fa')\"\n",
              "              title=\"Convert this dataframe to an interactive table.\"\n",
              "              style=\"display:none;\">\n",
              "        \n",
              "  <svg xmlns=\"http://www.w3.org/2000/svg\" height=\"24px\"viewBox=\"0 0 24 24\"\n",
              "       width=\"24px\">\n",
              "    <path d=\"M0 0h24v24H0V0z\" fill=\"none\"/>\n",
              "    <path d=\"M18.56 5.44l.94 2.06.94-2.06 2.06-.94-2.06-.94-.94-2.06-.94 2.06-2.06.94zm-11 1L8.5 8.5l.94-2.06 2.06-.94-2.06-.94L8.5 2.5l-.94 2.06-2.06.94zm10 10l.94 2.06.94-2.06 2.06-.94-2.06-.94-.94-2.06-.94 2.06-2.06.94z\"/><path d=\"M17.41 7.96l-1.37-1.37c-.4-.4-.92-.59-1.43-.59-.52 0-1.04.2-1.43.59L10.3 9.45l-7.72 7.72c-.78.78-.78 2.05 0 2.83L4 21.41c.39.39.9.59 1.41.59.51 0 1.02-.2 1.41-.59l7.78-7.78 2.81-2.81c.8-.78.8-2.07 0-2.86zM5.41 20L4 18.59l7.72-7.72 1.47 1.35L5.41 20z\"/>\n",
              "  </svg>\n",
              "      </button>\n",
              "      \n",
              "  <style>\n",
              "    .colab-df-container {\n",
              "      display:flex;\n",
              "      flex-wrap:wrap;\n",
              "      gap: 12px;\n",
              "    }\n",
              "\n",
              "    .colab-df-convert {\n",
              "      background-color: #E8F0FE;\n",
              "      border: none;\n",
              "      border-radius: 50%;\n",
              "      cursor: pointer;\n",
              "      display: none;\n",
              "      fill: #1967D2;\n",
              "      height: 32px;\n",
              "      padding: 0 0 0 0;\n",
              "      width: 32px;\n",
              "    }\n",
              "\n",
              "    .colab-df-convert:hover {\n",
              "      background-color: #E2EBFA;\n",
              "      box-shadow: 0px 1px 2px rgba(60, 64, 67, 0.3), 0px 1px 3px 1px rgba(60, 64, 67, 0.15);\n",
              "      fill: #174EA6;\n",
              "    }\n",
              "\n",
              "    [theme=dark] .colab-df-convert {\n",
              "      background-color: #3B4455;\n",
              "      fill: #D2E3FC;\n",
              "    }\n",
              "\n",
              "    [theme=dark] .colab-df-convert:hover {\n",
              "      background-color: #434B5C;\n",
              "      box-shadow: 0px 1px 3px 1px rgba(0, 0, 0, 0.15);\n",
              "      filter: drop-shadow(0px 1px 2px rgba(0, 0, 0, 0.3));\n",
              "      fill: #FFFFFF;\n",
              "    }\n",
              "  </style>\n",
              "\n",
              "      <script>\n",
              "        const buttonEl =\n",
              "          document.querySelector('#df-62543b78-1a8a-41b1-8a13-c2a1017298fa button.colab-df-convert');\n",
              "        buttonEl.style.display =\n",
              "          google.colab.kernel.accessAllowed ? 'block' : 'none';\n",
              "\n",
              "        async function convertToInteractive(key) {\n",
              "          const element = document.querySelector('#df-62543b78-1a8a-41b1-8a13-c2a1017298fa');\n",
              "          const dataTable =\n",
              "            await google.colab.kernel.invokeFunction('convertToInteractive',\n",
              "                                                     [key], {});\n",
              "          if (!dataTable) return;\n",
              "\n",
              "          const docLinkHtml = 'Like what you see? Visit the ' +\n",
              "            '<a target=\"_blank\" href=https://colab.research.google.com/notebooks/data_table.ipynb>data table notebook</a>'\n",
              "            + ' to learn more about interactive tables.';\n",
              "          element.innerHTML = '';\n",
              "          dataTable['output_type'] = 'display_data';\n",
              "          await google.colab.output.renderOutput(dataTable, element);\n",
              "          const docLink = document.createElement('div');\n",
              "          docLink.innerHTML = docLinkHtml;\n",
              "          element.appendChild(docLink);\n",
              "        }\n",
              "      </script>\n",
              "    </div>\n",
              "  </div>\n",
              "  "
            ]
          },
          "metadata": {},
          "execution_count": 53
        }
      ]
    },
    {
      "cell_type": "code",
      "source": [
        "# We have some strange values for capital-gain - 99999\n",
        "df[df[\"capital-gain\"] > 1000][\"capital-gain\"].hist(bins=100)"
      ],
      "metadata": {
        "colab": {
          "base_uri": "https://localhost:8080/",
          "height": 448
        },
        "id": "3JjnB9Tqn8V9",
        "outputId": "74199066-2e06-4ea8-a538-6bd26a019fc8"
      },
      "execution_count": 54,
      "outputs": [
        {
          "output_type": "execute_result",
          "data": {
            "text/plain": [
              "<Axes: >"
            ]
          },
          "metadata": {},
          "execution_count": 54
        },
        {
          "output_type": "display_data",
          "data": {
            "text/plain": [
              "<Figure size 640x480 with 1 Axes>"
            ],
            "image/png": "[encoded data removed]"
          },
          "metadata": {}
        }
      ]
    },
    {
      "cell_type": "code",
      "source": [
        "df[df[\"capital-gain\"] == df[\"capital-gain\"].max()]"
      ],
      "metadata": {
        "id": "FJ4RALsXOOQe",
        "colab": {
          "base_uri": "https://localhost:8080/",
          "height": 1000
        },
        "outputId": "46fb3f21-0a74-4c9e-a6e5-73fd0b30d1f0"
      },
      "execution_count": 55,
      "outputs": [
        {
          "output_type": "execute_result",
          "data": {
            "text/plain": [
              "       age         workclass  fnlwgt     education  educational-num  \\\n",
              "79    44.0      Self-emp-inc  223881       HS-grad                9   \n",
              "315   39.0           Private  198654       HS-grad                9   \n",
              "323   50.0  Self-emp-not-inc  165001   Prof-school               15   \n",
              "482   54.0      Self-emp-inc  159219   Prof-school               15   \n",
              "629   43.0         State-gov  125831     Bachelors               13   \n",
              "788   44.0           Private  217039   Prof-school               15   \n",
              "884   59.0      Self-emp-inc   77816   Prof-school               15   \n",
              "1008  44.0           Private  120277   Prof-school               15   \n",
              "1009  41.0           Private  191547       Masters               14   \n",
              "1031  43.0           Private  115562     Bachelors               13   \n",
              "1200  67.0           Private  366425     Doctorate               16   \n",
              "1641  40.0           Private  136986       Masters               14   \n",
              "1709  30.0           Private  427541       HS-grad                9   \n",
              "1716  56.0      Self-emp-inc  124137   Prof-school               15   \n",
              "1821  41.0           Private  283174     Bachelors               13   \n",
              "1996  61.0      Self-emp-inc  103575   Prof-school               15   \n",
              "2177  57.0      Self-emp-inc  249072  Some-college               10   \n",
              "2658  35.0           Private  151835       Masters               14   \n",
              "2920  49.0      Self-emp-inc  131826   Prof-school               15   \n",
              "2922  45.0           Private  259412   Prof-school               15   \n",
              "3480  63.0           Private   75813   Prof-school               15   \n",
              "3533  43.0      Self-emp-inc  215458     Doctorate               16   \n",
              "4127  50.0           Private  180195     Doctorate               16   \n",
              "4204  41.0      Self-emp-inc   56019   Prof-school               15   \n",
              "4892  50.0  Self-emp-not-inc  203004       HS-grad                9   \n",
              "4898  59.0           Private   35723     Bachelors               13   \n",
              "5088  34.0           Private  128016     Bachelors               13   \n",
              "5175  42.0           Private   34218   Prof-school               15   \n",
              "5513  58.0           Private  478354     Bachelors               13   \n",
              "5647  62.0      Self-emp-inc  191520     Doctorate               16   \n",
              "5660  23.0         State-gov   89285  Some-college               10   \n",
              "5849  48.0           Private  205100     Bachelors               13   \n",
              "6150  32.0           Private  355700   Prof-school               15   \n",
              "6303  58.0           Private  186905       HS-grad                9   \n",
              "6584  65.0           Private  190160     Bachelors               13   \n",
              "6593  46.0           Private  235334       Masters               14   \n",
              "6777  48.0         Local-gov   93449   Prof-school               15   \n",
              "6917  60.0       Federal-gov   38749   Prof-school               15   \n",
              "7002  54.0      Self-emp-inc   22743     Bachelors               13   \n",
              "7047  45.0  Self-emp-not-inc   45136   Prof-school               15   \n",
              "7509  28.0           Private  106141       HS-grad                9   \n",
              "8055  48.0           Private  207540     Bachelors               13   \n",
              "8306  80.0      Self-emp-inc  164909       Masters               14   \n",
              "8363  44.0           Private  227065     Bachelors               13   \n",
              "8438  40.0           Private  219869       HS-grad                9   \n",
              "8782  37.0           Private  356410     Assoc-voc               11   \n",
              "8807  37.0      Self-emp-inc  158294     Assoc-voc               11   \n",
              "8917  37.0      Self-emp-inc  106232   Prof-school               15   \n",
              "8918  37.0           Private  113211     Bachelors               13   \n",
              "8931  37.0      Self-emp-inc  182158   Prof-school               15   \n",
              "9058  37.0           Private  288353     Bachelors               13   \n",
              "9127  37.0      Self-emp-inc  443508     Doctorate               16   \n",
              "9189  37.0           Private   93997     Doctorate               16   \n",
              "9222  38.0  Self-emp-not-inc  203988     Doctorate               16   \n",
              "9388  51.0  Self-emp-not-inc   85877       HS-grad                9   \n",
              "\n",
              "          marital-status         occupation   relationship  \\\n",
              "79    Married-civ-spouse       Craft-repair        Husband   \n",
              "315             Divorced    Exec-managerial      Unmarried   \n",
              "323   Married-civ-spouse     Prof-specialty        Husband   \n",
              "482   Married-civ-spouse     Prof-specialty        Husband   \n",
              "629        Never-married     Prof-specialty      Own-child   \n",
              "788   Married-civ-spouse     Prof-specialty        Husband   \n",
              "884   Married-civ-spouse     Prof-specialty        Husband   \n",
              "1008  Married-civ-spouse     Prof-specialty        Husband   \n",
              "1009  Married-civ-spouse    Exec-managerial        Husband   \n",
              "1031  Married-civ-spouse    Exec-managerial        Husband   \n",
              "1200            Divorced    Exec-managerial  Not-in-family   \n",
              "1641  Married-civ-spouse    Exec-managerial        Husband   \n",
              "1709       Never-married  Handlers-cleaners      Own-child   \n",
              "1716  Married-civ-spouse     Prof-specialty        Husband   \n",
              "1821  Married-civ-spouse       Craft-repair        Husband   \n",
              "1996  Married-civ-spouse    Exec-managerial        Husband   \n",
              "2177  Married-civ-spouse    Exec-managerial        Husband   \n",
              "2658  Married-civ-spouse     Prof-specialty        Husband   \n",
              "2920             Widowed     Prof-specialty      Unmarried   \n",
              "2922  Married-civ-spouse     Prof-specialty        Husband   \n",
              "3480  Married-civ-spouse     Prof-specialty        Husband   \n",
              "3533       Never-married     Prof-specialty  Not-in-family   \n",
              "4127  Married-civ-spouse     Prof-specialty        Husband   \n",
              "4204  Married-civ-spouse     Prof-specialty        Husband   \n",
              "4892            Divorced    Exec-managerial  Not-in-family   \n",
              "4898  Married-civ-spouse    Farming-fishing        Husband   \n",
              "5088  Married-civ-spouse     Prof-specialty           Wife   \n",
              "5175            Divorced     Prof-specialty  Not-in-family   \n",
              "5513  Married-civ-spouse    Exec-managerial        Husband   \n",
              "5647  Married-civ-spouse     Prof-specialty        Husband   \n",
              "5660       Never-married    Protective-serv  Not-in-family   \n",
              "5849  Married-civ-spouse              Sales        Husband   \n",
              "6150   Married-AF-spouse     Prof-specialty           Wife   \n",
              "6303            Divorced       Adm-clerical      Unmarried   \n",
              "6584  Married-civ-spouse    Exec-managerial        Husband   \n",
              "6593  Married-civ-spouse    Exec-managerial        Husband   \n",
              "6777  Married-civ-spouse     Prof-specialty        Husband   \n",
              "6917  Married-civ-spouse     Prof-specialty        Husband   \n",
              "7002            Divorced    Exec-managerial  Not-in-family   \n",
              "7047  Married-civ-spouse     Prof-specialty        Husband   \n",
              "7509  Married-civ-spouse       Craft-repair        Husband   \n",
              "8055       Never-married       Craft-repair  Not-in-family   \n",
              "8306  Married-civ-spouse    Exec-managerial        Husband   \n",
              "8363  Married-civ-spouse     Prof-specialty        Husband   \n",
              "8438  Married-civ-spouse    Farming-fishing        Husband   \n",
              "8782  Married-civ-spouse              Sales        Husband   \n",
              "8807  Married-civ-spouse    Farming-fishing        Husband   \n",
              "8917  Married-civ-spouse     Prof-specialty        Husband   \n",
              "8918  Married-civ-spouse       Craft-repair        Husband   \n",
              "8931  Married-civ-spouse     Prof-specialty        Husband   \n",
              "9058  Married-civ-spouse              Sales        Husband   \n",
              "9127  Married-civ-spouse    Exec-managerial        Husband   \n",
              "9189  Married-civ-spouse    Exec-managerial        Husband   \n",
              "9222  Married-civ-spouse     Prof-specialty        Husband   \n",
              "9388            Divorced    Exec-managerial  Not-in-family   \n",
              "\n",
              "                    race  gender  capital-gain  capital-loss  hours-per-week  \\\n",
              "79                 White    Male       99999.0           0.0            50.0   \n",
              "315                Black  Female       99999.0           0.0            40.0   \n",
              "323                White    Male       99999.0           0.0            80.0   \n",
              "482                White    Male       99999.0           0.0             NaN   \n",
              "629                White    Male       99999.0           0.0            60.0   \n",
              "788                White    Male       99999.0           0.0            60.0   \n",
              "884                White    Male       99999.0           0.0            40.0   \n",
              "1008               White    Male       99999.0           0.0            60.0   \n",
              "1009               White    Male       99999.0           0.0             NaN   \n",
              "1031               White    Male       99999.0           0.0            50.0   \n",
              "1200               White    Male       99999.0           0.0            60.0   \n",
              "1641               White    Male       99999.0           0.0            52.0   \n",
              "1709               Black  Female       99999.0           0.0            40.0   \n",
              "1716               White    Male       99999.0           0.0             NaN   \n",
              "1821               White    Male       99999.0           0.0             NaN   \n",
              "1996               White    Male       99999.0           0.0            40.0   \n",
              "2177               White    Male       99999.0           0.0            60.0   \n",
              "2658               White    Male       99999.0           0.0            50.0   \n",
              "2920               White    Male       99999.0           0.0            50.0   \n",
              "2922               White    Male       99999.0           0.0             NaN   \n",
              "3480               White    Male       99999.0           0.0            60.0   \n",
              "3533               White    Male       99999.0           0.0            45.0   \n",
              "4127               White    Male       99999.0           0.0            50.0   \n",
              "4204  Asian-Pac-Islander    Male       99999.0           0.0            50.0   \n",
              "4892               White  Female       99999.0           0.0            60.0   \n",
              "4898               White    Male       99999.0           0.0            40.0   \n",
              "5088               White  Female       99999.0           0.0            40.0   \n",
              "5175               White    Male       99999.0           0.0            80.0   \n",
              "5513               White    Male       99999.0           0.0            50.0   \n",
              "5647               White    Male       99999.0           0.0            80.0   \n",
              "5660               Other  Female       99999.0           0.0            40.0   \n",
              "5849               White    Male       99999.0           0.0            80.0   \n",
              "6150               White  Female       99999.0           0.0            60.0   \n",
              "6303               White  Female       99999.0           0.0            40.0   \n",
              "6584               White    Male       99999.0           0.0            40.0   \n",
              "6593               Black    Male       99999.0           0.0            60.0   \n",
              "6777  Asian-Pac-Islander    Male       99999.0           0.0            40.0   \n",
              "6917  Asian-Pac-Islander    Male       99999.0           0.0             NaN   \n",
              "7002               White    Male       99999.0           0.0            70.0   \n",
              "7047               White    Male       99999.0           0.0            60.0   \n",
              "7509               White    Male       99999.0           0.0            40.0   \n",
              "8055               White    Male       99999.0           0.0            60.0   \n",
              "8306               White    Male       99999.0           0.0            54.0   \n",
              "8363               White    Male       99999.0           0.0            40.0   \n",
              "8438               White    Male       99999.0           0.0            75.0   \n",
              "8782               White    Male       99999.0           0.0            40.0   \n",
              "8807               White    Male       99999.0           0.0            75.0   \n",
              "8917               White    Male       99999.0           0.0            48.0   \n",
              "8918               White    Male       99999.0           0.0            40.0   \n",
              "8931               White    Male       99999.0           0.0            60.0   \n",
              "9058               White    Male       99999.0           0.0            48.0   \n",
              "9127               White    Male       99999.0           0.0            60.0   \n",
              "9189               White    Male       99999.0           0.0            40.0   \n",
              "9222               White    Male       99999.0           0.0             NaN   \n",
              "9388               White  Female       99999.0           0.0             NaN   \n",
              "\n",
              "     native-country income  \n",
              "79                ?   >50K  \n",
              "315   United-States   >50K  \n",
              "323   United-States   >50K  \n",
              "482   United-States   >50K  \n",
              "629   United-States   >50K  \n",
              "788   United-States   >50K  \n",
              "884   United-States   >50K  \n",
              "1008  United-States   >50K  \n",
              "1009  United-States   >50K  \n",
              "1031  United-States   >50K  \n",
              "1200  United-States   >50K  \n",
              "1641  United-States   >50K  \n",
              "1709  United-States   >50K  \n",
              "1716  United-States   >50K  \n",
              "1821  United-States   >50K  \n",
              "1996  United-States   >50K  \n",
              "2177  United-States   >50K  \n",
              "2658  United-States   >50K  \n",
              "2920  United-States   >50K  \n",
              "2922  United-States   >50K  \n",
              "3480  United-States   >50K  \n",
              "3533  United-States   >50K  \n",
              "4127  United-States   >50K  \n",
              "4204          India   >50K  \n",
              "4892  United-States   >50K  \n",
              "4898  United-States   >50K  \n",
              "5088  United-States   >50K  \n",
              "5175  United-States   >50K  \n",
              "5513  United-States   >50K  \n",
              "5647  United-States   >50K  \n",
              "5660  United-States   >50K  \n",
              "5849  United-States   >50K  \n",
              "6150  United-States   >50K  \n",
              "6303  United-States   >50K  \n",
              "6584  United-States   >50K  \n",
              "6593  United-States   >50K  \n",
              "6777    Philippines   >50K  \n",
              "6917    Philippines   >50K  \n",
              "7002  United-States   >50K  \n",
              "7047  United-States   >50K  \n",
              "7509  United-States   >50K  \n",
              "8055  United-States   >50K  \n",
              "8306  United-States   >50K  \n",
              "8363              ?   >50K  \n",
              "8438  United-States   >50K  \n",
              "8782  United-States   >50K  \n",
              "8807  United-States   >50K  \n",
              "8917  United-States   >50K  \n",
              "8918  United-States   >50K  \n",
              "8931  United-States   >50K  \n",
              "9058  United-States   >50K  \n",
              "9127  United-States   >50K  \n",
              "9189  United-States   >50K  \n",
              "9222  United-States   >50K  \n",
              "9388  United-States   >50K  "
            ],
            "text/html": [
              "\n",
              "  <div id=\"df-a19e71d8-8f77-4fd7-8875-5ecf24142153\">\n",
              "    <div class=\"colab-df-container\">\n",
              "      <div>\n",
              "<style scoped>\n",
              "    .dataframe tbody tr th:only-of-type {\n",
              "        vertical-align: middle;\n",
              "    }\n",
              "\n",
              "    .dataframe tbody tr th {\n",
              "        vertical-align: top;\n",
              "    }\n",
              "\n",
              "    .dataframe thead th {\n",
              "        text-align: right;\n",
              "    }\n",
              "</style>\n",
              "<table border=\"1\" class=\"dataframe\">\n",
              "  <thead>\n",
              "    <tr style=\"text-align: right;\">\n",
              "      <th></th>\n",
              "      <th>age</th>\n",
              "      <th>workclass</th>\n",
              "      <th>fnlwgt</th>\n",
              "      <th>education</th>\n",
              "      <th>educational-num</th>\n",
              "      <th>marital-status</th>\n",
              "      <th>occupation</th>\n",
              "      <th>relationship</th>\n",
              "      <th>race</th>\n",
              "      <th>gender</th>\n",
              "      <th>capital-gain</th>\n",
              "      <th>capital-loss</th>\n",
              "      <th>hours-per-week</th>\n",
              "      <th>native-country</th>\n",
              "      <th>income</th>\n",
              "    </tr>\n",
              "  </thead>\n",
              "  <tbody>\n",
              "    <tr>\n",
              "      <th>79</th>\n",
              "      <td>44.0</td>\n",
              "      <td>Self-emp-inc</td>\n",
              "      <td>223881</td>\n",
              "      <td>HS-grad</td>\n",
              "      <td>9</td>\n",
              "      <td>Married-civ-spouse</td>\n",
              "      <td>Craft-repair</td>\n",
              "      <td>Husband</td>\n",
              "      <td>White</td>\n",
              "      <td>Male</td>\n",
              "      <td>99999.0</td>\n",
              "      <td>0.0</td>\n",
              "      <td>50.0</td>\n",
              "      <td>?</td>\n",
              "      <td>&gt;50K</td>\n",
              "    </tr>\n",
              "    <tr>\n",
              "      <th>315</th>\n",
              "      <td>39.0</td>\n",
              "      <td>Private</td>\n",
              "      <td>198654</td>\n",
              "      <td>HS-grad</td>\n",
              "      <td>9</td>\n",
              "      <td>Divorced</td>\n",
              "      <td>Exec-managerial</td>\n",
              "      <td>Unmarried</td>\n",
              "      <td>Black</td>\n",
              "      <td>Female</td>\n",
              "      <td>99999.0</td>\n",
              "      <td>0.0</td>\n",
              "      <td>40.0</td>\n",
              "      <td>United-States</td>\n",
              "      <td>&gt;50K</td>\n",
              "    </tr>\n",
              "    <tr>\n",
              "      <th>323</th>\n",
              "      <td>50.0</td>\n",
              "      <td>Self-emp-not-inc</td>\n",
              "      <td>165001</td>\n",
              "      <td>Prof-school</td>\n",
              "      <td>15</td>\n",
              "      <td>Married-civ-spouse</td>\n",
              "      <td>Prof-specialty</td>\n",
              "      <td>Husband</td>\n",
              "      <td>White</td>\n",
              "      <td>Male</td>\n",
              "      <td>99999.0</td>\n",
              "      <td>0.0</td>\n",
              "      <td>80.0</td>\n",
              "      <td>United-States</td>\n",
              "      <td>&gt;50K</td>\n",
              "    </tr>\n",
              "    <tr>\n",
              "      <th>482</th>\n",
              "      <td>54.0</td>\n",
              "      <td>Self-emp-inc</td>\n",
              "      <td>159219</td>\n",
              "      <td>Prof-school</td>\n",
              "      <td>15</td>\n",
              "      <td>Married-civ-spouse</td>\n",
              "      <td>Prof-specialty</td>\n",
              "      <td>Husband</td>\n",
              "      <td>White</td>\n",
              "      <td>Male</td>\n",
              "      <td>99999.0</td>\n",
              "      <td>0.0</td>\n",
              "      <td>NaN</td>\n",
              "      <td>United-States</td>\n",
              "      <td>&gt;50K</td>\n",
              "    </tr>\n",
              "    <tr>\n",
              "      <th>629</th>\n",
              "      <td>43.0</td>\n",
              "      <td>State-gov</td>\n",
              "      <td>125831</td>\n",
              "      <td>Bachelors</td>\n",
              "      <td>13</td>\n",
              "      <td>Never-married</td>\n",
              "      <td>Prof-specialty</td>\n",
              "      <td>Own-child</td>\n",
              "      <td>White</td>\n",
              "      <td>Male</td>\n",
              "      <td>99999.0</td>\n",
              "      <td>0.0</td>\n",
              "      <td>60.0</td>\n",
              "      <td>United-States</td>\n",
              "      <td>&gt;50K</td>\n",
              "    </tr>\n",
              "    <tr>\n",
              "      <th>788</th>\n",
              "      <td>44.0</td>\n",
              "      <td>Private</td>\n",
              "      <td>217039</td>\n",
              "      <td>Prof-school</td>\n",
              "      <td>15</td>\n",
              "      <td>Married-civ-spouse</td>\n",
              "      <td>Prof-specialty</td>\n",
              "      <td>Husband</td>\n",
              "      <td>White</td>\n",
              "      <td>Male</td>\n",
              "      <td>99999.0</td>\n",
              "      <td>0.0</td>\n",
              "      <td>60.0</td>\n",
              "      <td>United-States</td>\n",
              "      <td>&gt;50K</td>\n",
              "    </tr>\n",
              "    <tr>\n",
              "      <th>884</th>\n",
              "      <td>59.0</td>\n",
              "      <td>Self-emp-inc</td>\n",
              "      <td>77816</td>\n",
              "      <td>Prof-school</td>\n",
              "      <td>15</td>\n",
              "      <td>Married-civ-spouse</td>\n",
              "      <td>Prof-specialty</td>\n",
              "      <td>Husband</td>\n",
              "      <td>White</td>\n",
              "      <td>Male</td>\n",
              "      <td>99999.0</td>\n",
              "      <td>0.0</td>\n",
              "      <td>40.0</td>\n",
              "      <td>United-States</td>\n",
              "      <td>&gt;50K</td>\n",
              "    </tr>\n",
              "    <tr>\n",
              "      <th>1008</th>\n",
              "      <td>44.0</td>\n",
              "      <td>Private</td>\n",
              "      <td>120277</td>\n",
              "      <td>Prof-school</td>\n",
              "      <td>15</td>\n",
              "      <td>Married-civ-spouse</td>\n",
              "      <td>Prof-specialty</td>\n",
              "      <td>Husband</td>\n",
              "      <td>White</td>\n",
              "      <td>Male</td>\n",
              "      <td>99999.0</td>\n",
              "      <td>0.0</td>\n",
              "      <td>60.0</td>\n",
              "      <td>United-States</td>\n",
              "      <td>&gt;50K</td>\n",
              "    </tr>\n",
              "    <tr>\n",
              "      <th>1009</th>\n",
              "      <td>41.0</td>\n",
              "      <td>Private</td>\n",
              "      <td>191547</td>\n",
              "      <td>Masters</td>\n",
              "      <td>14</td>\n",
              "      <td>Married-civ-spouse</td>\n",
              "      <td>Exec-managerial</td>\n",
              "      <td>Husband</td>\n",
              "      <td>White</td>\n",
              "      <td>Male</td>\n",
              "      <td>99999.0</td>\n",
              "      <td>0.0</td>\n",
              "      <td>NaN</td>\n",
              "      <td>United-States</td>\n",
              "      <td>&gt;50K</td>\n",
              "    </tr>\n",
              "    <tr>\n",
              "      <th>1031</th>\n",
              "      <td>43.0</td>\n",
              "      <td>Private</td>\n",
              "      <td>115562</td>\n",
              "      <td>Bachelors</td>\n",
              "      <td>13</td>\n",
              "      <td>Married-civ-spouse</td>\n",
              "      <td>Exec-managerial</td>\n",
              "      <td>Husband</td>\n",
              "      <td>White</td>\n",
              "      <td>Male</td>\n",
              "      <td>99999.0</td>\n",
              "      <td>0.0</td>\n",
              "      <td>50.0</td>\n",
              "      <td>United-States</td>\n",
              "      <td>&gt;50K</td>\n",
              "    </tr>\n",
              "    <tr>\n",
              "      <th>1200</th>\n",
              "      <td>67.0</td>\n",
              "      <td>Private</td>\n",
              "      <td>366425</td>\n",
              "      <td>Doctorate</td>\n",
              "      <td>16</td>\n",
              "      <td>Divorced</td>\n",
              "      <td>Exec-managerial</td>\n",
              "      <td>Not-in-family</td>\n",
              "      <td>White</td>\n",
              "      <td>Male</td>\n",
              "      <td>99999.0</td>\n",
              "      <td>0.0</td>\n",
              "      <td>60.0</td>\n",
              "      <td>United-States</td>\n",
              "      <td>&gt;50K</td>\n",
              "    </tr>\n",
              "    <tr>\n",
              "      <th>1641</th>\n",
              "      <td>40.0</td>\n",
              "      <td>Private</td>\n",
              "      <td>136986</td>\n",
              "      <td>Masters</td>\n",
              "      <td>14</td>\n",
              "      <td>Married-civ-spouse</td>\n",
              "      <td>Exec-managerial</td>\n",
              "      <td>Husband</td>\n",
              "      <td>White</td>\n",
              "      <td>Male</td>\n",
              "      <td>99999.0</td>\n",
              "      <td>0.0</td>\n",
              "      <td>52.0</td>\n",
              "      <td>United-States</td>\n",
              "      <td>&gt;50K</td>\n",
              "    </tr>\n",
              "    <tr>\n",
              "      <th>1709</th>\n",
              "      <td>30.0</td>\n",
              "      <td>Private</td>\n",
              "      <td>427541</td>\n",
              "      <td>HS-grad</td>\n",
              "      <td>9</td>\n",
              "      <td>Never-married</td>\n",
              "      <td>Handlers-cleaners</td>\n",
              "      <td>Own-child</td>\n",
              "      <td>Black</td>\n",
              "      <td>Female</td>\n",
              "      <td>99999.0</td>\n",
              "      <td>0.0</td>\n",
              "      <td>40.0</td>\n",
              "      <td>United-States</td>\n",
              "      <td>&gt;50K</td>\n",
              "    </tr>\n",
              "    <tr>\n",
              "      <th>1716</th>\n",
              "      <td>56.0</td>\n",
              "      <td>Self-emp-inc</td>\n",
              "      <td>124137</td>\n",
              "      <td>Prof-school</td>\n",
              "      <td>15</td>\n",
              "      <td>Married-civ-spouse</td>\n",
              "      <td>Prof-specialty</td>\n",
              "      <td>Husband</td>\n",
              "      <td>White</td>\n",
              "      <td>Male</td>\n",
              "      <td>99999.0</td>\n",
              "      <td>0.0</td>\n",
              "      <td>NaN</td>\n",
              "      <td>United-States</td>\n",
              "      <td>&gt;50K</td>\n",
              "    </tr>\n",
              "    <tr>\n",
              "      <th>1821</th>\n",
              "      <td>41.0</td>\n",
              "      <td>Private</td>\n",
              "      <td>283174</td>\n",
              "      <td>Bachelors</td>\n",
              "      <td>13</td>\n",
              "      <td>Married-civ-spouse</td>\n",
              "      <td>Craft-repair</td>\n",
              "      <td>Husband</td>\n",
              "      <td>White</td>\n",
              "      <td>Male</td>\n",
              "      <td>99999.0</td>\n",
              "      <td>0.0</td>\n",
              "      <td>NaN</td>\n",
              "      <td>United-States</td>\n",
              "      <td>&gt;50K</td>\n",
              "    </tr>\n",
              "    <tr>\n",
              "      <th>1996</th>\n",
              "      <td>61.0</td>\n",
              "      <td>Self-emp-inc</td>\n",
              "      <td>103575</td>\n",
              "      <td>Prof-school</td>\n",
              "      <td>15</td>\n",
              "      <td>Married-civ-spouse</td>\n",
              "      <td>Exec-managerial</td>\n",
              "      <td>Husband</td>\n",
              "      <td>White</td>\n",
              "      <td>Male</td>\n",
              "      <td>99999.0</td>\n",
              "      <td>0.0</td>\n",
              "      <td>40.0</td>\n",
              "      <td>United-States</td>\n",
              "      <td>&gt;50K</td>\n",
              "    </tr>\n",
              "    <tr>\n",
              "      <th>2177</th>\n",
              "      <td>57.0</td>\n",
              "      <td>Self-emp-inc</td>\n",
              "      <td>249072</td>\n",
              "      <td>Some-college</td>\n",
              "      <td>10</td>\n",
              "      <td>Married-civ-spouse</td>\n",
              "      <td>Exec-managerial</td>\n",
              "      <td>Husband</td>\n",
              "      <td>White</td>\n",
              "      <td>Male</td>\n",
              "      <td>99999.0</td>\n",
              "      <td>0.0</td>\n",
              "      <td>60.0</td>\n",
              "      <td>United-States</td>\n",
              "      <td>&gt;50K</td>\n",
              "    </tr>\n",
              "    <tr>\n",
              "      <th>2658</th>\n",
              "      <td>35.0</td>\n",
              "      <td>Private</td>\n",
              "      <td>151835</td>\n",
              "      <td>Masters</td>\n",
              "      <td>14</td>\n",
              "      <td>Married-civ-spouse</td>\n",
              "      <td>Prof-specialty</td>\n",
              "      <td>Husband</td>\n",
              "      <td>White</td>\n",
              "      <td>Male</td>\n",
              "      <td>99999.0</td>\n",
              "      <td>0.0</td>\n",
              "      <td>50.0</td>\n",
              "      <td>United-States</td>\n",
              "      <td>&gt;50K</td>\n",
              "    </tr>\n",
              "    <tr>\n",
              "      <th>2920</th>\n",
              "      <td>49.0</td>\n",
              "      <td>Self-emp-inc</td>\n",
              "      <td>131826</td>\n",
              "      <td>Prof-school</td>\n",
              "      <td>15</td>\n",
              "      <td>Widowed</td>\n",
              "      <td>Prof-specialty</td>\n",
              "      <td>Unmarried</td>\n",
              "      <td>White</td>\n",
              "      <td>Male</td>\n",
              "      <td>99999.0</td>\n",
              "      <td>0.0</td>\n",
              "      <td>50.0</td>\n",
              "      <td>United-States</td>\n",
              "      <td>&gt;50K</td>\n",
              "    </tr>\n",
              "    <tr>\n",
              "      <th>2922</th>\n",
              "      <td>45.0</td>\n",
              "      <td>Private</td>\n",
              "      <td>259412</td>\n",
              "      <td>Prof-school</td>\n",
              "      <td>15</td>\n",
              "      <td>Married-civ-spouse</td>\n",
              "      <td>Prof-specialty</td>\n",
              "      <td>Husband</td>\n",
              "      <td>White</td>\n",
              "      <td>Male</td>\n",
              "      <td>99999.0</td>\n",
              "      <td>0.0</td>\n",
              "      <td>NaN</td>\n",
              "      <td>United-States</td>\n",
              "      <td>&gt;50K</td>\n",
              "    </tr>\n",
              "    <tr>\n",
              "      <th>3480</th>\n",
              "      <td>63.0</td>\n",
              "      <td>Private</td>\n",
              "      <td>75813</td>\n",
              "      <td>Prof-school</td>\n",
              "      <td>15</td>\n",
              "      <td>Married-civ-spouse</td>\n",
              "      <td>Prof-specialty</td>\n",
              "      <td>Husband</td>\n",
              "      <td>White</td>\n",
              "      <td>Male</td>\n",
              "      <td>99999.0</td>\n",
              "      <td>0.0</td>\n",
              "      <td>60.0</td>\n",
              "      <td>United-States</td>\n",
              "      <td>&gt;50K</td>\n",
              "    </tr>\n",
              "    <tr>\n",
              "      <th>3533</th>\n",
              "      <td>43.0</td>\n",
              "      <td>Self-emp-inc</td>\n",
              "      <td>215458</td>\n",
              "      <td>Doctorate</td>\n",
              "      <td>16</td>\n",
              "      <td>Never-married</td>\n",
              "      <td>Prof-specialty</td>\n",
              "      <td>Not-in-family</td>\n",
              "      <td>White</td>\n",
              "      <td>Male</td>\n",
              "      <td>99999.0</td>\n",
              "      <td>0.0</td>\n",
              "      <td>45.0</td>\n",
              "      <td>United-States</td>\n",
              "      <td>&gt;50K</td>\n",
              "    </tr>\n",
              "    <tr>\n",
              "      <th>4127</th>\n",
              "      <td>50.0</td>\n",
              "      <td>Private</td>\n",
              "      <td>180195</td>\n",
              "      <td>Doctorate</td>\n",
              "      <td>16</td>\n",
              "      <td>Married-civ-spouse</td>\n",
              "      <td>Prof-specialty</td>\n",
              "      <td>Husband</td>\n",
              "      <td>White</td>\n",
              "      <td>Male</td>\n",
              "      <td>99999.0</td>\n",
              "      <td>0.0</td>\n",
              "      <td>50.0</td>\n",
              "      <td>United-States</td>\n",
              "      <td>&gt;50K</td>\n",
              "    </tr>\n",
              "    <tr>\n",
              "      <th>4204</th>\n",
              "      <td>41.0</td>\n",
              "      <td>Self-emp-inc</td>\n",
              "      <td>56019</td>\n",
              "      <td>Prof-school</td>\n",
              "      <td>15</td>\n",
              "      <td>Married-civ-spouse</td>\n",
              "      <td>Prof-specialty</td>\n",
              "      <td>Husband</td>\n",
              "      <td>Asian-Pac-Islander</td>\n",
              "      <td>Male</td>\n",
              "      <td>99999.0</td>\n",
              "      <td>0.0</td>\n",
              "      <td>50.0</td>\n",
              "      <td>India</td>\n",
              "      <td>&gt;50K</td>\n",
              "    </tr>\n",
              "    <tr>\n",
              "      <th>4892</th>\n",
              "      <td>50.0</td>\n",
              "      <td>Self-emp-not-inc</td>\n",
              "      <td>203004</td>\n",
              "      <td>HS-grad</td>\n",
              "      <td>9</td>\n",
              "      <td>Divorced</td>\n",
              "      <td>Exec-managerial</td>\n",
              "      <td>Not-in-family</td>\n",
              "      <td>White</td>\n",
              "      <td>Female</td>\n",
              "      <td>99999.0</td>\n",
              "      <td>0.0</td>\n",
              "      <td>60.0</td>\n",
              "      <td>United-States</td>\n",
              "      <td>&gt;50K</td>\n",
              "    </tr>\n",
              "    <tr>\n",
              "      <th>4898</th>\n",
              "      <td>59.0</td>\n",
              "      <td>Private</td>\n",
              "      <td>35723</td>\n",
              "      <td>Bachelors</td>\n",
              "      <td>13</td>\n",
              "      <td>Married-civ-spouse</td>\n",
              "      <td>Farming-fishing</td>\n",
              "      <td>Husband</td>\n",
              "      <td>White</td>\n",
              "      <td>Male</td>\n",
              "      <td>99999.0</td>\n",
              "      <td>0.0</td>\n",
              "      <td>40.0</td>\n",
              "      <td>United-States</td>\n",
              "      <td>&gt;50K</td>\n",
              "    </tr>\n",
              "    <tr>\n",
              "      <th>5088</th>\n",
              "      <td>34.0</td>\n",
              "      <td>Private</td>\n",
              "      <td>128016</td>\n",
              "      <td>Bachelors</td>\n",
              "      <td>13</td>\n",
              "      <td>Married-civ-spouse</td>\n",
              "      <td>Prof-specialty</td>\n",
              "      <td>Wife</td>\n",
              "      <td>White</td>\n",
              "      <td>Female</td>\n",
              "      <td>99999.0</td>\n",
              "      <td>0.0</td>\n",
              "      <td>40.0</td>\n",
              "      <td>United-States</td>\n",
              "      <td>&gt;50K</td>\n",
              "    </tr>\n",
              "    <tr>\n",
              "      <th>5175</th>\n",
              "      <td>42.0</td>\n",
              "      <td>Private</td>\n",
              "      <td>34218</td>\n",
              "      <td>Prof-school</td>\n",
              "      <td>15</td>\n",
              "      <td>Divorced</td>\n",
              "      <td>Prof-specialty</td>\n",
              "      <td>Not-in-family</td>\n",
              "      <td>White</td>\n",
              "      <td>Male</td>\n",
              "      <td>99999.0</td>\n",
              "      <td>0.0</td>\n",
              "      <td>80.0</td>\n",
              "      <td>United-States</td>\n",
              "      <td>&gt;50K</td>\n",
              "    </tr>\n",
              "    <tr>\n",
              "      <th>5513</th>\n",
              "      <td>58.0</td>\n",
              "      <td>Private</td>\n",
              "      <td>478354</td>\n",
              "      <td>Bachelors</td>\n",
              "      <td>13</td>\n",
              "      <td>Married-civ-spouse</td>\n",
              "      <td>Exec-managerial</td>\n",
              "      <td>Husband</td>\n",
              "      <td>White</td>\n",
              "      <td>Male</td>\n",
              "      <td>99999.0</td>\n",
              "      <td>0.0</td>\n",
              "      <td>50.0</td>\n",
              "      <td>United-States</td>\n",
              "      <td>&gt;50K</td>\n",
              "    </tr>\n",
              "    <tr>\n",
              "      <th>5647</th>\n",
              "      <td>62.0</td>\n",
              "      <td>Self-emp-inc</td>\n",
              "      <td>191520</td>\n",
              "      <td>Doctorate</td>\n",
              "      <td>16</td>\n",
              "      <td>Married-civ-spouse</td>\n",
              "      <td>Prof-specialty</td>\n",
              "      <td>Husband</td>\n",
              "      <td>White</td>\n",
              "      <td>Male</td>\n",
              "      <td>99999.0</td>\n",
              "      <td>0.0</td>\n",
              "      <td>80.0</td>\n",
              "      <td>United-States</td>\n",
              "      <td>&gt;50K</td>\n",
              "    </tr>\n",
              "    <tr>\n",
              "      <th>5660</th>\n",
              "      <td>23.0</td>\n",
              "      <td>State-gov</td>\n",
              "      <td>89285</td>\n",
              "      <td>Some-college</td>\n",
              "      <td>10</td>\n",
              "      <td>Never-married</td>\n",
              "      <td>Protective-serv</td>\n",
              "      <td>Not-in-family</td>\n",
              "      <td>Other</td>\n",
              "      <td>Female</td>\n",
              "      <td>99999.0</td>\n",
              "      <td>0.0</td>\n",
              "      <td>40.0</td>\n",
              "      <td>United-States</td>\n",
              "      <td>&gt;50K</td>\n",
              "    </tr>\n",
              "    <tr>\n",
              "      <th>5849</th>\n",
              "      <td>48.0</td>\n",
              "      <td>Private</td>\n",
              "      <td>205100</td>\n",
              "      <td>Bachelors</td>\n",
              "      <td>13</td>\n",
              "      <td>Married-civ-spouse</td>\n",
              "      <td>Sales</td>\n",
              "      <td>Husband</td>\n",
              "      <td>White</td>\n",
              "      <td>Male</td>\n",
              "      <td>99999.0</td>\n",
              "      <td>0.0</td>\n",
              "      <td>80.0</td>\n",
              "      <td>United-States</td>\n",
              "      <td>&gt;50K</td>\n",
              "    </tr>\n",
              "    <tr>\n",
              "      <th>6150</th>\n",
              "      <td>32.0</td>\n",
              "      <td>Private</td>\n",
              "      <td>355700</td>\n",
              "      <td>Prof-school</td>\n",
              "      <td>15</td>\n",
              "      <td>Married-AF-spouse</td>\n",
              "      <td>Prof-specialty</td>\n",
              "      <td>Wife</td>\n",
              "      <td>White</td>\n",
              "      <td>Female</td>\n",
              "      <td>99999.0</td>\n",
              "      <td>0.0</td>\n",
              "      <td>60.0</td>\n",
              "      <td>United-States</td>\n",
              "      <td>&gt;50K</td>\n",
              "    </tr>\n",
              "    <tr>\n",
              "      <th>6303</th>\n",
              "      <td>58.0</td>\n",
              "      <td>Private</td>\n",
              "      <td>186905</td>\n",
              "      <td>HS-grad</td>\n",
              "      <td>9</td>\n",
              "      <td>Divorced</td>\n",
              "      <td>Adm-clerical</td>\n",
              "      <td>Unmarried</td>\n",
              "      <td>White</td>\n",
              "      <td>Female</td>\n",
              "      <td>99999.0</td>\n",
              "      <td>0.0</td>\n",
              "      <td>40.0</td>\n",
              "      <td>United-States</td>\n",
              "      <td>&gt;50K</td>\n",
              "    </tr>\n",
              "    <tr>\n",
              "      <th>6584</th>\n",
              "      <td>65.0</td>\n",
              "      <td>Private</td>\n",
              "      <td>190160</td>\n",
              "      <td>Bachelors</td>\n",
              "      <td>13</td>\n",
              "      <td>Married-civ-spouse</td>\n",
              "      <td>Exec-managerial</td>\n",
              "      <td>Husband</td>\n",
              "      <td>White</td>\n",
              "      <td>Male</td>\n",
              "      <td>99999.0</td>\n",
              "      <td>0.0</td>\n",
              "      <td>40.0</td>\n",
              "      <td>United-States</td>\n",
              "      <td>&gt;50K</td>\n",
              "    </tr>\n",
              "    <tr>\n",
              "      <th>6593</th>\n",
              "      <td>46.0</td>\n",
              "      <td>Private</td>\n",
              "      <td>235334</td>\n",
              "      <td>Masters</td>\n",
              "      <td>14</td>\n",
              "      <td>Married-civ-spouse</td>\n",
              "      <td>Exec-managerial</td>\n",
              "      <td>Husband</td>\n",
              "      <td>Black</td>\n",
              "      <td>Male</td>\n",
              "      <td>99999.0</td>\n",
              "      <td>0.0</td>\n",
              "      <td>60.0</td>\n",
              "      <td>United-States</td>\n",
              "      <td>&gt;50K</td>\n",
              "    </tr>\n",
              "    <tr>\n",
              "      <th>6777</th>\n",
              "      <td>48.0</td>\n",
              "      <td>Local-gov</td>\n",
              "      <td>93449</td>\n",
              "      <td>Prof-school</td>\n",
              "      <td>15</td>\n",
              "      <td>Married-civ-spouse</td>\n",
              "      <td>Prof-specialty</td>\n",
              "      <td>Husband</td>\n",
              "      <td>Asian-Pac-Islander</td>\n",
              "      <td>Male</td>\n",
              "      <td>99999.0</td>\n",
              "      <td>0.0</td>\n",
              "      <td>40.0</td>\n",
              "      <td>Philippines</td>\n",
              "      <td>&gt;50K</td>\n",
              "    </tr>\n",
              "    <tr>\n",
              "      <th>6917</th>\n",
              "      <td>60.0</td>\n",
              "      <td>Federal-gov</td>\n",
              "      <td>38749</td>\n",
              "      <td>Prof-school</td>\n",
              "      <td>15</td>\n",
              "      <td>Married-civ-spouse</td>\n",
              "      <td>Prof-specialty</td>\n",
              "      <td>Husband</td>\n",
              "      <td>Asian-Pac-Islander</td>\n",
              "      <td>Male</td>\n",
              "      <td>99999.0</td>\n",
              "      <td>0.0</td>\n",
              "      <td>NaN</td>\n",
              "      <td>Philippines</td>\n",
              "      <td>&gt;50K</td>\n",
              "    </tr>\n",
              "    <tr>\n",
              "      <th>7002</th>\n",
              "      <td>54.0</td>\n",
              "      <td>Self-emp-inc</td>\n",
              "      <td>22743</td>\n",
              "      <td>Bachelors</td>\n",
              "      <td>13</td>\n",
              "      <td>Divorced</td>\n",
              "      <td>Exec-managerial</td>\n",
              "      <td>Not-in-family</td>\n",
              "      <td>White</td>\n",
              "      <td>Male</td>\n",
              "      <td>99999.0</td>\n",
              "      <td>0.0</td>\n",
              "      <td>70.0</td>\n",
              "      <td>United-States</td>\n",
              "      <td>&gt;50K</td>\n",
              "    </tr>\n",
              "    <tr>\n",
              "      <th>7047</th>\n",
              "      <td>45.0</td>\n",
              "      <td>Self-emp-not-inc</td>\n",
              "      <td>45136</td>\n",
              "      <td>Prof-school</td>\n",
              "      <td>15</td>\n",
              "      <td>Married-civ-spouse</td>\n",
              "      <td>Prof-specialty</td>\n",
              "      <td>Husband</td>\n",
              "      <td>White</td>\n",
              "      <td>Male</td>\n",
              "      <td>99999.0</td>\n",
              "      <td>0.0</td>\n",
              "      <td>60.0</td>\n",
              "      <td>United-States</td>\n",
              "      <td>&gt;50K</td>\n",
              "    </tr>\n",
              "    <tr>\n",
              "      <th>7509</th>\n",
              "      <td>28.0</td>\n",
              "      <td>Private</td>\n",
              "      <td>106141</td>\n",
              "      <td>HS-grad</td>\n",
              "      <td>9</td>\n",
              "      <td>Married-civ-spouse</td>\n",
              "      <td>Craft-repair</td>\n",
              "      <td>Husband</td>\n",
              "      <td>White</td>\n",
              "      <td>Male</td>\n",
              "      <td>99999.0</td>\n",
              "      <td>0.0</td>\n",
              "      <td>40.0</td>\n",
              "      <td>United-States</td>\n",
              "      <td>&gt;50K</td>\n",
              "    </tr>\n",
              "    <tr>\n",
              "      <th>8055</th>\n",
              "      <td>48.0</td>\n",
              "      <td>Private</td>\n",
              "      <td>207540</td>\n",
              "      <td>Bachelors</td>\n",
              "      <td>13</td>\n",
              "      <td>Never-married</td>\n",
              "      <td>Craft-repair</td>\n",
              "      <td>Not-in-family</td>\n",
              "      <td>White</td>\n",
              "      <td>Male</td>\n",
              "      <td>99999.0</td>\n",
              "      <td>0.0</td>\n",
              "      <td>60.0</td>\n",
              "      <td>United-States</td>\n",
              "      <td>&gt;50K</td>\n",
              "    </tr>\n",
              "    <tr>\n",
              "      <th>8306</th>\n",
              "      <td>80.0</td>\n",
              "      <td>Self-emp-inc</td>\n",
              "      <td>164909</td>\n",
              "      <td>Masters</td>\n",
              "      <td>14</td>\n",
              "      <td>Married-civ-spouse</td>\n",
              "      <td>Exec-managerial</td>\n",
              "      <td>Husband</td>\n",
              "      <td>White</td>\n",
              "      <td>Male</td>\n",
              "      <td>99999.0</td>\n",
              "      <td>0.0</td>\n",
              "      <td>54.0</td>\n",
              "      <td>United-States</td>\n",
              "      <td>&gt;50K</td>\n",
              "    </tr>\n",
              "    <tr>\n",
              "      <th>8363</th>\n",
              "      <td>44.0</td>\n",
              "      <td>Private</td>\n",
              "      <td>227065</td>\n",
              "      <td>Bachelors</td>\n",
              "      <td>13</td>\n",
              "      <td>Married-civ-spouse</td>\n",
              "      <td>Prof-specialty</td>\n",
              "      <td>Husband</td>\n",
              "      <td>White</td>\n",
              "      <td>Male</td>\n",
              "      <td>99999.0</td>\n",
              "      <td>0.0</td>\n",
              "      <td>40.0</td>\n",
              "      <td>?</td>\n",
              "      <td>&gt;50K</td>\n",
              "    </tr>\n",
              "    <tr>\n",
              "      <th>8438</th>\n",
              "      <td>40.0</td>\n",
              "      <td>Private</td>\n",
              "      <td>219869</td>\n",
              "      <td>HS-grad</td>\n",
              "      <td>9</td>\n",
              "      <td>Married-civ-spouse</td>\n",
              "      <td>Farming-fishing</td>\n",
              "      <td>Husband</td>\n",
              "      <td>White</td>\n",
              "      <td>Male</td>\n",
              "      <td>99999.0</td>\n",
              "      <td>0.0</td>\n",
              "      <td>75.0</td>\n",
              "      <td>United-States</td>\n",
              "      <td>&gt;50K</td>\n",
              "    </tr>\n",
              "    <tr>\n",
              "      <th>8782</th>\n",
              "      <td>37.0</td>\n",
              "      <td>Private</td>\n",
              "      <td>356410</td>\n",
              "      <td>Assoc-voc</td>\n",
              "      <td>11</td>\n",
              "      <td>Married-civ-spouse</td>\n",
              "      <td>Sales</td>\n",
              "      <td>Husband</td>\n",
              "      <td>White</td>\n",
              "      <td>Male</td>\n",
              "      <td>99999.0</td>\n",
              "      <td>0.0</td>\n",
              "      <td>40.0</td>\n",
              "      <td>United-States</td>\n",
              "      <td>&gt;50K</td>\n",
              "    </tr>\n",
              "    <tr>\n",
              "      <th>8807</th>\n",
              "      <td>37.0</td>\n",
              "      <td>Self-emp-inc</td>\n",
              "      <td>158294</td>\n",
              "      <td>Assoc-voc</td>\n",
              "      <td>11</td>\n",
              "      <td>Married-civ-spouse</td>\n",
              "      <td>Farming-fishing</td>\n",
              "      <td>Husband</td>\n",
              "      <td>White</td>\n",
              "      <td>Male</td>\n",
              "      <td>99999.0</td>\n",
              "      <td>0.0</td>\n",
              "      <td>75.0</td>\n",
              "      <td>United-States</td>\n",
              "      <td>&gt;50K</td>\n",
              "    </tr>\n",
              "    <tr>\n",
              "      <th>8917</th>\n",
              "      <td>37.0</td>\n",
              "      <td>Self-emp-inc</td>\n",
              "      <td>106232</td>\n",
              "      <td>Prof-school</td>\n",
              "      <td>15</td>\n",
              "      <td>Married-civ-spouse</td>\n",
              "      <td>Prof-specialty</td>\n",
              "      <td>Husband</td>\n",
              "      <td>White</td>\n",
              "      <td>Male</td>\n",
              "      <td>99999.0</td>\n",
              "      <td>0.0</td>\n",
              "      <td>48.0</td>\n",
              "      <td>United-States</td>\n",
              "      <td>&gt;50K</td>\n",
              "    </tr>\n",
              "    <tr>\n",
              "      <th>8918</th>\n",
              "      <td>37.0</td>\n",
              "      <td>Private</td>\n",
              "      <td>113211</td>\n",
              "      <td>Bachelors</td>\n",
              "      <td>13</td>\n",
              "      <td>Married-civ-spouse</td>\n",
              "      <td>Craft-repair</td>\n",
              "      <td>Husband</td>\n",
              "      <td>White</td>\n",
              "      <td>Male</td>\n",
              "      <td>99999.0</td>\n",
              "      <td>0.0</td>\n",
              "      <td>40.0</td>\n",
              "      <td>United-States</td>\n",
              "      <td>&gt;50K</td>\n",
              "    </tr>\n",
              "    <tr>\n",
              "      <th>8931</th>\n",
              "      <td>37.0</td>\n",
              "      <td>Self-emp-inc</td>\n",
              "      <td>182158</td>\n",
              "      <td>Prof-school</td>\n",
              "      <td>15</td>\n",
              "      <td>Married-civ-spouse</td>\n",
              "      <td>Prof-specialty</td>\n",
              "      <td>Husband</td>\n",
              "      <td>White</td>\n",
              "      <td>Male</td>\n",
              "      <td>99999.0</td>\n",
              "      <td>0.0</td>\n",
              "      <td>60.0</td>\n",
              "      <td>United-States</td>\n",
              "      <td>&gt;50K</td>\n",
              "    </tr>\n",
              "    <tr>\n",
              "      <th>9058</th>\n",
              "      <td>37.0</td>\n",
              "      <td>Private</td>\n",
              "      <td>288353</td>\n",
              "      <td>Bachelors</td>\n",
              "      <td>13</td>\n",
              "      <td>Married-civ-spouse</td>\n",
              "      <td>Sales</td>\n",
              "      <td>Husband</td>\n",
              "      <td>White</td>\n",
              "      <td>Male</td>\n",
              "      <td>99999.0</td>\n",
              "      <td>0.0</td>\n",
              "      <td>48.0</td>\n",
              "      <td>United-States</td>\n",
              "      <td>&gt;50K</td>\n",
              "    </tr>\n",
              "    <tr>\n",
              "      <th>9127</th>\n",
              "      <td>37.0</td>\n",
              "      <td>Self-emp-inc</td>\n",
              "      <td>443508</td>\n",
              "      <td>Doctorate</td>\n",
              "      <td>16</td>\n",
              "      <td>Married-civ-spouse</td>\n",
              "      <td>Exec-managerial</td>\n",
              "      <td>Husband</td>\n",
              "      <td>White</td>\n",
              "      <td>Male</td>\n",
              "      <td>99999.0</td>\n",
              "      <td>0.0</td>\n",
              "      <td>60.0</td>\n",
              "      <td>United-States</td>\n",
              "      <td>&gt;50K</td>\n",
              "    </tr>\n",
              "    <tr>\n",
              "      <th>9189</th>\n",
              "      <td>37.0</td>\n",
              "      <td>Private</td>\n",
              "      <td>93997</td>\n",
              "      <td>Doctorate</td>\n",
              "      <td>16</td>\n",
              "      <td>Married-civ-spouse</td>\n",
              "      <td>Exec-managerial</td>\n",
              "      <td>Husband</td>\n",
              "      <td>White</td>\n",
              "      <td>Male</td>\n",
              "      <td>99999.0</td>\n",
              "      <td>0.0</td>\n",
              "      <td>40.0</td>\n",
              "      <td>United-States</td>\n",
              "      <td>&gt;50K</td>\n",
              "    </tr>\n",
              "    <tr>\n",
              "      <th>9222</th>\n",
              "      <td>38.0</td>\n",
              "      <td>Self-emp-not-inc</td>\n",
              "      <td>203988</td>\n",
              "      <td>Doctorate</td>\n",
              "      <td>16</td>\n",
              "      <td>Married-civ-spouse</td>\n",
              "      <td>Prof-specialty</td>\n",
              "      <td>Husband</td>\n",
              "      <td>White</td>\n",
              "      <td>Male</td>\n",
              "      <td>99999.0</td>\n",
              "      <td>0.0</td>\n",
              "      <td>NaN</td>\n",
              "      <td>United-States</td>\n",
              "      <td>&gt;50K</td>\n",
              "    </tr>\n",
              "    <tr>\n",
              "      <th>9388</th>\n",
              "      <td>51.0</td>\n",
              "      <td>Self-emp-not-inc</td>\n",
              "      <td>85877</td>\n",
              "      <td>HS-grad</td>\n",
              "      <td>9</td>\n",
              "      <td>Divorced</td>\n",
              "      <td>Exec-managerial</td>\n",
              "      <td>Not-in-family</td>\n",
              "      <td>White</td>\n",
              "      <td>Female</td>\n",
              "      <td>99999.0</td>\n",
              "      <td>0.0</td>\n",
              "      <td>NaN</td>\n",
              "      <td>United-States</td>\n",
              "      <td>&gt;50K</td>\n",
              "    </tr>\n",
              "  </tbody>\n",
              "</table>\n",
              "</div>\n",
              "      <button class=\"colab-df-convert\" onclick=\"convertToInteractive('df-a19e71d8-8f77-4fd7-8875-5ecf24142153')\"\n",
              "              title=\"Convert this dataframe to an interactive table.\"\n",
              "              style=\"display:none;\">\n",
              "        \n",
              "  <svg xmlns=\"http://www.w3.org/2000/svg\" height=\"24px\"viewBox=\"0 0 24 24\"\n",
              "       width=\"24px\">\n",
              "    <path d=\"M0 0h24v24H0V0z\" fill=\"none\"/>\n",
              "    <path d=\"M18.56 5.44l.94 2.06.94-2.06 2.06-.94-2.06-.94-.94-2.06-.94 2.06-2.06.94zm-11 1L8.5 8.5l.94-2.06 2.06-.94-2.06-.94L8.5 2.5l-.94 2.06-2.06.94zm10 10l.94 2.06.94-2.06 2.06-.94-2.06-.94-.94-2.06-.94 2.06-2.06.94z\"/><path d=\"M17.41 7.96l-1.37-1.37c-.4-.4-.92-.59-1.43-.59-.52 0-1.04.2-1.43.59L10.3 9.45l-7.72 7.72c-.78.78-.78 2.05 0 2.83L4 21.41c.39.39.9.59 1.41.59.51 0 1.02-.2 1.41-.59l7.78-7.78 2.81-2.81c.8-.78.8-2.07 0-2.86zM5.41 20L4 18.59l7.72-7.72 1.47 1.35L5.41 20z\"/>\n",
              "  </svg>\n",
              "      </button>\n",
              "      \n",
              "  <style>\n",
              "    .colab-df-container {\n",
              "      display:flex;\n",
              "      flex-wrap:wrap;\n",
              "      gap: 12px;\n",
              "    }\n",
              "\n",
              "    .colab-df-convert {\n",
              "      background-color: #E8F0FE;\n",
              "      border: none;\n",
              "      border-radius: 50%;\n",
              "      cursor: pointer;\n",
              "      display: none;\n",
              "      fill: #1967D2;\n",
              "      height: 32px;\n",
              "      padding: 0 0 0 0;\n",
              "      width: 32px;\n",
              "    }\n",
              "\n",
              "    .colab-df-convert:hover {\n",
              "      background-color: #E2EBFA;\n",
              "      box-shadow: 0px 1px 2px rgba(60, 64, 67, 0.3), 0px 1px 3px 1px rgba(60, 64, 67, 0.15);\n",
              "      fill: #174EA6;\n",
              "    }\n",
              "\n",
              "    [theme=dark] .colab-df-convert {\n",
              "      background-color: #3B4455;\n",
              "      fill: #D2E3FC;\n",
              "    }\n",
              "\n",
              "    [theme=dark] .colab-df-convert:hover {\n",
              "      background-color: #434B5C;\n",
              "      box-shadow: 0px 1px 3px 1px rgba(0, 0, 0, 0.15);\n",
              "      filter: drop-shadow(0px 1px 2px rgba(0, 0, 0, 0.3));\n",
              "      fill: #FFFFFF;\n",
              "    }\n",
              "  </style>\n",
              "\n",
              "      <script>\n",
              "        const buttonEl =\n",
              "          document.querySelector('#df-a19e71d8-8f77-4fd7-8875-5ecf24142153 button.colab-df-convert');\n",
              "        buttonEl.style.display =\n",
              "          google.colab.kernel.accessAllowed ? 'block' : 'none';\n",
              "\n",
              "        async function convertToInteractive(key) {\n",
              "          const element = document.querySelector('#df-a19e71d8-8f77-4fd7-8875-5ecf24142153');\n",
              "          const dataTable =\n",
              "            await google.colab.kernel.invokeFunction('convertToInteractive',\n",
              "                                                     [key], {});\n",
              "          if (!dataTable) return;\n",
              "\n",
              "          const docLinkHtml = 'Like what you see? Visit the ' +\n",
              "            '<a target=\"_blank\" href=https://colab.research.google.com/notebooks/data_table.ipynb>data table notebook</a>'\n",
              "            + ' to learn more about interactive tables.';\n",
              "          element.innerHTML = '';\n",
              "          dataTable['output_type'] = 'display_data';\n",
              "          await google.colab.output.renderOutput(dataTable, element);\n",
              "          const docLink = document.createElement('div');\n",
              "          docLink.innerHTML = docLinkHtml;\n",
              "          element.appendChild(docLink);\n",
              "        }\n",
              "      </script>\n",
              "    </div>\n",
              "  </div>\n",
              "  "
            ]
          },
          "metadata": {},
          "execution_count": 55
        }
      ]
    },
    {
      "cell_type": "markdown",
      "source": [
        "All clients have income higher than 50K. So, they maybe do not want to say about additional gain. As this value seems strange, I decided just fill capital-gain by mean among people, who have income > 50K\n",
        "\n"
      ],
      "metadata": {
        "id": "r5mYbOO2ONxH"
      }
    },
    {
      "cell_type": "code",
      "source": [
        "mean = df_change[df_change[\"income_>50K\"] == 1][\"capital-gain\"].mean()\n",
        "df_change.loc[df_change[\"capital-gain\"] == df_change[\"capital-gain\"].max(), \"capital-gain\"] = mean"
      ],
      "metadata": {
        "id": "pbpn3lInPL3F"
      },
      "execution_count": 56,
      "outputs": []
    },
    {
      "cell_type": "code",
      "source": [
        "df_change[\"hours-per-week\"].hist()"
      ],
      "metadata": {
        "colab": {
          "base_uri": "https://localhost:8080/",
          "height": 448
        },
        "id": "2T1uzlxGRV_B",
        "outputId": "f30833b6-fcb9-4c91-a02b-10ea62df4161"
      },
      "execution_count": 57,
      "outputs": [
        {
          "output_type": "execute_result",
          "data": {
            "text/plain": [
              "<Axes: >"
            ]
          },
          "metadata": {},
          "execution_count": 57
        },
        {
          "output_type": "display_data",
          "data": {
            "text/plain": [
              "<Figure size 640x480 with 1 Axes>"
            ],
            "image/png": "[encoded data removed]"
          },
          "metadata": {}
        }
      ]
    },
    {
      "cell_type": "markdown",
      "source": [
        "There is a small tail of distribution where clients work about 100 hours per week. Firstly, I think it is also an outlier. However, this might be true becuse it is not obvoius mistake (not more than 24$\\cdot$7)"
      ],
      "metadata": {
        "id": "YDGZ0CwCR76N"
      }
    },
    {
      "cell_type": "code",
      "source": [
        "corr = df.corr()\n",
        "corr.style.background_gradient()"
      ],
      "metadata": {
        "id": "ba6wxZGjx50Y",
        "colab": {
          "base_uri": "https://localhost:8080/",
          "height": 238
        },
        "outputId": "52bcb9fd-ba69-4000-8577-c616d5eb2ab5"
      },
      "execution_count": 58,
      "outputs": [
        {
          "output_type": "execute_result",
          "data": {
            "text/plain": [
              "<pandas.io.formats.style.Styler at 0x7f2d7a5a0a60>"
            ],
            "text/html": [
              "<style type=\"text/css\">\n",
              "#T_ae6a4_row0_col0, #T_ae6a4_row1_col1, #T_ae6a4_row2_col2, #T_ae6a4_row3_col3, #T_ae6a4_row4_col4, #T_ae6a4_row5_col5 {\n",
              "  background-color: #023858;\n",
              "  color: #f1f1f1;\n",
              "}\n",
              "#T_ae6a4_row0_col1, #T_ae6a4_row1_col0, #T_ae6a4_row1_col2, #T_ae6a4_row1_col5, #T_ae6a4_row3_col4, #T_ae6a4_row4_col3 {\n",
              "  background-color: #fff7fb;\n",
              "  color: #000000;\n",
              "}\n",
              "#T_ae6a4_row0_col2, #T_ae6a4_row1_col3 {\n",
              "  background-color: #fbf4f9;\n",
              "  color: #000000;\n",
              "}\n",
              "#T_ae6a4_row0_col3, #T_ae6a4_row3_col5, #T_ae6a4_row4_col2 {\n",
              "  background-color: #f0eaf4;\n",
              "  color: #000000;\n",
              "}\n",
              "#T_ae6a4_row0_col4, #T_ae6a4_row2_col0 {\n",
              "  background-color: #f4edf6;\n",
              "  color: #000000;\n",
              "}\n",
              "#T_ae6a4_row0_col5 {\n",
              "  background-color: #f2ecf5;\n",
              "  color: #000000;\n",
              "}\n",
              "#T_ae6a4_row1_col4 {\n",
              "  background-color: #fbf3f9;\n",
              "  color: #000000;\n",
              "}\n",
              "#T_ae6a4_row2_col1, #T_ae6a4_row4_col5 {\n",
              "  background-color: #f7f0f7;\n",
              "  color: #000000;\n",
              "}\n",
              "#T_ae6a4_row2_col3, #T_ae6a4_row5_col2 {\n",
              "  background-color: #e5e1ef;\n",
              "  color: #000000;\n",
              "}\n",
              "#T_ae6a4_row2_col4 {\n",
              "  background-color: #eee9f3;\n",
              "  color: #000000;\n",
              "}\n",
              "#T_ae6a4_row2_col5, #T_ae6a4_row3_col0 {\n",
              "  background-color: #e9e5f1;\n",
              "  color: #000000;\n",
              "}\n",
              "#T_ae6a4_row3_col1 {\n",
              "  background-color: #f5eef6;\n",
              "  color: #000000;\n",
              "}\n",
              "#T_ae6a4_row3_col2, #T_ae6a4_row5_col0 {\n",
              "  background-color: #e6e2ef;\n",
              "  color: #000000;\n",
              "}\n",
              "#T_ae6a4_row4_col0 {\n",
              "  background-color: #ede8f3;\n",
              "  color: #000000;\n",
              "}\n",
              "#T_ae6a4_row4_col1, #T_ae6a4_row5_col1 {\n",
              "  background-color: #f4eef6;\n",
              "  color: #000000;\n",
              "}\n",
              "#T_ae6a4_row5_col3 {\n",
              "  background-color: #ebe6f2;\n",
              "  color: #000000;\n",
              "}\n",
              "#T_ae6a4_row5_col4 {\n",
              "  background-color: #f3edf5;\n",
              "  color: #000000;\n",
              "}\n",
              "</style>\n",
              "<table id=\"T_ae6a4\" class=\"dataframe\">\n",
              "  <thead>\n",
              "    <tr>\n",
              "      <th class=\"blank level0\" >&nbsp;</th>\n",
              "      <th id=\"T_ae6a4_level0_col0\" class=\"col_heading level0 col0\" >age</th>\n",
              "      <th id=\"T_ae6a4_level0_col1\" class=\"col_heading level0 col1\" >fnlwgt</th>\n",
              "      <th id=\"T_ae6a4_level0_col2\" class=\"col_heading level0 col2\" >educational-num</th>\n",
              "      <th id=\"T_ae6a4_level0_col3\" class=\"col_heading level0 col3\" >capital-gain</th>\n",
              "      <th id=\"T_ae6a4_level0_col4\" class=\"col_heading level0 col4\" >capital-loss</th>\n",
              "      <th id=\"T_ae6a4_level0_col5\" class=\"col_heading level0 col5\" >hours-per-week</th>\n",
              "    </tr>\n",
              "  </thead>\n",
              "  <tbody>\n",
              "    <tr>\n",
              "      <th id=\"T_ae6a4_level0_row0\" class=\"row_heading level0 row0\" >age</th>\n",
              "      <td id=\"T_ae6a4_row0_col0\" class=\"data row0 col0\" >1.000000</td>\n",
              "      <td id=\"T_ae6a4_row0_col1\" class=\"data row0 col1\" >-0.079232</td>\n",
              "      <td id=\"T_ae6a4_row0_col2\" class=\"data row0 col2\" >0.002274</td>\n",
              "      <td id=\"T_ae6a4_row0_col3\" class=\"data row0 col3\" >0.072331</td>\n",
              "      <td id=\"T_ae6a4_row0_col4\" class=\"data row0 col4\" >0.049127</td>\n",
              "      <td id=\"T_ae6a4_row0_col5\" class=\"data row0 col5\" >0.086708</td>\n",
              "    </tr>\n",
              "    <tr>\n",
              "      <th id=\"T_ae6a4_level0_row1\" class=\"row_heading level0 row1\" >fnlwgt</th>\n",
              "      <td id=\"T_ae6a4_row1_col0\" class=\"data row1 col0\" >-0.079232</td>\n",
              "      <td id=\"T_ae6a4_row1_col1\" class=\"data row1 col1\" >1.000000</td>\n",
              "      <td id=\"T_ae6a4_row1_col2\" class=\"data row1 col2\" >-0.024398</td>\n",
              "      <td id=\"T_ae6a4_row1_col3\" class=\"data row1 col3\" >-0.005989</td>\n",
              "      <td id=\"T_ae6a4_row1_col4\" class=\"data row1 col4\" >-0.000409</td>\n",
              "      <td id=\"T_ae6a4_row1_col5\" class=\"data row1 col5\" >-0.003148</td>\n",
              "    </tr>\n",
              "    <tr>\n",
              "      <th id=\"T_ae6a4_level0_row2\" class=\"row_heading level0 row2\" >educational-num</th>\n",
              "      <td id=\"T_ae6a4_row2_col0\" class=\"data row2 col0\" >0.002274</td>\n",
              "      <td id=\"T_ae6a4_row2_col1\" class=\"data row2 col1\" >-0.024398</td>\n",
              "      <td id=\"T_ae6a4_row2_col2\" class=\"data row2 col2\" >1.000000</td>\n",
              "      <td id=\"T_ae6a4_row2_col3\" class=\"data row2 col3\" >0.132639</td>\n",
              "      <td id=\"T_ae6a4_row2_col4\" class=\"data row2 col4\" >0.083546</td>\n",
              "      <td id=\"T_ae6a4_row2_col5\" class=\"data row2 col5\" >0.137757</td>\n",
              "    </tr>\n",
              "    <tr>\n",
              "      <th id=\"T_ae6a4_level0_row3\" class=\"row_heading level0 row3\" >capital-gain</th>\n",
              "      <td id=\"T_ae6a4_row3_col0\" class=\"data row3 col0\" >0.072331</td>\n",
              "      <td id=\"T_ae6a4_row3_col1\" class=\"data row3 col1\" >-0.005989</td>\n",
              "      <td id=\"T_ae6a4_row3_col2\" class=\"data row3 col2\" >0.132639</td>\n",
              "      <td id=\"T_ae6a4_row3_col3\" class=\"data row3 col3\" >1.000000</td>\n",
              "      <td id=\"T_ae6a4_row3_col4\" class=\"data row3 col4\" >-0.030944</td>\n",
              "      <td id=\"T_ae6a4_row3_col5\" class=\"data row3 col5\" >0.102024</td>\n",
              "    </tr>\n",
              "    <tr>\n",
              "      <th id=\"T_ae6a4_level0_row4\" class=\"row_heading level0 row4\" >capital-loss</th>\n",
              "      <td id=\"T_ae6a4_row4_col0\" class=\"data row4 col0\" >0.049127</td>\n",
              "      <td id=\"T_ae6a4_row4_col1\" class=\"data row4 col1\" >-0.000409</td>\n",
              "      <td id=\"T_ae6a4_row4_col2\" class=\"data row4 col2\" >0.083546</td>\n",
              "      <td id=\"T_ae6a4_row4_col3\" class=\"data row4 col3\" >-0.030944</td>\n",
              "      <td id=\"T_ae6a4_row4_col4\" class=\"data row4 col4\" >1.000000</td>\n",
              "      <td id=\"T_ae6a4_row4_col5\" class=\"data row4 col5\" >0.052580</td>\n",
              "    </tr>\n",
              "    <tr>\n",
              "      <th id=\"T_ae6a4_level0_row5\" class=\"row_heading level0 row5\" >hours-per-week</th>\n",
              "      <td id=\"T_ae6a4_row5_col0\" class=\"data row5 col0\" >0.086708</td>\n",
              "      <td id=\"T_ae6a4_row5_col1\" class=\"data row5 col1\" >-0.003148</td>\n",
              "      <td id=\"T_ae6a4_row5_col2\" class=\"data row5 col2\" >0.137757</td>\n",
              "      <td id=\"T_ae6a4_row5_col3\" class=\"data row5 col3\" >0.102024</td>\n",
              "      <td id=\"T_ae6a4_row5_col4\" class=\"data row5 col4\" >0.052580</td>\n",
              "      <td id=\"T_ae6a4_row5_col5\" class=\"data row5 col5\" >1.000000</td>\n",
              "    </tr>\n",
              "  </tbody>\n",
              "</table>\n"
            ]
          },
          "metadata": {},
          "execution_count": 58
        }
      ]
    },
    {
      "cell_type": "markdown",
      "source": [
        "There is no strong correlation between the predicted variable and features (correlation is less than 0.5)"
      ],
      "metadata": {
        "id": "3h7Y-yadTJtc"
      }
    },
    {
      "cell_type": "markdown",
      "source": [
        "## Model construction"
      ],
      "metadata": {
        "id": "TgNE5quVTgaG"
      }
    },
    {
      "cell_type": "markdown",
      "source": [
        "### Logistic Regression"
      ],
      "metadata": {
        "id": "ew13QyZnTkfh"
      }
    },
    {
      "cell_type": "markdown",
      "source": [
        "We'd like to predict the 'income' variable. Before I start modeling I should make the same scale for all variables"
      ],
      "metadata": {
        "id": "Pr8vIDF-QXoE"
      }
    },
    {
      "cell_type": "code",
      "source": [
        "df_change = df_change.rename({\"income_>50K\" : \"income\"}, axis=1)\n",
        "df_change = df_change.drop([\"income_<=50K\", \"cluster\"], axis=1)"
      ],
      "metadata": {
        "id": "gr7VA0gpRrEC"
      },
      "execution_count": 59,
      "outputs": []
    },
    {
      "cell_type": "code",
      "source": [
        "# drop columns to eliminate possibility of collinearity\n",
        "# [['income', 'education_Some-college','marital-status_Divorced','relationship_Husband',\n",
        "#   'race_Amer-Indian-Eskimo','gender_Female', 'native-country_Cambodia',\n",
        "#   'workclass_Federal-gov', 'occupation_Adm-clerical', 'cluster']]"
      ],
      "metadata": {
        "id": "W3ZHbI7lmAC-",
        "colab": {
          "base_uri": "https://localhost:8080/"
        },
        "outputId": "e0dfbced-cf6f-4bf6-c4cd-648129853bc1"
      },
      "execution_count": 60,
      "outputs": [
        {
          "output_type": "execute_result",
          "data": {
            "text/plain": [
              "[['income',\n",
              "  'education_Some-college',\n",
              "  'marital-status_Divorced',\n",
              "  'relationship_Husband',\n",
              "  'race_Amer-Indian-Eskimo',\n",
              "  'gender_Female',\n",
              "  'native-country_Cambodia',\n",
              "  'workclass_Federal-gov',\n",
              "  'occupation_Adm-clerical',\n",
              "  'cluster']]"
            ]
          },
          "metadata": {},
          "execution_count": 60
        }
      ]
    },
    {
      "cell_type": "code",
      "source": [
        "X = df_change.drop(['income', 'education_Some-college','marital-status_Divorced',\n",
        "                    'relationship_Husband',\n",
        "                    'race_Amer-Indian-Eskimo','gender_Female', \n",
        "                    'native-country_Cambodia',\n",
        "                    'workclass_Federal-gov', 'occupation_Adm-clerical'], axis=1)\n",
        "y = df_change[\"income\"]"
      ],
      "metadata": {
        "id": "x7-kMP9qTEd1"
      },
      "execution_count": 61,
      "outputs": []
    },
    {
      "cell_type": "code",
      "source": [
        "Xtrain, Xtest, ytrain, ytest = train_test_split(X, \n",
        "                                                y, \n",
        "                                                test_size=0.25, \n",
        "                                                random_state=42)"
      ],
      "metadata": {
        "id": "V107L7SZS_ZJ"
      },
      "execution_count": 178,
      "outputs": []
    },
    {
      "cell_type": "markdown",
      "source": [
        "Let's use MinMaxScaler to standartize our data"
      ],
      "metadata": {
        "id": "ivl_GZpLV3Gj"
      }
    },
    {
      "cell_type": "code",
      "source": [
        "mm = MinMaxScaler()\n",
        "mm.fit(Xtrain)"
      ],
      "metadata": {
        "colab": {
          "base_uri": "https://localhost:8080/",
          "height": 75
        },
        "id": "4BXi7c60WO68",
        "outputId": "db9defbf-03fc-4fb0-8995-616acc1407c9"
      },
      "execution_count": 179,
      "outputs": [
        {
          "output_type": "execute_result",
          "data": {
            "text/plain": [
              "MinMaxScaler()"
            ],
            "text/html": [
              "<style>#sk-container-id-7 {color: black;background-color: white;}#sk-container-id-7 pre{padding: 0;}#sk-container-id-7 div.sk-toggleable {background-color: white;}#sk-container-id-7 label.sk-toggleable__label {cursor: pointer;display: block;width: 100%;margin-bottom: 0;padding: 0.3em;box-sizing: border-box;text-align: center;}#sk-container-id-7 label.sk-toggleable__label-arrow:before {content: \"▸\";float: left;margin-right: 0.25em;color: #696969;}#sk-container-id-7 label.sk-toggleable__label-arrow:hover:before {color: black;}#sk-container-id-7 div.sk-estimator:hover label.sk-toggleable__label-arrow:before {color: black;}#sk-container-id-7 div.sk-toggleable__content {max-height: 0;max-width: 0;overflow: hidden;text-align: left;background-color: #f0f8ff;}#sk-container-id-7 div.sk-toggleable__content pre {margin: 0.2em;color: black;border-radius: 0.25em;background-color: #f0f8ff;}#sk-container-id-7 input.sk-toggleable__control:checked~div.sk-toggleable__content {max-height: 200px;max-width: 100%;overflow: auto;}#sk-container-id-7 input.sk-toggleable__control:checked~label.sk-toggleable__label-arrow:before {content: \"▾\";}#sk-container-id-7 div.sk-estimator input.sk-toggleable__control:checked~label.sk-toggleable__label {background-color: #d4ebff;}#sk-container-id-7 div.sk-label input.sk-toggleable__control:checked~label.sk-toggleable__label {background-color: #d4ebff;}#sk-container-id-7 input.sk-hidden--visually {border: 0;clip: rect(1px 1px 1px 1px);clip: rect(1px, 1px, 1px, 1px);height: 1px;margin: -1px;overflow: hidden;padding: 0;position: absolute;width: 1px;}#sk-container-id-7 div.sk-estimator {font-family: monospace;background-color: #f0f8ff;border: 1px dotted black;border-radius: 0.25em;box-sizing: border-box;margin-bottom: 0.5em;}#sk-container-id-7 div.sk-estimator:hover {background-color: #d4ebff;}#sk-container-id-7 div.sk-parallel-item::after {content: \"\";width: 100%;border-bottom: 1px solid gray;flex-grow: 1;}#sk-container-id-7 div.sk-label:hover label.sk-toggleable__label {background-color: #d4ebff;}#sk-container-id-7 div.sk-serial::before {content: \"\";position: absolute;border-left: 1px solid gray;box-sizing: border-box;top: 0;bottom: 0;left: 50%;z-index: 0;}#sk-container-id-7 div.sk-serial {display: flex;flex-direction: column;align-items: center;background-color: white;padding-right: 0.2em;padding-left: 0.2em;position: relative;}#sk-container-id-7 div.sk-item {position: relative;z-index: 1;}#sk-container-id-7 div.sk-parallel {display: flex;align-items: stretch;justify-content: center;background-color: white;position: relative;}#sk-container-id-7 div.sk-item::before, #sk-container-id-7 div.sk-parallel-item::before {content: \"\";position: absolute;border-left: 1px solid gray;box-sizing: border-box;top: 0;bottom: 0;left: 50%;z-index: -1;}#sk-container-id-7 div.sk-parallel-item {display: flex;flex-direction: column;z-index: 1;position: relative;background-color: white;}#sk-container-id-7 div.sk-parallel-item:first-child::after {align-self: flex-end;width: 50%;}#sk-container-id-7 div.sk-parallel-item:last-child::after {align-self: flex-start;width: 50%;}#sk-container-id-7 div.sk-parallel-item:only-child::after {width: 0;}#sk-container-id-7 div.sk-dashed-wrapped {border: 1px dashed gray;margin: 0 0.4em 0.5em 0.4em;box-sizing: border-box;padding-bottom: 0.4em;background-color: white;}#sk-container-id-7 div.sk-label label {font-family: monospace;font-weight: bold;display: inline-block;line-height: 1.2em;}#sk-container-id-7 div.sk-label-container {text-align: center;}#sk-container-id-7 div.sk-container {/* jupyter's `normalize.less` sets `[hidden] { display: none; }` but bootstrap.min.css set `[hidden] { display: none !important; }` so we also need the `!important` here to be able to override the default hidden behavior on the sphinx rendered scikit-learn.org. See: https://github.com/scikit-learn/scikit-learn/issues/21755 */display: inline-block !important;position: relative;}#sk-container-id-7 div.sk-text-repr-fallback {display: none;}</style><div id=\"sk-container-id-7\" class=\"sk-top-container\"><div class=\"sk-text-repr-fallback\"><pre>MinMaxScaler()</pre><b>In a Jupyter environment, please rerun this cell to show the HTML representation or trust the notebook. <br />On GitHub, the HTML representation is unable to render, please try loading this page with nbviewer.org.</b></div><div class=\"sk-container\" hidden><div class=\"sk-item\"><div class=\"sk-estimator sk-toggleable\"><input class=\"sk-toggleable__control sk-hidden--visually\" id=\"sk-estimator-id-7\" type=\"checkbox\" checked><label for=\"sk-estimator-id-7\" class=\"sk-toggleable__label sk-toggleable__label-arrow\">MinMaxScaler</label><div class=\"sk-toggleable__content\"><pre>MinMaxScaler()</pre></div></div></div></div></div>"
            ]
          },
          "metadata": {},
          "execution_count": 179
        }
      ]
    },
    {
      "cell_type": "code",
      "source": [
        "Xtrain = pd.DataFrame(mm.transform(Xtrain), columns=X.columns)\n",
        "Xtest = pd.DataFrame(mm.transform(Xtest), columns=X.columns)"
      ],
      "metadata": {
        "id": "cXUHKAW0S_bz"
      },
      "execution_count": 180,
      "outputs": []
    },
    {
      "cell_type": "code",
      "source": [
        "Xtrain.head()"
      ],
      "metadata": {
        "colab": {
          "base_uri": "https://localhost:8080/",
          "height": 334
        },
        "id": "2uBBmfdFS_ea",
        "outputId": "8cb20f31-7d21-45d5-ecb0-622388591562"
      },
      "execution_count": 65,
      "outputs": [
        {
          "output_type": "execute_result",
          "data": {
            "text/plain": [
              "        age    fnlwgt  educational-num  capital-gain  capital-loss  \\\n",
              "0  0.082192  0.096254         0.400000           0.0           0.0   \n",
              "1  0.150685  0.207249         0.133333           0.0           0.0   \n",
              "2  0.287671  0.015575         0.800000           0.0           0.0   \n",
              "3  0.273973  0.445624         0.600000           0.0           0.0   \n",
              "4  0.383562  0.192993         0.866667           0.0           0.0   \n",
              "\n",
              "   hours-per-week  education_10th  education_11th  education_12th  \\\n",
              "0        0.346939             0.0             1.0             0.0   \n",
              "1        0.397959             0.0             0.0             0.0   \n",
              "2        0.479592             0.0             0.0             0.0   \n",
              "3        0.448980             0.0             0.0             0.0   \n",
              "4        0.397959             0.0             0.0             0.0   \n",
              "\n",
              "   education_1st-4th  ...  occupation_Farming-fishing  \\\n",
              "0                0.0  ...                         0.0   \n",
              "1                0.0  ...                         0.0   \n",
              "2                0.0  ...                         0.0   \n",
              "3                0.0  ...                         0.0   \n",
              "4                0.0  ...                         0.0   \n",
              "\n",
              "   occupation_Handlers-cleaners  occupation_Machine-op-inspct  \\\n",
              "0                           0.0                           0.0   \n",
              "1                           0.0                           0.0   \n",
              "2                           0.0                           0.0   \n",
              "3                           0.0                           0.0   \n",
              "4                           0.0                           0.0   \n",
              "\n",
              "   occupation_Other-service  occupation_Priv-house-serv  \\\n",
              "0                       1.0                         0.0   \n",
              "1                       0.0                         0.0   \n",
              "2                       0.0                         0.0   \n",
              "3                       0.0                         0.0   \n",
              "4                       0.0                         0.0   \n",
              "\n",
              "   occupation_Prof-specialty  occupation_Protective-serv  occupation_Sales  \\\n",
              "0                        0.0                         0.0               0.0   \n",
              "1                        0.0                         0.0               0.0   \n",
              "2                        0.0                         0.0               1.0   \n",
              "3                        0.0                         0.0               0.0   \n",
              "4                        1.0                         0.0               0.0   \n",
              "\n",
              "   occupation_Tech-support  occupation_Transport-moving  \n",
              "0                      0.0                          0.0  \n",
              "1                      0.0                          0.0  \n",
              "2                      0.0                          0.0  \n",
              "3                      0.0                          1.0  \n",
              "4                      0.0                          0.0  \n",
              "\n",
              "[5 rows x 95 columns]"
            ],
            "text/html": [
              "\n",
              "  <div id=\"df-7023cc81-967d-4bb9-8594-622b3b492397\">\n",
              "    <div class=\"colab-df-container\">\n",
              "      <div>\n",
              "<style scoped>\n",
              "    .dataframe tbody tr th:only-of-type {\n",
              "        vertical-align: middle;\n",
              "    }\n",
              "\n",
              "    .dataframe tbody tr th {\n",
              "        vertical-align: top;\n",
              "    }\n",
              "\n",
              "    .dataframe thead th {\n",
              "        text-align: right;\n",
              "    }\n",
              "</style>\n",
              "<table border=\"1\" class=\"dataframe\">\n",
              "  <thead>\n",
              "    <tr style=\"text-align: right;\">\n",
              "      <th></th>\n",
              "      <th>age</th>\n",
              "      <th>fnlwgt</th>\n",
              "      <th>educational-num</th>\n",
              "      <th>capital-gain</th>\n",
              "      <th>capital-loss</th>\n",
              "      <th>hours-per-week</th>\n",
              "      <th>education_10th</th>\n",
              "      <th>education_11th</th>\n",
              "      <th>education_12th</th>\n",
              "      <th>education_1st-4th</th>\n",
              "      <th>...</th>\n",
              "      <th>occupation_Farming-fishing</th>\n",
              "      <th>occupation_Handlers-cleaners</th>\n",
              "      <th>occupation_Machine-op-inspct</th>\n",
              "      <th>occupation_Other-service</th>\n",
              "      <th>occupation_Priv-house-serv</th>\n",
              "      <th>occupation_Prof-specialty</th>\n",
              "      <th>occupation_Protective-serv</th>\n",
              "      <th>occupation_Sales</th>\n",
              "      <th>occupation_Tech-support</th>\n",
              "      <th>occupation_Transport-moving</th>\n",
              "    </tr>\n",
              "  </thead>\n",
              "  <tbody>\n",
              "    <tr>\n",
              "      <th>0</th>\n",
              "      <td>0.082192</td>\n",
              "      <td>0.096254</td>\n",
              "      <td>0.400000</td>\n",
              "      <td>0.0</td>\n",
              "      <td>0.0</td>\n",
              "      <td>0.346939</td>\n",
              "      <td>0.0</td>\n",
              "      <td>1.0</td>\n",
              "      <td>0.0</td>\n",
              "      <td>0.0</td>\n",
              "      <td>...</td>\n",
              "      <td>0.0</td>\n",
              "      <td>0.0</td>\n",
              "      <td>0.0</td>\n",
              "      <td>1.0</td>\n",
              "      <td>0.0</td>\n",
              "      <td>0.0</td>\n",
              "      <td>0.0</td>\n",
              "      <td>0.0</td>\n",
              "      <td>0.0</td>\n",
              "      <td>0.0</td>\n",
              "    </tr>\n",
              "    <tr>\n",
              "      <th>1</th>\n",
              "      <td>0.150685</td>\n",
              "      <td>0.207249</td>\n",
              "      <td>0.133333</td>\n",
              "      <td>0.0</td>\n",
              "      <td>0.0</td>\n",
              "      <td>0.397959</td>\n",
              "      <td>0.0</td>\n",
              "      <td>0.0</td>\n",
              "      <td>0.0</td>\n",
              "      <td>0.0</td>\n",
              "      <td>...</td>\n",
              "      <td>0.0</td>\n",
              "      <td>0.0</td>\n",
              "      <td>0.0</td>\n",
              "      <td>0.0</td>\n",
              "      <td>0.0</td>\n",
              "      <td>0.0</td>\n",
              "      <td>0.0</td>\n",
              "      <td>0.0</td>\n",
              "      <td>0.0</td>\n",
              "      <td>0.0</td>\n",
              "    </tr>\n",
              "    <tr>\n",
              "      <th>2</th>\n",
              "      <td>0.287671</td>\n",
              "      <td>0.015575</td>\n",
              "      <td>0.800000</td>\n",
              "      <td>0.0</td>\n",
              "      <td>0.0</td>\n",
              "      <td>0.479592</td>\n",
              "      <td>0.0</td>\n",
              "      <td>0.0</td>\n",
              "      <td>0.0</td>\n",
              "      <td>0.0</td>\n",
              "      <td>...</td>\n",
              "      <td>0.0</td>\n",
              "      <td>0.0</td>\n",
              "      <td>0.0</td>\n",
              "      <td>0.0</td>\n",
              "      <td>0.0</td>\n",
              "      <td>0.0</td>\n",
              "      <td>0.0</td>\n",
              "      <td>1.0</td>\n",
              "      <td>0.0</td>\n",
              "      <td>0.0</td>\n",
              "    </tr>\n",
              "    <tr>\n",
              "      <th>3</th>\n",
              "      <td>0.273973</td>\n",
              "      <td>0.445624</td>\n",
              "      <td>0.600000</td>\n",
              "      <td>0.0</td>\n",
              "      <td>0.0</td>\n",
              "      <td>0.448980</td>\n",
              "      <td>0.0</td>\n",
              "      <td>0.0</td>\n",
              "      <td>0.0</td>\n",
              "      <td>0.0</td>\n",
              "      <td>...</td>\n",
              "      <td>0.0</td>\n",
              "      <td>0.0</td>\n",
              "      <td>0.0</td>\n",
              "      <td>0.0</td>\n",
              "      <td>0.0</td>\n",
              "      <td>0.0</td>\n",
              "      <td>0.0</td>\n",
              "      <td>0.0</td>\n",
              "      <td>0.0</td>\n",
              "      <td>1.0</td>\n",
              "    </tr>\n",
              "    <tr>\n",
              "      <th>4</th>\n",
              "      <td>0.383562</td>\n",
              "      <td>0.192993</td>\n",
              "      <td>0.866667</td>\n",
              "      <td>0.0</td>\n",
              "      <td>0.0</td>\n",
              "      <td>0.397959</td>\n",
              "      <td>0.0</td>\n",
              "      <td>0.0</td>\n",
              "      <td>0.0</td>\n",
              "      <td>0.0</td>\n",
              "      <td>...</td>\n",
              "      <td>0.0</td>\n",
              "      <td>0.0</td>\n",
              "      <td>0.0</td>\n",
              "      <td>0.0</td>\n",
              "      <td>0.0</td>\n",
              "      <td>1.0</td>\n",
              "      <td>0.0</td>\n",
              "      <td>0.0</td>\n",
              "      <td>0.0</td>\n",
              "      <td>0.0</td>\n",
              "    </tr>\n",
              "  </tbody>\n",
              "</table>\n",
              "<p>5 rows × 95 columns</p>\n",
              "</div>\n",
              "      <button class=\"colab-df-convert\" onclick=\"convertToInteractive('df-7023cc81-967d-4bb9-8594-622b3b492397')\"\n",
              "              title=\"Convert this dataframe to an interactive table.\"\n",
              "              style=\"display:none;\">\n",
              "        \n",
              "  <svg xmlns=\"http://www.w3.org/2000/svg\" height=\"24px\"viewBox=\"0 0 24 24\"\n",
              "       width=\"24px\">\n",
              "    <path d=\"M0 0h24v24H0V0z\" fill=\"none\"/>\n",
              "    <path d=\"M18.56 5.44l.94 2.06.94-2.06 2.06-.94-2.06-.94-.94-2.06-.94 2.06-2.06.94zm-11 1L8.5 8.5l.94-2.06 2.06-.94-2.06-.94L8.5 2.5l-.94 2.06-2.06.94zm10 10l.94 2.06.94-2.06 2.06-.94-2.06-.94-.94-2.06-.94 2.06-2.06.94z\"/><path d=\"M17.41 7.96l-1.37-1.37c-.4-.4-.92-.59-1.43-.59-.52 0-1.04.2-1.43.59L10.3 9.45l-7.72 7.72c-.78.78-.78 2.05 0 2.83L4 21.41c.39.39.9.59 1.41.59.51 0 1.02-.2 1.41-.59l7.78-7.78 2.81-2.81c.8-.78.8-2.07 0-2.86zM5.41 20L4 18.59l7.72-7.72 1.47 1.35L5.41 20z\"/>\n",
              "  </svg>\n",
              "      </button>\n",
              "      \n",
              "  <style>\n",
              "    .colab-df-container {\n",
              "      display:flex;\n",
              "      flex-wrap:wrap;\n",
              "      gap: 12px;\n",
              "    }\n",
              "\n",
              "    .colab-df-convert {\n",
              "      background-color: #E8F0FE;\n",
              "      border: none;\n",
              "      border-radius: 50%;\n",
              "      cursor: pointer;\n",
              "      display: none;\n",
              "      fill: #1967D2;\n",
              "      height: 32px;\n",
              "      padding: 0 0 0 0;\n",
              "      width: 32px;\n",
              "    }\n",
              "\n",
              "    .colab-df-convert:hover {\n",
              "      background-color: #E2EBFA;\n",
              "      box-shadow: 0px 1px 2px rgba(60, 64, 67, 0.3), 0px 1px 3px 1px rgba(60, 64, 67, 0.15);\n",
              "      fill: #174EA6;\n",
              "    }\n",
              "\n",
              "    [theme=dark] .colab-df-convert {\n",
              "      background-color: #3B4455;\n",
              "      fill: #D2E3FC;\n",
              "    }\n",
              "\n",
              "    [theme=dark] .colab-df-convert:hover {\n",
              "      background-color: #434B5C;\n",
              "      box-shadow: 0px 1px 3px 1px rgba(0, 0, 0, 0.15);\n",
              "      filter: drop-shadow(0px 1px 2px rgba(0, 0, 0, 0.3));\n",
              "      fill: #FFFFFF;\n",
              "    }\n",
              "  </style>\n",
              "\n",
              "      <script>\n",
              "        const buttonEl =\n",
              "          document.querySelector('#df-7023cc81-967d-4bb9-8594-622b3b492397 button.colab-df-convert');\n",
              "        buttonEl.style.display =\n",
              "          google.colab.kernel.accessAllowed ? 'block' : 'none';\n",
              "\n",
              "        async function convertToInteractive(key) {\n",
              "          const element = document.querySelector('#df-7023cc81-967d-4bb9-8594-622b3b492397');\n",
              "          const dataTable =\n",
              "            await google.colab.kernel.invokeFunction('convertToInteractive',\n",
              "                                                     [key], {});\n",
              "          if (!dataTable) return;\n",
              "\n",
              "          const docLinkHtml = 'Like what you see? Visit the ' +\n",
              "            '<a target=\"_blank\" href=https://colab.research.google.com/notebooks/data_table.ipynb>data table notebook</a>'\n",
              "            + ' to learn more about interactive tables.';\n",
              "          element.innerHTML = '';\n",
              "          dataTable['output_type'] = 'display_data';\n",
              "          await google.colab.output.renderOutput(dataTable, element);\n",
              "          const docLink = document.createElement('div');\n",
              "          docLink.innerHTML = docLinkHtml;\n",
              "          element.appendChild(docLink);\n",
              "        }\n",
              "      </script>\n",
              "    </div>\n",
              "  </div>\n",
              "  "
            ]
          },
          "metadata": {},
          "execution_count": 65
        }
      ]
    },
    {
      "cell_type": "markdown",
      "source": [
        "Also we have problem with class disbalance. I use oversampling because there is no so much rows in our data."
      ],
      "metadata": {
        "id": "cWpdea-RgClO"
      }
    },
    {
      "cell_type": "code",
      "source": [
        "print(\"Before oversampling:\\n\", ytrain.value_counts())"
      ],
      "metadata": {
        "colab": {
          "base_uri": "https://localhost:8080/"
        },
        "id": "XQS8It2QS_ja",
        "outputId": "1e4bc86c-cef6-4b3c-b0a4-0540db539e74"
      },
      "execution_count": 66,
      "outputs": [
        {
          "output_type": "stream",
          "name": "stdout",
          "text": [
            "Before oversampling:\n",
            " 0    5514\n",
            "1    1696\n",
            "Name: income, dtype: int64\n"
          ]
        }
      ]
    },
    {
      "cell_type": "code",
      "source": [
        "# define oversampling strategy\n",
        "SMOTE = SMOTE()"
      ],
      "metadata": {
        "colab": {
          "base_uri": "https://localhost:8080/",
          "height": 187
        },
        "id": "5m_wsToYS_mv",
        "outputId": "3881437d-3a3c-4a0d-dbb8-8dc53bed237d"
      },
      "execution_count": 181,
      "outputs": [
        {
          "output_type": "error",
          "ename": "TypeError",
          "evalue": "ignored",
          "traceback": [
            "\u001b[0;31m---------------------------------------------------------------------------\u001b[0m",
            "\u001b[0;31mTypeError\u001b[0m                                 Traceback (most recent call last)",
            "\u001b[0;32m<ipython-input-181-db60b4d0bc0a>\u001b[0m in \u001b[0;36m<cell line: 2>\u001b[0;34m()\u001b[0m\n\u001b[1;32m      1\u001b[0m \u001b[0;31m# define oversampling strategy\u001b[0m\u001b[0;34m\u001b[0m\u001b[0;34m\u001b[0m\u001b[0m\n\u001b[0;32m----> 2\u001b[0;31m \u001b[0mSMOTE\u001b[0m \u001b[0;34m=\u001b[0m \u001b[0mSMOTE\u001b[0m\u001b[0;34m(\u001b[0m\u001b[0;34m)\u001b[0m\u001b[0;34m\u001b[0m\u001b[0;34m\u001b[0m\u001b[0m\n\u001b[0m",
            "\u001b[0;31mTypeError\u001b[0m: 'SMOTE' object is not callable"
          ]
        }
      ]
    },
    {
      "cell_type": "code",
      "source": [
        "Xtrain_SMOTE, ytrain_SMOTE = SMOTE.fit_resample(Xtrain, ytrain)"
      ],
      "metadata": {
        "id": "Z9vRiZLLS_pJ"
      },
      "execution_count": 182,
      "outputs": []
    },
    {
      "cell_type": "code",
      "source": [
        "print(\"After oversampling:\\n\", ytrain_SMOTE.value_counts())"
      ],
      "metadata": {
        "colab": {
          "base_uri": "https://localhost:8080/"
        },
        "id": "H9_v5Od0hQIs",
        "outputId": "a5363688-d514-4a67-ca47-5c177dcd3d90"
      },
      "execution_count": 69,
      "outputs": [
        {
          "output_type": "stream",
          "name": "stdout",
          "text": [
            "After oversampling:\n",
            " 0    5514\n",
            "1    5514\n",
            "Name: income, dtype: int64\n"
          ]
        }
      ]
    },
    {
      "cell_type": "code",
      "source": [
        "model = LogisticRegression()\n",
        "model.fit(Xtrain_SMOTE, ytrain_SMOTE)"
      ],
      "metadata": {
        "colab": {
          "base_uri": "https://localhost:8080/",
          "height": 75
        },
        "id": "j_inSpO7hplh",
        "outputId": "ff7c4ebf-59d7-4d6a-9644-5e4e5b8881b3"
      },
      "execution_count": 183,
      "outputs": [
        {
          "output_type": "execute_result",
          "data": {
            "text/plain": [
              "LogisticRegression()"
            ],
            "text/html": [
              "<style>#sk-container-id-8 {color: black;background-color: white;}#sk-container-id-8 pre{padding: 0;}#sk-container-id-8 div.sk-toggleable {background-color: white;}#sk-container-id-8 label.sk-toggleable__label {cursor: pointer;display: block;width: 100%;margin-bottom: 0;padding: 0.3em;box-sizing: border-box;text-align: center;}#sk-container-id-8 label.sk-toggleable__label-arrow:before {content: \"▸\";float: left;margin-right: 0.25em;color: #696969;}#sk-container-id-8 label.sk-toggleable__label-arrow:hover:before {color: black;}#sk-container-id-8 div.sk-estimator:hover label.sk-toggleable__label-arrow:before {color: black;}#sk-container-id-8 div.sk-toggleable__content {max-height: 0;max-width: 0;overflow: hidden;text-align: left;background-color: #f0f8ff;}#sk-container-id-8 div.sk-toggleable__content pre {margin: 0.2em;color: black;border-radius: 0.25em;background-color: #f0f8ff;}#sk-container-id-8 input.sk-toggleable__control:checked~div.sk-toggleable__content {max-height: 200px;max-width: 100%;overflow: auto;}#sk-container-id-8 input.sk-toggleable__control:checked~label.sk-toggleable__label-arrow:before {content: \"▾\";}#sk-container-id-8 div.sk-estimator input.sk-toggleable__control:checked~label.sk-toggleable__label {background-color: #d4ebff;}#sk-container-id-8 div.sk-label input.sk-toggleable__control:checked~label.sk-toggleable__label {background-color: #d4ebff;}#sk-container-id-8 input.sk-hidden--visually {border: 0;clip: rect(1px 1px 1px 1px);clip: rect(1px, 1px, 1px, 1px);height: 1px;margin: -1px;overflow: hidden;padding: 0;position: absolute;width: 1px;}#sk-container-id-8 div.sk-estimator {font-family: monospace;background-color: #f0f8ff;border: 1px dotted black;border-radius: 0.25em;box-sizing: border-box;margin-bottom: 0.5em;}#sk-container-id-8 div.sk-estimator:hover {background-color: #d4ebff;}#sk-container-id-8 div.sk-parallel-item::after {content: \"\";width: 100%;border-bottom: 1px solid gray;flex-grow: 1;}#sk-container-id-8 div.sk-label:hover label.sk-toggleable__label {background-color: #d4ebff;}#sk-container-id-8 div.sk-serial::before {content: \"\";position: absolute;border-left: 1px solid gray;box-sizing: border-box;top: 0;bottom: 0;left: 50%;z-index: 0;}#sk-container-id-8 div.sk-serial {display: flex;flex-direction: column;align-items: center;background-color: white;padding-right: 0.2em;padding-left: 0.2em;position: relative;}#sk-container-id-8 div.sk-item {position: relative;z-index: 1;}#sk-container-id-8 div.sk-parallel {display: flex;align-items: stretch;justify-content: center;background-color: white;position: relative;}#sk-container-id-8 div.sk-item::before, #sk-container-id-8 div.sk-parallel-item::before {content: \"\";position: absolute;border-left: 1px solid gray;box-sizing: border-box;top: 0;bottom: 0;left: 50%;z-index: -1;}#sk-container-id-8 div.sk-parallel-item {display: flex;flex-direction: column;z-index: 1;position: relative;background-color: white;}#sk-container-id-8 div.sk-parallel-item:first-child::after {align-self: flex-end;width: 50%;}#sk-container-id-8 div.sk-parallel-item:last-child::after {align-self: flex-start;width: 50%;}#sk-container-id-8 div.sk-parallel-item:only-child::after {width: 0;}#sk-container-id-8 div.sk-dashed-wrapped {border: 1px dashed gray;margin: 0 0.4em 0.5em 0.4em;box-sizing: border-box;padding-bottom: 0.4em;background-color: white;}#sk-container-id-8 div.sk-label label {font-family: monospace;font-weight: bold;display: inline-block;line-height: 1.2em;}#sk-container-id-8 div.sk-label-container {text-align: center;}#sk-container-id-8 div.sk-container {/* jupyter's `normalize.less` sets `[hidden] { display: none; }` but bootstrap.min.css set `[hidden] { display: none !important; }` so we also need the `!important` here to be able to override the default hidden behavior on the sphinx rendered scikit-learn.org. See: https://github.com/scikit-learn/scikit-learn/issues/21755 */display: inline-block !important;position: relative;}#sk-container-id-8 div.sk-text-repr-fallback {display: none;}</style><div id=\"sk-container-id-8\" class=\"sk-top-container\"><div class=\"sk-text-repr-fallback\"><pre>LogisticRegression()</pre><b>In a Jupyter environment, please rerun this cell to show the HTML representation or trust the notebook. <br />On GitHub, the HTML representation is unable to render, please try loading this page with nbviewer.org.</b></div><div class=\"sk-container\" hidden><div class=\"sk-item\"><div class=\"sk-estimator sk-toggleable\"><input class=\"sk-toggleable__control sk-hidden--visually\" id=\"sk-estimator-id-8\" type=\"checkbox\" checked><label for=\"sk-estimator-id-8\" class=\"sk-toggleable__label sk-toggleable__label-arrow\">LogisticRegression</label><div class=\"sk-toggleable__content\"><pre>LogisticRegression()</pre></div></div></div></div></div>"
            ]
          },
          "metadata": {},
          "execution_count": 183
        }
      ]
    },
    {
      "cell_type": "code",
      "source": [
        "pred_test = model.predict(Xtest)"
      ],
      "metadata": {
        "id": "I9Ynm6UJhpuf"
      },
      "execution_count": 184,
      "outputs": []
    },
    {
      "cell_type": "code",
      "source": [
        "accuracy_score(ytest, pred_test) "
      ],
      "metadata": {
        "colab": {
          "base_uri": "https://localhost:8080/"
        },
        "id": "CeO7yCNxhpxI",
        "outputId": "47d6e4be-9d1a-43d6-f3c7-aa3cc7a15da4"
      },
      "execution_count": 72,
      "outputs": [
        {
          "output_type": "execute_result",
          "data": {
            "text/plain": [
              "0.8065723793677204"
            ]
          },
          "metadata": {},
          "execution_count": 72
        }
      ]
    },
    {
      "cell_type": "code",
      "source": [
        "pred_test[pred_test == 0].shape"
      ],
      "metadata": {
        "colab": {
          "base_uri": "https://localhost:8080/"
        },
        "id": "vvDsf496hpz9",
        "outputId": "41b786fb-308d-4863-915a-93523ba8e99a"
      },
      "execution_count": 73,
      "outputs": [
        {
          "output_type": "execute_result",
          "data": {
            "text/plain": [
              "(1555,)"
            ]
          },
          "metadata": {},
          "execution_count": 73
        }
      ]
    },
    {
      "cell_type": "code",
      "source": [
        "pred_test[pred_test != 0].shape"
      ],
      "metadata": {
        "colab": {
          "base_uri": "https://localhost:8080/"
        },
        "id": "Eq8kFphbncl5",
        "outputId": "638409cc-c297-456e-8bf4-ba7609a72716"
      },
      "execution_count": 74,
      "outputs": [
        {
          "output_type": "execute_result",
          "data": {
            "text/plain": [
              "(849,)"
            ]
          },
          "metadata": {},
          "execution_count": 74
        }
      ]
    },
    {
      "cell_type": "code",
      "source": [
        "ytest.value_counts()"
      ],
      "metadata": {
        "colab": {
          "base_uri": "https://localhost:8080/"
        },
        "id": "J8G3y_9dnD6g",
        "outputId": "3fb443fd-05e9-4768-9cd3-bb0af5e7494a"
      },
      "execution_count": 75,
      "outputs": [
        {
          "output_type": "execute_result",
          "data": {
            "text/plain": [
              "0    1842\n",
              "1     562\n",
              "Name: income, dtype: int64"
            ]
          },
          "metadata": {},
          "execution_count": 75
        }
      ]
    },
    {
      "cell_type": "code",
      "source": [
        "pickle.dump(model, open(\"logistic_model.pkl\", \"wb\"))"
      ],
      "metadata": {
        "id": "MNBCEYRbFFnj"
      },
      "execution_count": null,
      "outputs": []
    },
    {
      "cell_type": "code",
      "source": [
        "cm_log = confusion_matrix(ytest, pred_test)\n",
        "cm_display = ConfusionMatrixDisplay(cm_log).plot()"
      ],
      "metadata": {
        "colab": {
          "base_uri": "https://localhost:8080/",
          "height": 449
        },
        "id": "7_YgjQYFn0Um",
        "outputId": "23c93527-96fe-47c0-9739-a616c5247b48"
      },
      "execution_count": 76,
      "outputs": [
        {
          "output_type": "display_data",
          "data": {
            "text/plain": [
              "<Figure size 640x480 with 2 Axes>"
            ],
            "image/png": "[encoded data removed]"
          },
          "metadata": {}
        }
      ]
    },
    {
      "cell_type": "markdown",
      "source": [
        "$\\text{accuracy}=\\frac{\\text{TP} + \\text{TN}}{\\text{TP} + \\text{TN} + \\text{FP} + \\text{FN}}$\n",
        "\n",
        "$\\text{precision}=\\frac{\\text{TP}}{\\text{TP} + \\text{FP}}$\n",
        "\n",
        "$\\text{recall}=\\frac{\\text{TP}}{\\text{TP} + \\text{FN}}$\n",
        "\n",
        "$F_1=\\frac{2\\cdot\\text{precision}\\cdot\\text{recall}}{\\text{precision} + \\text{recall}}$"
      ],
      "metadata": {
        "id": "bA9G4XpKpYPm"
      }
    },
    {
      "cell_type": "code",
      "source": [
        "print(\"precision: \", precision_score(ytest, pred_test))\n",
        "print(\"recall: \", recall_score(ytest, pred_test))\n",
        "print(\"f1-score: \", f1_score(ytest, pred_test))\n",
        "print(\"roc-auc: \", roc_auc_score(ytest, pred_test))"
      ],
      "metadata": {
        "colab": {
          "base_uri": "https://localhost:8080/"
        },
        "id": "4Ze7D_eSpXLU",
        "outputId": "77ec807a-f8e7-4ba9-9022-ffd3663348aa"
      },
      "execution_count": 145,
      "outputs": [
        {
          "output_type": "stream",
          "name": "stdout",
          "text": [
            "precision:  0.5571260306242638\n",
            "recall:  0.8416370106761566\n",
            "f1-score:  0.6704464918497519\n",
            "roc-auc:  0.818755530310934\n"
          ]
        }
      ]
    },
    {
      "cell_type": "markdown",
      "source": [
        "### What is the predicted variable???"
      ],
      "metadata": {
        "id": "RCJ8BESCrLjg"
      }
    },
    {
      "cell_type": "markdown",
      "source": [
        "In this case we can see, that precision is bad. It means that a model is bad in predictions for income < 50K"
      ],
      "metadata": {
        "id": "uLBeaTS_qCsc"
      }
    },
    {
      "cell_type": "code",
      "source": [
        "coef_table = pd.DataFrame({'features' : list(X.columns), 'weights' : list(model.coef_[0])})\n",
        "coef_table.sort_values(by='weights')[:20]"
      ],
      "metadata": {
        "colab": {
          "base_uri": "https://localhost:8080/",
          "height": 677
        },
        "id": "i1TIWXSXoFwn",
        "outputId": "c90a41ab-0a31-4009-e94f-ffdd75ada5d4"
      },
      "execution_count": 79,
      "outputs": [
        {
          "output_type": "execute_result",
          "data": {
            "text/plain": [
              "                             features   weights\n",
              "88           occupation_Other-service -1.783893\n",
              "89         occupation_Priv-house-serv -1.372243\n",
              "28        relationship_Other-relative -1.355191\n",
              "7                      education_11th -1.287726\n",
              "74             native-country_Vietnam -1.247172\n",
              "79         workclass_Self-emp-not-inc -1.242942\n",
              "54                native-country_Iran -1.158348\n",
              "68            native-country_Scotland -1.134342\n",
              "29             relationship_Own-child -1.102053\n",
              "12                      education_9th -1.066147\n",
              "41  native-country_Dominican-Republic -0.987356\n",
              "85         occupation_Farming-fishing -0.978888\n",
              "71            native-country_Thailand -0.893236\n",
              "63                native-country_Peru -0.888478\n",
              "6                      education_10th -0.829720\n",
              "9                   education_1st-4th -0.820297\n",
              "60              native-country_Mexico -0.772908\n",
              "8                      education_12th -0.742845\n",
              "39            native-country_Columbia -0.661434\n",
              "80                workclass_State-gov -0.640880"
            ],
            "text/html": [
              "\n",
              "  <div id=\"df-7454b1c8-e752-4331-ab97-569aa10920ed\">\n",
              "    <div class=\"colab-df-container\">\n",
              "      <div>\n",
              "<style scoped>\n",
              "    .dataframe tbody tr th:only-of-type {\n",
              "        vertical-align: middle;\n",
              "    }\n",
              "\n",
              "    .dataframe tbody tr th {\n",
              "        vertical-align: top;\n",
              "    }\n",
              "\n",
              "    .dataframe thead th {\n",
              "        text-align: right;\n",
              "    }\n",
              "</style>\n",
              "<table border=\"1\" class=\"dataframe\">\n",
              "  <thead>\n",
              "    <tr style=\"text-align: right;\">\n",
              "      <th></th>\n",
              "      <th>features</th>\n",
              "      <th>weights</th>\n",
              "    </tr>\n",
              "  </thead>\n",
              "  <tbody>\n",
              "    <tr>\n",
              "      <th>88</th>\n",
              "      <td>occupation_Other-service</td>\n",
              "      <td>-1.783893</td>\n",
              "    </tr>\n",
              "    <tr>\n",
              "      <th>89</th>\n",
              "      <td>occupation_Priv-house-serv</td>\n",
              "      <td>-1.372243</td>\n",
              "    </tr>\n",
              "    <tr>\n",
              "      <th>28</th>\n",
              "      <td>relationship_Other-relative</td>\n",
              "      <td>-1.355191</td>\n",
              "    </tr>\n",
              "    <tr>\n",
              "      <th>7</th>\n",
              "      <td>education_11th</td>\n",
              "      <td>-1.287726</td>\n",
              "    </tr>\n",
              "    <tr>\n",
              "      <th>74</th>\n",
              "      <td>native-country_Vietnam</td>\n",
              "      <td>-1.247172</td>\n",
              "    </tr>\n",
              "    <tr>\n",
              "      <th>79</th>\n",
              "      <td>workclass_Self-emp-not-inc</td>\n",
              "      <td>-1.242942</td>\n",
              "    </tr>\n",
              "    <tr>\n",
              "      <th>54</th>\n",
              "      <td>native-country_Iran</td>\n",
              "      <td>-1.158348</td>\n",
              "    </tr>\n",
              "    <tr>\n",
              "      <th>68</th>\n",
              "      <td>native-country_Scotland</td>\n",
              "      <td>-1.134342</td>\n",
              "    </tr>\n",
              "    <tr>\n",
              "      <th>29</th>\n",
              "      <td>relationship_Own-child</td>\n",
              "      <td>-1.102053</td>\n",
              "    </tr>\n",
              "    <tr>\n",
              "      <th>12</th>\n",
              "      <td>education_9th</td>\n",
              "      <td>-1.066147</td>\n",
              "    </tr>\n",
              "    <tr>\n",
              "      <th>41</th>\n",
              "      <td>native-country_Dominican-Republic</td>\n",
              "      <td>-0.987356</td>\n",
              "    </tr>\n",
              "    <tr>\n",
              "      <th>85</th>\n",
              "      <td>occupation_Farming-fishing</td>\n",
              "      <td>-0.978888</td>\n",
              "    </tr>\n",
              "    <tr>\n",
              "      <th>71</th>\n",
              "      <td>native-country_Thailand</td>\n",
              "      <td>-0.893236</td>\n",
              "    </tr>\n",
              "    <tr>\n",
              "      <th>63</th>\n",
              "      <td>native-country_Peru</td>\n",
              "      <td>-0.888478</td>\n",
              "    </tr>\n",
              "    <tr>\n",
              "      <th>6</th>\n",
              "      <td>education_10th</td>\n",
              "      <td>-0.829720</td>\n",
              "    </tr>\n",
              "    <tr>\n",
              "      <th>9</th>\n",
              "      <td>education_1st-4th</td>\n",
              "      <td>-0.820297</td>\n",
              "    </tr>\n",
              "    <tr>\n",
              "      <th>60</th>\n",
              "      <td>native-country_Mexico</td>\n",
              "      <td>-0.772908</td>\n",
              "    </tr>\n",
              "    <tr>\n",
              "      <th>8</th>\n",
              "      <td>education_12th</td>\n",
              "      <td>-0.742845</td>\n",
              "    </tr>\n",
              "    <tr>\n",
              "      <th>39</th>\n",
              "      <td>native-country_Columbia</td>\n",
              "      <td>-0.661434</td>\n",
              "    </tr>\n",
              "    <tr>\n",
              "      <th>80</th>\n",
              "      <td>workclass_State-gov</td>\n",
              "      <td>-0.640880</td>\n",
              "    </tr>\n",
              "  </tbody>\n",
              "</table>\n",
              "</div>\n",
              "      <button class=\"colab-df-convert\" onclick=\"convertToInteractive('df-7454b1c8-e752-4331-ab97-569aa10920ed')\"\n",
              "              title=\"Convert this dataframe to an interactive table.\"\n",
              "              style=\"display:none;\">\n",
              "        \n",
              "  <svg xmlns=\"http://www.w3.org/2000/svg\" height=\"24px\"viewBox=\"0 0 24 24\"\n",
              "       width=\"24px\">\n",
              "    <path d=\"M0 0h24v24H0V0z\" fill=\"none\"/>\n",
              "    <path d=\"M18.56 5.44l.94 2.06.94-2.06 2.06-.94-2.06-.94-.94-2.06-.94 2.06-2.06.94zm-11 1L8.5 8.5l.94-2.06 2.06-.94-2.06-.94L8.5 2.5l-.94 2.06-2.06.94zm10 10l.94 2.06.94-2.06 2.06-.94-2.06-.94-.94-2.06-.94 2.06-2.06.94z\"/><path d=\"M17.41 7.96l-1.37-1.37c-.4-.4-.92-.59-1.43-.59-.52 0-1.04.2-1.43.59L10.3 9.45l-7.72 7.72c-.78.78-.78 2.05 0 2.83L4 21.41c.39.39.9.59 1.41.59.51 0 1.02-.2 1.41-.59l7.78-7.78 2.81-2.81c.8-.78.8-2.07 0-2.86zM5.41 20L4 18.59l7.72-7.72 1.47 1.35L5.41 20z\"/>\n",
              "  </svg>\n",
              "      </button>\n",
              "      \n",
              "  <style>\n",
              "    .colab-df-container {\n",
              "      display:flex;\n",
              "      flex-wrap:wrap;\n",
              "      gap: 12px;\n",
              "    }\n",
              "\n",
              "    .colab-df-convert {\n",
              "      background-color: #E8F0FE;\n",
              "      border: none;\n",
              "      border-radius: 50%;\n",
              "      cursor: pointer;\n",
              "      display: none;\n",
              "      fill: #1967D2;\n",
              "      height: 32px;\n",
              "      padding: 0 0 0 0;\n",
              "      width: 32px;\n",
              "    }\n",
              "\n",
              "    .colab-df-convert:hover {\n",
              "      background-color: #E2EBFA;\n",
              "      box-shadow: 0px 1px 2px rgba(60, 64, 67, 0.3), 0px 1px 3px 1px rgba(60, 64, 67, 0.15);\n",
              "      fill: #174EA6;\n",
              "    }\n",
              "\n",
              "    [theme=dark] .colab-df-convert {\n",
              "      background-color: #3B4455;\n",
              "      fill: #D2E3FC;\n",
              "    }\n",
              "\n",
              "    [theme=dark] .colab-df-convert:hover {\n",
              "      background-color: #434B5C;\n",
              "      box-shadow: 0px 1px 3px 1px rgba(0, 0, 0, 0.15);\n",
              "      filter: drop-shadow(0px 1px 2px rgba(0, 0, 0, 0.3));\n",
              "      fill: #FFFFFF;\n",
              "    }\n",
              "  </style>\n",
              "\n",
              "      <script>\n",
              "        const buttonEl =\n",
              "          document.querySelector('#df-7454b1c8-e752-4331-ab97-569aa10920ed button.colab-df-convert');\n",
              "        buttonEl.style.display =\n",
              "          google.colab.kernel.accessAllowed ? 'block' : 'none';\n",
              "\n",
              "        async function convertToInteractive(key) {\n",
              "          const element = document.querySelector('#df-7454b1c8-e752-4331-ab97-569aa10920ed');\n",
              "          const dataTable =\n",
              "            await google.colab.kernel.invokeFunction('convertToInteractive',\n",
              "                                                     [key], {});\n",
              "          if (!dataTable) return;\n",
              "\n",
              "          const docLinkHtml = 'Like what you see? Visit the ' +\n",
              "            '<a target=\"_blank\" href=https://colab.research.google.com/notebooks/data_table.ipynb>data table notebook</a>'\n",
              "            + ' to learn more about interactive tables.';\n",
              "          element.innerHTML = '';\n",
              "          dataTable['output_type'] = 'display_data';\n",
              "          await google.colab.output.renderOutput(dataTable, element);\n",
              "          const docLink = document.createElement('div');\n",
              "          docLink.innerHTML = docLinkHtml;\n",
              "          element.appendChild(docLink);\n",
              "        }\n",
              "      </script>\n",
              "    </div>\n",
              "  </div>\n",
              "  "
            ]
          },
          "metadata": {},
          "execution_count": 79
        }
      ]
    },
    {
      "cell_type": "markdown",
      "source": [
        "### SVM model"
      ],
      "metadata": {
        "id": "-HzDuvenrxxt"
      }
    },
    {
      "cell_type": "code",
      "source": [
        "model=SVC()\n",
        "clf_SMOTE = model.fit(Xtrain_SMOTE, ytrain_SMOTE)\n",
        "pred_SMOTE = clf_SMOTE.predict(Xtest)"
      ],
      "metadata": {
        "id": "8wsD_DC4r2Ow"
      },
      "execution_count": 186,
      "outputs": []
    },
    {
      "cell_type": "code",
      "source": [
        "print(\"precision score: \", precision_score(ytest, pred_SMOTE))\n",
        "print(\"recall score: \", recall_score(ytest, pred_SMOTE))\n",
        "print(\"f1-score: \", f1_score(ytest, pred_SMOTE))"
      ],
      "metadata": {
        "id": "4kGxG64rr2TU",
        "colab": {
          "base_uri": "https://localhost:8080/"
        },
        "outputId": "a67a1d84-2008-4ffe-e3d3-ea186ddea5be"
      },
      "execution_count": 187,
      "outputs": [
        {
          "output_type": "stream",
          "name": "stdout",
          "text": [
            "precision score:  0.5206243032329989\n",
            "recall score:  0.8309608540925267\n",
            "f1-score:  0.6401644962302948\n"
          ]
        }
      ]
    },
    {
      "cell_type": "code",
      "source": [
        "print(\"ROC AUC score for oversampled SMOTE data: \", roc_auc_score(ytest, pred_SMOTE))"
      ],
      "metadata": {
        "colab": {
          "base_uri": "https://localhost:8080/"
        },
        "id": "8KB9qCz6JxpF",
        "outputId": "97424085-1b2b-406f-9b72-2a035dfba7c2"
      },
      "execution_count": 82,
      "outputs": [
        {
          "output_type": "stream",
          "name": "stdout",
          "text": [
            "ROC AUC score for oversampled SMOTE data:  0.7940850305833439\n"
          ]
        }
      ]
    },
    {
      "cell_type": "code",
      "source": [
        "pickle.dump(model, open(\"svm_model.pkl\", \"wb\"))"
      ],
      "metadata": {
        "id": "I-IT_EJVErvT"
      },
      "execution_count": 188,
      "outputs": []
    },
    {
      "cell_type": "markdown",
      "source": [
        "### Cat boost"
      ],
      "metadata": {
        "id": "bjLkmwlGTvoW"
      }
    },
    {
      "cell_type": "code",
      "source": [
        "!pip install catboost"
      ],
      "metadata": {
        "id": "RPgI8vMtr0Tf",
        "colab": {
          "base_uri": "https://localhost:8080/"
        },
        "outputId": "6e96149e-febe-414b-e7f0-d947e3a8553d"
      },
      "execution_count": 83,
      "outputs": [
        {
          "output_type": "stream",
          "name": "stdout",
          "text": [
            "Looking in indexes: https://pypi.org/simple, https://us-python.pkg.dev/colab-wheels/public/simple/\n",
            "Collecting catboost\n",
            "  Downloading catboost-1.2-cp310-cp310-manylinux2014_x86_64.whl (98.6 MB)\n",
            "\u001b[2K     \u001b[90m━━━━━━━━━━━━━━━━━━━━━━━━━━━━━━━━━━━━━━━━\u001b[0m \u001b[32m98.6/98.6 MB\u001b[0m \u001b[31m7.9 MB/s\u001b[0m eta \u001b[36m0:00:00\u001b[0m\n",
            "\u001b[?25hRequirement already satisfied: graphviz in /usr/local/lib/python3.10/dist-packages (from catboost) (0.20.1)\n",
            "Requirement already satisfied: matplotlib in /usr/local/lib/python3.10/dist-packages (from catboost) (3.7.1)\n",
            "Requirement already satisfied: numpy>=1.16.0 in /usr/local/lib/python3.10/dist-packages (from catboost) (1.22.4)\n",
            "Requirement already satisfied: pandas>=0.24 in /usr/local/lib/python3.10/dist-packages (from catboost) (1.5.3)\n",
            "Requirement already satisfied: scipy in /usr/local/lib/python3.10/dist-packages (from catboost) (1.10.1)\n",
            "Requirement already satisfied: plotly in /usr/local/lib/python3.10/dist-packages (from catboost) (5.13.1)\n",
            "Requirement already satisfied: six in /usr/local/lib/python3.10/dist-packages (from catboost) (1.16.0)\n",
            "Requirement already satisfied: python-dateutil>=2.8.1 in /usr/local/lib/python3.10/dist-packages (from pandas>=0.24->catboost) (2.8.2)\n",
            "Requirement already satisfied: pytz>=2020.1 in /usr/local/lib/python3.10/dist-packages (from pandas>=0.24->catboost) (2022.7.1)\n",
            "Requirement already satisfied: contourpy>=1.0.1 in /usr/local/lib/python3.10/dist-packages (from matplotlib->catboost) (1.0.7)\n",
            "Requirement already satisfied: cycler>=0.10 in /usr/local/lib/python3.10/dist-packages (from matplotlib->catboost) (0.11.0)\n",
            "Requirement already satisfied: fonttools>=4.22.0 in /usr/local/lib/python3.10/dist-packages (from matplotlib->catboost) (4.39.3)\n",
            "Requirement already satisfied: kiwisolver>=1.0.1 in /usr/local/lib/python3.10/dist-packages (from matplotlib->catboost) (1.4.4)\n",
            "Requirement already satisfied: packaging>=20.0 in /usr/local/lib/python3.10/dist-packages (from matplotlib->catboost) (23.1)\n",
            "Requirement already satisfied: pillow>=6.2.0 in /usr/local/lib/python3.10/dist-packages (from matplotlib->catboost) (8.4.0)\n",
            "Requirement already satisfied: pyparsing>=2.3.1 in /usr/local/lib/python3.10/dist-packages (from matplotlib->catboost) (3.0.9)\n",
            "Requirement already satisfied: tenacity>=6.2.0 in /usr/local/lib/python3.10/dist-packages (from plotly->catboost) (8.2.2)\n",
            "Installing collected packages: catboost\n",
            "Successfully installed catboost-1.2\n"
          ]
        }
      ]
    },
    {
      "cell_type": "code",
      "source": [
        "!pip install ipywidgets"
      ],
      "metadata": {
        "id": "0wtCKLWLToPh"
      },
      "execution_count": null,
      "outputs": []
    },
    {
      "cell_type": "code",
      "source": [
        "from catboost import CatBoostClassifier, Pool"
      ],
      "metadata": {
        "id": "dC9VbINOTN88"
      },
      "execution_count": 87,
      "outputs": []
    },
    {
      "cell_type": "code",
      "source": [
        "X.head()"
      ],
      "metadata": {
        "colab": {
          "base_uri": "https://localhost:8080/",
          "height": 334
        },
        "id": "BeLJ8patc3sm",
        "outputId": "14702d60-0ccc-4a3a-e48a-2a1af7bc8fbd"
      },
      "execution_count": 90,
      "outputs": [
        {
          "output_type": "execute_result",
          "data": {
            "text/plain": [
              "    age  fnlwgt  educational-num  capital-gain  capital-loss  hours-per-week  \\\n",
              "0  25.0  226802                7           0.0           0.0            40.0   \n",
              "1  38.0   89814                9           0.0           0.0            50.0   \n",
              "2  28.0  336951               12           0.0           0.0            40.0   \n",
              "3  44.0  160323               10        7688.0           0.0            40.0   \n",
              "5  34.0  198693                6           0.0           0.0            30.0   \n",
              "\n",
              "   education_10th  education_11th  education_12th  education_1st-4th  ...  \\\n",
              "0               0               1               0                  0  ...   \n",
              "1               0               0               0                  0  ...   \n",
              "2               0               0               0                  0  ...   \n",
              "3               0               0               0                  0  ...   \n",
              "5               1               0               0                  0  ...   \n",
              "\n",
              "   occupation_Farming-fishing  occupation_Handlers-cleaners  \\\n",
              "0                           0                             0   \n",
              "1                           1                             0   \n",
              "2                           0                             0   \n",
              "3                           0                             0   \n",
              "5                           0                             0   \n",
              "\n",
              "   occupation_Machine-op-inspct  occupation_Other-service  \\\n",
              "0                             1                         0   \n",
              "1                             0                         0   \n",
              "2                             0                         0   \n",
              "3                             1                         0   \n",
              "5                             0                         1   \n",
              "\n",
              "   occupation_Priv-house-serv  occupation_Prof-specialty  \\\n",
              "0                           0                          0   \n",
              "1                           0                          0   \n",
              "2                           0                          0   \n",
              "3                           0                          0   \n",
              "5                           0                          0   \n",
              "\n",
              "   occupation_Protective-serv  occupation_Sales  occupation_Tech-support  \\\n",
              "0                           0                 0                        0   \n",
              "1                           0                 0                        0   \n",
              "2                           1                 0                        0   \n",
              "3                           0                 0                        0   \n",
              "5                           0                 0                        0   \n",
              "\n",
              "   occupation_Transport-moving  \n",
              "0                            0  \n",
              "1                            0  \n",
              "2                            0  \n",
              "3                            0  \n",
              "5                            0  \n",
              "\n",
              "[5 rows x 95 columns]"
            ],
            "text/html": [
              "\n",
              "  <div id=\"df-f3ead5b8-39e4-402a-a989-9045cf292a21\">\n",
              "    <div class=\"colab-df-container\">\n",
              "      <div>\n",
              "<style scoped>\n",
              "    .dataframe tbody tr th:only-of-type {\n",
              "        vertical-align: middle;\n",
              "    }\n",
              "\n",
              "    .dataframe tbody tr th {\n",
              "        vertical-align: top;\n",
              "    }\n",
              "\n",
              "    .dataframe thead th {\n",
              "        text-align: right;\n",
              "    }\n",
              "</style>\n",
              "<table border=\"1\" class=\"dataframe\">\n",
              "  <thead>\n",
              "    <tr style=\"text-align: right;\">\n",
              "      <th></th>\n",
              "      <th>age</th>\n",
              "      <th>fnlwgt</th>\n",
              "      <th>educational-num</th>\n",
              "      <th>capital-gain</th>\n",
              "      <th>capital-loss</th>\n",
              "      <th>hours-per-week</th>\n",
              "      <th>education_10th</th>\n",
              "      <th>education_11th</th>\n",
              "      <th>education_12th</th>\n",
              "      <th>education_1st-4th</th>\n",
              "      <th>...</th>\n",
              "      <th>occupation_Farming-fishing</th>\n",
              "      <th>occupation_Handlers-cleaners</th>\n",
              "      <th>occupation_Machine-op-inspct</th>\n",
              "      <th>occupation_Other-service</th>\n",
              "      <th>occupation_Priv-house-serv</th>\n",
              "      <th>occupation_Prof-specialty</th>\n",
              "      <th>occupation_Protective-serv</th>\n",
              "      <th>occupation_Sales</th>\n",
              "      <th>occupation_Tech-support</th>\n",
              "      <th>occupation_Transport-moving</th>\n",
              "    </tr>\n",
              "  </thead>\n",
              "  <tbody>\n",
              "    <tr>\n",
              "      <th>0</th>\n",
              "      <td>25.0</td>\n",
              "      <td>226802</td>\n",
              "      <td>7</td>\n",
              "      <td>0.0</td>\n",
              "      <td>0.0</td>\n",
              "      <td>40.0</td>\n",
              "      <td>0</td>\n",
              "      <td>1</td>\n",
              "      <td>0</td>\n",
              "      <td>0</td>\n",
              "      <td>...</td>\n",
              "      <td>0</td>\n",
              "      <td>0</td>\n",
              "      <td>1</td>\n",
              "      <td>0</td>\n",
              "      <td>0</td>\n",
              "      <td>0</td>\n",
              "      <td>0</td>\n",
              "      <td>0</td>\n",
              "      <td>0</td>\n",
              "      <td>0</td>\n",
              "    </tr>\n",
              "    <tr>\n",
              "      <th>1</th>\n",
              "      <td>38.0</td>\n",
              "      <td>89814</td>\n",
              "      <td>9</td>\n",
              "      <td>0.0</td>\n",
              "      <td>0.0</td>\n",
              "      <td>50.0</td>\n",
              "      <td>0</td>\n",
              "      <td>0</td>\n",
              "      <td>0</td>\n",
              "      <td>0</td>\n",
              "      <td>...</td>\n",
              "      <td>1</td>\n",
              "      <td>0</td>\n",
              "      <td>0</td>\n",
              "      <td>0</td>\n",
              "      <td>0</td>\n",
              "      <td>0</td>\n",
              "      <td>0</td>\n",
              "      <td>0</td>\n",
              "      <td>0</td>\n",
              "      <td>0</td>\n",
              "    </tr>\n",
              "    <tr>\n",
              "      <th>2</th>\n",
              "      <td>28.0</td>\n",
              "      <td>336951</td>\n",
              "      <td>12</td>\n",
              "      <td>0.0</td>\n",
              "      <td>0.0</td>\n",
              "      <td>40.0</td>\n",
              "      <td>0</td>\n",
              "      <td>0</td>\n",
              "      <td>0</td>\n",
              "      <td>0</td>\n",
              "      <td>...</td>\n",
              "      <td>0</td>\n",
              "      <td>0</td>\n",
              "      <td>0</td>\n",
              "      <td>0</td>\n",
              "      <td>0</td>\n",
              "      <td>0</td>\n",
              "      <td>1</td>\n",
              "      <td>0</td>\n",
              "      <td>0</td>\n",
              "      <td>0</td>\n",
              "    </tr>\n",
              "    <tr>\n",
              "      <th>3</th>\n",
              "      <td>44.0</td>\n",
              "      <td>160323</td>\n",
              "      <td>10</td>\n",
              "      <td>7688.0</td>\n",
              "      <td>0.0</td>\n",
              "      <td>40.0</td>\n",
              "      <td>0</td>\n",
              "      <td>0</td>\n",
              "      <td>0</td>\n",
              "      <td>0</td>\n",
              "      <td>...</td>\n",
              "      <td>0</td>\n",
              "      <td>0</td>\n",
              "      <td>1</td>\n",
              "      <td>0</td>\n",
              "      <td>0</td>\n",
              "      <td>0</td>\n",
              "      <td>0</td>\n",
              "      <td>0</td>\n",
              "      <td>0</td>\n",
              "      <td>0</td>\n",
              "    </tr>\n",
              "    <tr>\n",
              "      <th>5</th>\n",
              "      <td>34.0</td>\n",
              "      <td>198693</td>\n",
              "      <td>6</td>\n",
              "      <td>0.0</td>\n",
              "      <td>0.0</td>\n",
              "      <td>30.0</td>\n",
              "      <td>1</td>\n",
              "      <td>0</td>\n",
              "      <td>0</td>\n",
              "      <td>0</td>\n",
              "      <td>...</td>\n",
              "      <td>0</td>\n",
              "      <td>0</td>\n",
              "      <td>0</td>\n",
              "      <td>1</td>\n",
              "      <td>0</td>\n",
              "      <td>0</td>\n",
              "      <td>0</td>\n",
              "      <td>0</td>\n",
              "      <td>0</td>\n",
              "      <td>0</td>\n",
              "    </tr>\n",
              "  </tbody>\n",
              "</table>\n",
              "<p>5 rows × 95 columns</p>\n",
              "</div>\n",
              "      <button class=\"colab-df-convert\" onclick=\"convertToInteractive('df-f3ead5b8-39e4-402a-a989-9045cf292a21')\"\n",
              "              title=\"Convert this dataframe to an interactive table.\"\n",
              "              style=\"display:none;\">\n",
              "        \n",
              "  <svg xmlns=\"http://www.w3.org/2000/svg\" height=\"24px\"viewBox=\"0 0 24 24\"\n",
              "       width=\"24px\">\n",
              "    <path d=\"M0 0h24v24H0V0z\" fill=\"none\"/>\n",
              "    <path d=\"M18.56 5.44l.94 2.06.94-2.06 2.06-.94-2.06-.94-.94-2.06-.94 2.06-2.06.94zm-11 1L8.5 8.5l.94-2.06 2.06-.94-2.06-.94L8.5 2.5l-.94 2.06-2.06.94zm10 10l.94 2.06.94-2.06 2.06-.94-2.06-.94-.94-2.06-.94 2.06-2.06.94z\"/><path d=\"M17.41 7.96l-1.37-1.37c-.4-.4-.92-.59-1.43-.59-.52 0-1.04.2-1.43.59L10.3 9.45l-7.72 7.72c-.78.78-.78 2.05 0 2.83L4 21.41c.39.39.9.59 1.41.59.51 0 1.02-.2 1.41-.59l7.78-7.78 2.81-2.81c.8-.78.8-2.07 0-2.86zM5.41 20L4 18.59l7.72-7.72 1.47 1.35L5.41 20z\"/>\n",
              "  </svg>\n",
              "      </button>\n",
              "      \n",
              "  <style>\n",
              "    .colab-df-container {\n",
              "      display:flex;\n",
              "      flex-wrap:wrap;\n",
              "      gap: 12px;\n",
              "    }\n",
              "\n",
              "    .colab-df-convert {\n",
              "      background-color: #E8F0FE;\n",
              "      border: none;\n",
              "      border-radius: 50%;\n",
              "      cursor: pointer;\n",
              "      display: none;\n",
              "      fill: #1967D2;\n",
              "      height: 32px;\n",
              "      padding: 0 0 0 0;\n",
              "      width: 32px;\n",
              "    }\n",
              "\n",
              "    .colab-df-convert:hover {\n",
              "      background-color: #E2EBFA;\n",
              "      box-shadow: 0px 1px 2px rgba(60, 64, 67, 0.3), 0px 1px 3px 1px rgba(60, 64, 67, 0.15);\n",
              "      fill: #174EA6;\n",
              "    }\n",
              "\n",
              "    [theme=dark] .colab-df-convert {\n",
              "      background-color: #3B4455;\n",
              "      fill: #D2E3FC;\n",
              "    }\n",
              "\n",
              "    [theme=dark] .colab-df-convert:hover {\n",
              "      background-color: #434B5C;\n",
              "      box-shadow: 0px 1px 3px 1px rgba(0, 0, 0, 0.15);\n",
              "      filter: drop-shadow(0px 1px 2px rgba(0, 0, 0, 0.3));\n",
              "      fill: #FFFFFF;\n",
              "    }\n",
              "  </style>\n",
              "\n",
              "      <script>\n",
              "        const buttonEl =\n",
              "          document.querySelector('#df-f3ead5b8-39e4-402a-a989-9045cf292a21 button.colab-df-convert');\n",
              "        buttonEl.style.display =\n",
              "          google.colab.kernel.accessAllowed ? 'block' : 'none';\n",
              "\n",
              "        async function convertToInteractive(key) {\n",
              "          const element = document.querySelector('#df-f3ead5b8-39e4-402a-a989-9045cf292a21');\n",
              "          const dataTable =\n",
              "            await google.colab.kernel.invokeFunction('convertToInteractive',\n",
              "                                                     [key], {});\n",
              "          if (!dataTable) return;\n",
              "\n",
              "          const docLinkHtml = 'Like what you see? Visit the ' +\n",
              "            '<a target=\"_blank\" href=https://colab.research.google.com/notebooks/data_table.ipynb>data table notebook</a>'\n",
              "            + ' to learn more about interactive tables.';\n",
              "          element.innerHTML = '';\n",
              "          dataTable['output_type'] = 'display_data';\n",
              "          await google.colab.output.renderOutput(dataTable, element);\n",
              "          const docLink = document.createElement('div');\n",
              "          docLink.innerHTML = docLinkHtml;\n",
              "          element.appendChild(docLink);\n",
              "        }\n",
              "      </script>\n",
              "    </div>\n",
              "  </div>\n",
              "  "
            ]
          },
          "metadata": {},
          "execution_count": 90
        }
      ]
    },
    {
      "cell_type": "code",
      "source": [
        "cat_features = list(range(6, X.columns.shape[0]))"
      ],
      "metadata": {
        "id": "nHs6yi60ci-p"
      },
      "execution_count": 171,
      "outputs": []
    },
    {
      "cell_type": "code",
      "source": [
        "Xtrain, Xtest, ytrain, ytest = train_test_split(X, \n",
        "                                                y, \n",
        "                                                test_size=0.25, \n",
        "                                                random_state=42)"
      ],
      "metadata": {
        "id": "7ELOny4ZdlH9"
      },
      "execution_count": 172,
      "outputs": []
    },
    {
      "cell_type": "code",
      "source": [
        "train_set = Pool(Xtrain, ytrain, cat_features=cat_features)\n",
        "test_set = Pool(Xtest, ytest, cat_features=cat_features)"
      ],
      "metadata": {
        "id": "GkV4EmwJce9z"
      },
      "execution_count": 173,
      "outputs": []
    },
    {
      "cell_type": "code",
      "source": [
        "gbm = CatBoostClassifier(iterations=200,\n",
        "                          depth=5,\n",
        "                          learning_rate=0.1,\n",
        "                          loss_function='Logloss',\n",
        "                          eval_metric='AUC',\n",
        "                          verbose=False)\n",
        "gbm.fit(train_set, \n",
        "        eval_set=test_set,\n",
        "        plot=True\n",
        "        )\n",
        "gbm_preds = gbm.predict_proba(Xtest)"
      ],
      "metadata": {
        "colab": {
          "base_uri": "https://localhost:8080/",
          "height": 17,
          "referenced_widgets": [
            "4f5079a7f9eb4001a44e3e17a9d311d5"
          ]
        },
        "id": "SKJyolcxdyIh",
        "outputId": "291002cb-9fa7-490b-d0cf-b8246b203467"
      },
      "execution_count": 174,
      "outputs": [
        {
          "output_type": "display_data",
          "data": {
            "text/plain": [
              "MetricVisualizer(layout=Layout(align_self='stretch', height='500px'))"
            ],
            "application/vnd.jupyter.widget-view+json": {
              "version_major": 2,
              "version_minor": 0,
              "model_id": "4f5079a7f9eb4001a44e3e17a9d311d5"
            }
          },
          "metadata": {}
        }
      ]
    },
    {
      "cell_type": "code",
      "source": [
        "eval_metrics = gbm.get_evals_result()\n",
        "plt.plot(eval_metrics['validation']['AUC'])\n",
        "plt.xlabel('n_trees')\n",
        "plt.ylabel('AUC')\n",
        "plt.grid()"
      ],
      "metadata": {
        "colab": {
          "base_uri": "https://localhost:8080/",
          "height": 449
        },
        "id": "7DJp3nwMraq3",
        "outputId": "e196e24d-b642-47be-9d2b-b55ad6bf0f0b"
      },
      "execution_count": 175,
      "outputs": [
        {
          "output_type": "display_data",
          "data": {
            "text/plain": [
              "<Figure size 640x480 with 1 Axes>"
            ],
            "image/png": "[encoded data removed]"
          },
          "metadata": {}
        }
      ]
    },
    {
      "cell_type": "code",
      "source": [
        "y.value_counts()"
      ],
      "metadata": {
        "colab": {
          "base_uri": "https://localhost:8080/"
        },
        "id": "VMKirULWu92Z",
        "outputId": "407faf6b-4fd1-4dfe-9c9b-04b85544e767"
      },
      "execution_count": 137,
      "outputs": [
        {
          "output_type": "execute_result",
          "data": {
            "text/plain": [
              "0    7356\n",
              "1    2258\n",
              "Name: income, dtype: int64"
            ]
          },
          "metadata": {},
          "execution_count": 137
        }
      ]
    },
    {
      "cell_type": "code",
      "source": [
        "2258 / (2258 + 7356)"
      ],
      "metadata": {
        "colab": {
          "base_uri": "https://localhost:8080/"
        },
        "id": "MmQMUK9fvDCZ",
        "outputId": "6e76c9ab-77c4-4d7d-ce04-8e1f8bde056e"
      },
      "execution_count": 138,
      "outputs": [
        {
          "output_type": "execute_result",
          "data": {
            "text/plain": [
              "0.23486582067817766"
            ]
          },
          "metadata": {},
          "execution_count": 138
        }
      ]
    },
    {
      "cell_type": "code",
      "source": [
        "gbm_classes = (gbm_preds[:, 1] > 0.25)\n",
        "print(\"precision: \", precision_score(ytest, gbm_classes))\n",
        "print(\"recall: \", recall_score(ytest, gbm_classes))\n",
        "print(\"f1-score: \", f1_score(ytest, gbm_classes))\n",
        "print(\"auc-roc: \", roc_auc_score(ytest, gbm_preds[:, 1]))"
      ],
      "metadata": {
        "colab": {
          "base_uri": "https://localhost:8080/"
        },
        "id": "1zZoZowssWeU",
        "outputId": "755c7f5f-99d8-4819-a111-f1166ce9d1b1"
      },
      "execution_count": 176,
      "outputs": [
        {
          "output_type": "stream",
          "name": "stdout",
          "text": [
            "precision:  0.5890243902439024\n",
            "recall:  0.8594306049822064\n",
            "f1-score:  0.6989869753979738\n",
            "auc-roc:  0.9263029315960912\n"
          ]
        }
      ]
    },
    {
      "cell_type": "code",
      "source": [
        "pickle.dump(gbm, open(\"catboost_model.pkl\", \"wb\"))"
      ],
      "metadata": {
        "id": "OX6bAxRuEfjv"
      },
      "execution_count": 177,
      "outputs": []
    },
    {
      "cell_type": "code",
      "source": [
        "cm_cb = confusion_matrix(ytest, gbm_classes)\n",
        "cm_display = ConfusionMatrixDisplay(cm_cb).plot()"
      ],
      "metadata": {
        "colab": {
          "base_uri": "https://localhost:8080/",
          "height": 449
        },
        "id": "bcOulX-ltim4",
        "outputId": "39cc6490-5883-426a-ac9f-9dc1bc169ce1"
      },
      "execution_count": 146,
      "outputs": [
        {
          "output_type": "display_data",
          "data": {
            "text/plain": [
              "<Figure size 640x480 with 2 Axes>"
            ],
            "image/png": "[encoded data removed]"
          },
          "metadata": {}
        }
      ]
    },
    {
      "cell_type": "markdown",
      "source": [
        "### Cat boost with optuna"
      ],
      "metadata": {
        "id": "T9iWf_ep0yYK"
      }
    },
    {
      "cell_type": "markdown",
      "source": [
        "I'd like to try to make predictions better. For this propose I use optune, a packet that allows to find the most appropriate hyperparameters"
      ],
      "metadata": {
        "id": "cd5LOqoT05hM"
      }
    },
    {
      "cell_type": "code",
      "source": [
        "!pip install optuna"
      ],
      "metadata": {
        "colab": {
          "base_uri": "https://localhost:8080/"
        },
        "id": "nKjyUGtBxGdD",
        "outputId": "3d1fc620-bb8f-4034-feb3-ed1f0fa00b93"
      },
      "execution_count": 149,
      "outputs": [
        {
          "output_type": "stream",
          "name": "stdout",
          "text": [
            "Looking in indexes: https://pypi.org/simple, https://us-python.pkg.dev/colab-wheels/public/simple/\n",
            "Collecting optuna\n",
            "  Downloading optuna-3.2.0-py3-none-any.whl (390 kB)\n",
            "\u001b[2K     \u001b[90m━━━━━━━━━━━━━━━━━━━━━━━━━━━━━━━━━━━━━━━\u001b[0m \u001b[32m390.6/390.6 kB\u001b[0m \u001b[31m6.8 MB/s\u001b[0m eta \u001b[36m0:00:00\u001b[0m\n",
            "\u001b[?25hCollecting alembic>=1.5.0 (from optuna)\n",
            "  Downloading alembic-1.11.1-py3-none-any.whl (224 kB)\n",
            "\u001b[2K     \u001b[90m━━━━━━━━━━━━━━━━━━━━━━━━━━━━━━━━━━━━━━\u001b[0m \u001b[32m224.5/224.5 kB\u001b[0m \u001b[31m13.5 MB/s\u001b[0m eta \u001b[36m0:00:00\u001b[0m\n",
            "\u001b[?25hCollecting cmaes>=0.9.1 (from optuna)\n",
            "  Downloading cmaes-0.9.1-py3-none-any.whl (21 kB)\n",
            "Collecting colorlog (from optuna)\n",
            "  Downloading colorlog-6.7.0-py2.py3-none-any.whl (11 kB)\n",
            "Requirement already satisfied: numpy in /usr/local/lib/python3.10/dist-packages (from optuna) (1.22.4)\n",
            "Requirement already satisfied: packaging>=20.0 in /usr/local/lib/python3.10/dist-packages (from optuna) (23.1)\n",
            "Requirement already satisfied: sqlalchemy>=1.3.0 in /usr/local/lib/python3.10/dist-packages (from optuna) (2.0.10)\n",
            "Requirement already satisfied: tqdm in /usr/local/lib/python3.10/dist-packages (from optuna) (4.65.0)\n",
            "Requirement already satisfied: PyYAML in /usr/local/lib/python3.10/dist-packages (from optuna) (6.0)\n",
            "Collecting Mako (from alembic>=1.5.0->optuna)\n",
            "  Downloading Mako-1.2.4-py3-none-any.whl (78 kB)\n",
            "\u001b[2K     \u001b[90m━━━━━━━━━━━━━━━━━━━━━━━━━━━━━━━━━━━━━━━━\u001b[0m \u001b[32m78.7/78.7 kB\u001b[0m \u001b[31m7.7 MB/s\u001b[0m eta \u001b[36m0:00:00\u001b[0m\n",
            "\u001b[?25hRequirement already satisfied: typing-extensions>=4 in /usr/local/lib/python3.10/dist-packages (from alembic>=1.5.0->optuna) (4.5.0)\n",
            "Requirement already satisfied: greenlet!=0.4.17 in /usr/local/lib/python3.10/dist-packages (from sqlalchemy>=1.3.0->optuna) (2.0.2)\n",
            "Requirement already satisfied: MarkupSafe>=0.9.2 in /usr/local/lib/python3.10/dist-packages (from Mako->alembic>=1.5.0->optuna) (2.1.2)\n",
            "Installing collected packages: Mako, colorlog, cmaes, alembic, optuna\n",
            "Successfully installed Mako-1.2.4 alembic-1.11.1 cmaes-0.9.1 colorlog-6.7.0 optuna-3.2.0\n"
          ]
        }
      ]
    },
    {
      "cell_type": "code",
      "source": [
        "import optuna\n",
        "import pickle"
      ],
      "metadata": {
        "id": "iR2k_vhp13vg"
      },
      "execution_count": 150,
      "outputs": []
    },
    {
      "cell_type": "code",
      "source": [
        "def objective(trial):\n",
        "    model = CatBoostClassifier(\n",
        "        iterations=trial.suggest_int(\"iterations\", 100, 1000),\n",
        "        learning_rate=trial.suggest_float(\"learning_rate\", 1e-3, 1e-1, log=True),\n",
        "        depth=trial.suggest_int(\"depth\", 4, 10),\n",
        "        l2_leaf_reg=trial.suggest_float(\"l2_leaf_reg\", 1e-8, 100.0, log=True),\n",
        "        bootstrap_type=trial.suggest_categorical(\"bootstrap_type\", [\"Bayesian\"]),\n",
        "        verbose=False\n",
        "    )\n",
        "    model.fit(Xtrain, \n",
        "              ytrain,\n",
        "              eval_set=[(Xtest, ytest)],\n",
        "              # eval_metric='AUC'\n",
        "              )\n",
        "    y_pred = model.predict(Xtest)\n",
        "    return f1_score(ytest, y_pred)"
      ],
      "metadata": {
        "id": "Ao92lia72BVx"
      },
      "execution_count": 164,
      "outputs": []
    },
    {
      "cell_type": "code",
      "source": [
        "from optuna.samplers import TPESampler\n",
        "\n",
        "optuna.logging.set_verbosity(optuna.logging.WARNING)\n",
        "\n",
        "sampler = TPESampler(seed=1)\n",
        "study = optuna.create_study(study_name=\"catboost\", \n",
        "                            direction=\"maximize\", \n",
        "                            sampler=sampler)\n",
        "study.optimize(objective, n_trials=200)"
      ],
      "metadata": {
        "id": "trEQUeiO5KAw"
      },
      "execution_count": 165,
      "outputs": []
    },
    {
      "cell_type": "code",
      "source": [
        "print(\"Number of finished trials: \", len(study.trials))\n",
        "print(\"Best trial:\")\n",
        "trial = study.best_trial\n",
        "print(\"  Value: \", trial.value)\n",
        "print(\"  Params: \")\n",
        "for key, value in trial.params.items():\n",
        "    print(\"    {}: {}\".format(key, value))"
      ],
      "metadata": {
        "colab": {
          "base_uri": "https://localhost:8080/"
        },
        "id": "e5aEklOU5v_i",
        "outputId": "6c8f950e-5b27-4815-e591-ba6e9f4fc026"
      },
      "execution_count": 166,
      "outputs": [
        {
          "output_type": "stream",
          "name": "stdout",
          "text": [
            "Number of finished trials:  200\n",
            "Best trial:\n",
            "  Value:  0.7170923379174853\n",
            "  Params: \n",
            "    iterations: 944\n",
            "    learning_rate: 0.052372315418571944\n",
            "    depth: 4\n",
            "    l2_leaf_reg: 4.941753952002075e-05\n",
            "    bootstrap_type: Bayesian\n"
          ]
        }
      ]
    },
    {
      "cell_type": "code",
      "source": [
        "model = CatBoostClassifier(**trial.params, verbose=False)\n",
        "model.fit(Xtrain, ytrain)\n",
        "y_pred = model.predict(Xtest)"
      ],
      "metadata": {
        "id": "rk9OFYtI50Qb"
      },
      "execution_count": 167,
      "outputs": []
    },
    {
      "cell_type": "code",
      "source": [
        "print(f1_score(ytest, y_pred))"
      ],
      "metadata": {
        "colab": {
          "base_uri": "https://localhost:8080/"
        },
        "id": "zgfFAfPC59MX",
        "outputId": "227007a6-7f36-4a83-d114-49b9dc8ce4a7"
      },
      "execution_count": 168,
      "outputs": [
        {
          "output_type": "stream",
          "name": "stdout",
          "text": [
            "0.7121951219512195\n"
          ]
        }
      ]
    },
    {
      "cell_type": "code",
      "source": [
        "pickle.dump(model, open(\"catboost_model_optuna.pkl\", \"wb\"))"
      ],
      "metadata": {
        "id": "m4GkdRf-7NNN"
      },
      "execution_count": 170,
      "outputs": []
    },
    {
      "cell_type": "code",
      "source": [],
      "metadata": {
        "id": "lSSm8YvdEW8w"
      },
      "execution_count": null,
      "outputs": []
    }
  ],
  "metadata": {
    "kernelspec": {
      "display_name": "Python 3",
      "language": "python",
      "name": "python3"
    },
    "language_info": {
      "codemirror_mode": {
        "name": "ipython",
        "version": 3
      },
      "file_extension": ".py",
      "mimetype": "text/x-python",
      "name": "python",
      "nbconvert_exporter": "python",
      "pygments_lexer": "ipython3",
      "version": "3.7.6"
    },
    "colab": {
      "provenance": [],
      "include_colab_link": true
    },
    "widgets": {
      "application/vnd.jupyter.widget-state+json": {
        "4f5079a7f9eb4001a44e3e17a9d311d5": {
          "model_module": "catboost-widget",
          "model_name": "CatboostWidgetModel",
          "model_module_version": "^1.0.0",
          "state": {
            "_dom_classes": [],
            "_model_module": "catboost-widget",
            "_model_module_version": "^1.0.0",
            "_model_name": "CatboostWidgetModel",
            "_view_count": null,
            "_view_module": "catboost-widget",
            "_view_module_version": "^1.0.0",
            "_view_name": "CatboostWidgetView",
            "data": {
              "catboost_info": {
                "path": "catboost_info",
                "name": "catboost_info",
                "content": {
                  "passed_iterations": 199,
                  "total_iterations": 200,
                  "data": {
                    "iterations": [
                      {
                        "learn": [
                          0.6002873815
                        ],
                        "iteration": 0,
                        "passed_time": 0.006548916965,
                        "remaining_time": 1.303234476,
                        "test": [
                          0.8738997338,
                          0.6013916326
                        ]
                      },
                      {
                        "learn": [
                          0.5339769297
                        ],
                        "iteration": 1,
                        "passed_time": 0.01472781549,
                        "remaining_time": 1.458053733,
                        "test": [
                          0.8786379303,
                          0.5361493139
                        ]
                      },
                      {
                        "learn": [
                          0.4861206224
                        ],
                        "iteration": 2,
                        "passed_time": 0.02416188476,
                        "remaining_time": 1.586630433,
                        "test": [
                          0.8865571424,
                          0.4893417648
                        ]
                      },
                      {
                        "learn": [
                          0.4486147504
                        ],
                        "iteration": 3,
                        "passed_time": 0.02958064716,
                        "remaining_time": 1.449451711,
                        "test": [
                          0.8875004347,
                          0.4530621119
                        ]
                      },
                      {
                        "learn": [
                          0.4171763967
                        ],
                        "iteration": 4,
                        "passed_time": 0.03785912497,
                        "remaining_time": 1.476505874,
                        "test": [
                          0.8904167681,
                          0.4226714166
                        ]
                      },
                      {
                        "learn": [
                          0.3961241925
                        ],
                        "iteration": 5,
                        "passed_time": 0.04685453617,
                        "remaining_time": 1.514963336,
                        "test": [
                          0.8933949251,
                          0.4013061181
                        ]
                      },
                      {
                        "learn": [
                          0.3802199296
                        ],
                        "iteration": 6,
                        "passed_time": 0.05389287636,
                        "remaining_time": 1.485903591,
                        "test": [
                          0.8966508051,
                          0.3855362315
                        ]
                      },
                      {
                        "learn": [
                          0.371623525
                        ],
                        "iteration": 7,
                        "passed_time": 0.06118428453,
                        "remaining_time": 1.468422829,
                        "test": [
                          0.8998284396,
                          0.3763281593
                        ]
                      },
                      {
                        "learn": [
                          0.3633390024
                        ],
                        "iteration": 8,
                        "passed_time": 0.06937600287,
                        "remaining_time": 1.47231295,
                        "test": [
                          0.9022149258,
                          0.3675282176
                        ]
                      },
                      {
                        "learn": [
                          0.3559497904
                        ],
                        "iteration": 9,
                        "passed_time": 0.07893824442,
                        "remaining_time": 1.499826644,
                        "test": [
                          0.9029007809,
                          0.3609058797
                        ]
                      },
                      {
                        "learn": [
                          0.3488959441
                        ],
                        "iteration": 10,
                        "passed_time": 0.08349812218,
                        "remaining_time": 1.434649554,
                        "test": [
                          0.9034064783,
                          0.3548710635
                        ]
                      },
                      {
                        "learn": [
                          0.344230578
                        ],
                        "iteration": 11,
                        "passed_time": 0.09195010665,
                        "remaining_time": 1.440551671,
                        "test": [
                          0.9047704607,
                          0.349884976
                        ]
                      },
                      {
                        "learn": [
                          0.340575332
                        ],
                        "iteration": 12,
                        "passed_time": 0.1002143505,
                        "remaining_time": 1.441544888,
                        "test": [
                          0.9052664982,
                          0.3470359375
                        ]
                      },
                      {
                        "learn": [
                          0.3339899375
                        ],
                        "iteration": 13,
                        "passed_time": 0.1109359841,
                        "remaining_time": 1.473863789,
                        "test": [
                          0.9054157441,
                          0.3412563896
                        ]
                      },
                      {
                        "learn": [
                          0.3316975198
                        ],
                        "iteration": 14,
                        "passed_time": 0.1164787949,
                        "remaining_time": 1.436571804,
                        "test": [
                          0.9059272375,
                          0.338701648
                        ]
                      },
                      {
                        "learn": [
                          0.3277206706
                        ],
                        "iteration": 15,
                        "passed_time": 0.125744852,
                        "remaining_time": 1.446065798,
                        "test": [
                          0.907419697,
                          0.3344219335
                        ]
                      },
                      {
                        "learn": [
                          0.3258039851
                        ],
                        "iteration": 16,
                        "passed_time": 0.134591337,
                        "remaining_time": 1.448836157,
                        "test": [
                          0.9079959119,
                          0.332514605
                        ]
                      },
                      {
                        "learn": [
                          0.3211534311
                        ],
                        "iteration": 17,
                        "passed_time": 0.1430480545,
                        "remaining_time": 1.446374773,
                        "test": [
                          0.9085001604,
                          0.3279021293
                        ]
                      },
                      {
                        "learn": [
                          0.3186417204
                        ],
                        "iteration": 18,
                        "passed_time": 0.1541309273,
                        "remaining_time": 1.468299886,
                        "test": [
                          0.9088682038,
                          0.3258009458
                        ]
                      },
                      {
                        "learn": [
                          0.3149553278
                        ],
                        "iteration": 19,
                        "passed_time": 0.1614938777,
                        "remaining_time": 1.453444899,
                        "test": [
                          0.9093521663,
                          0.322649091
                        ]
                      },
                      {
                        "learn": [
                          0.3133475324
                        ],
                        "iteration": 20,
                        "passed_time": 0.1693696781,
                        "remaining_time": 1.443674875,
                        "test": [
                          0.910252955,
                          0.3207508567
                        ]
                      },
                      {
                        "learn": [
                          0.3108541612
                        ],
                        "iteration": 21,
                        "passed_time": 0.176600376,
                        "remaining_time": 1.428857588,
                        "test": [
                          0.910957164,
                          0.3181007421
                        ]
                      },
                      {
                        "learn": [
                          0.3095480208
                        ],
                        "iteration": 22,
                        "passed_time": 0.1852092326,
                        "remaining_time": 1.425305833,
                        "test": [
                          0.9112174992,
                          0.3169086033
                        ]
                      },
                      {
                        "learn": [
                          0.3078714039
                        ],
                        "iteration": 23,
                        "passed_time": 0.196062691,
                        "remaining_time": 1.437793067,
                        "test": [
                          0.9117801902,
                          0.3154693754
                        ]
                      },
                      {
                        "learn": [
                          0.3065838044
                        ],
                        "iteration": 24,
                        "passed_time": 0.2005786308,
                        "remaining_time": 1.404050416,
                        "test": [
                          0.9122820236,
                          0.3141302116
                        ]
                      },
                      {
                        "learn": [
                          0.3050174928
                        ],
                        "iteration": 25,
                        "passed_time": 0.2091417543,
                        "remaining_time": 1.399640971,
                        "test": [
                          0.9128326398,
                          0.3129965641
                        ]
                      },
                      {
                        "learn": [
                          0.303514804
                        ],
                        "iteration": 26,
                        "passed_time": 0.2176391586,
                        "remaining_time": 1.394502757,
                        "test": [
                          0.9129292391,
                          0.3118218855
                        ]
                      },
                      {
                        "learn": [
                          0.3016651398
                        ],
                        "iteration": 27,
                        "passed_time": 0.2260582067,
                        "remaining_time": 1.38864327,
                        "test": [
                          0.9131929552,
                          0.3103508107
                        ]
                      },
                      {
                        "learn": [
                          0.3004671129
                        ],
                        "iteration": 28,
                        "passed_time": 0.2414623778,
                        "remaining_time": 1.4237954,
                        "test": [
                          0.9140357843,
                          0.308888629
                        ]
                      },
                      {
                        "learn": [
                          0.2996799267
                        ],
                        "iteration": 29,
                        "passed_time": 0.2499769008,
                        "remaining_time": 1.416535771,
                        "test": [
                          0.9143125413,
                          0.308389729
                        ]
                      },
                      {
                        "learn": [
                          0.2981879106
                        ],
                        "iteration": 30,
                        "passed_time": 0.259129876,
                        "remaining_time": 1.412675775,
                        "test": [
                          0.9139725117,
                          0.3078831645
                        ]
                      },
                      {
                        "learn": [
                          0.2970230416
                        ],
                        "iteration": 31,
                        "passed_time": 0.2634507952,
                        "remaining_time": 1.383116675,
                        "test": [
                          0.913924212,
                          0.3072445432
                        ]
                      },
                      {
                        "learn": [
                          0.2965245492
                        ],
                        "iteration": 32,
                        "passed_time": 0.2716161752,
                        "remaining_time": 1.374542462,
                        "test": [
                          0.9144825561,
                          0.3064990432
                        ]
                      },
                      {
                        "learn": [
                          0.2958085796
                        ],
                        "iteration": 33,
                        "passed_time": 0.2799428512,
                        "remaining_time": 1.366779803,
                        "test": [
                          0.9145265088,
                          0.3061205472
                        ]
                      },
                      {
                        "learn": [
                          0.2950095487
                        ],
                        "iteration": 34,
                        "passed_time": 0.2883491531,
                        "remaining_time": 1.359360293,
                        "test": [
                          0.9146598158,
                          0.305534003
                        ]
                      },
                      {
                        "learn": [
                          0.2943434791
                        ],
                        "iteration": 35,
                        "passed_time": 0.2974440818,
                        "remaining_time": 1.355023039,
                        "test": [
                          0.9148728173,
                          0.3048698067
                        ]
                      },
                      {
                        "learn": [
                          0.2933484025
                        ],
                        "iteration": 36,
                        "passed_time": 0.3035124333,
                        "remaining_time": 1.337095314,
                        "test": [
                          0.9149423688,
                          0.30442084
                        ]
                      },
                      {
                        "learn": [
                          0.2926167309
                        ],
                        "iteration": 37,
                        "passed_time": 0.3108673396,
                        "remaining_time": 1.325276553,
                        "test": [
                          0.9149926005,
                          0.3039315392
                        ]
                      },
                      {
                        "learn": [
                          0.2915597959
                        ],
                        "iteration": 38,
                        "passed_time": 0.3192865436,
                        "remaining_time": 1.318080347,
                        "test": [
                          0.915489121,
                          0.3027379351
                        ]
                      },
                      {
                        "learn": [
                          0.2908567345
                        ],
                        "iteration": 39,
                        "passed_time": 0.3271729087,
                        "remaining_time": 1.308691635,
                        "test": [
                          0.9154012156,
                          0.3025218444
                        ]
                      },
                      {
                        "learn": [
                          0.2902871958
                        ],
                        "iteration": 40,
                        "passed_time": 0.3354863557,
                        "remaining_time": 1.301032453,
                        "test": [
                          0.915633054,
                          0.3019866412
                        ]
                      },
                      {
                        "learn": [
                          0.2898350509
                        ],
                        "iteration": 41,
                        "passed_time": 0.3414799003,
                        "remaining_time": 1.284614863,
                        "test": [
                          0.9157301363,
                          0.3016631322
                        ]
                      },
                      {
                        "learn": [
                          0.2885936386
                        ],
                        "iteration": 42,
                        "passed_time": 0.3503334994,
                        "remaining_time": 1.279124637,
                        "test": [
                          0.9161276425,
                          0.3004850836
                        ]
                      },
                      {
                        "learn": [
                          0.2881028595
                        ],
                        "iteration": 43,
                        "passed_time": 0.3612286383,
                        "remaining_time": 1.280719718,
                        "test": [
                          0.9162112009,
                          0.3002405944
                        ]
                      },
                      {
                        "learn": [
                          0.2878262751
                        ],
                        "iteration": 44,
                        "passed_time": 0.3665320337,
                        "remaining_time": 1.262499227,
                        "test": [
                          0.9162855824,
                          0.3000250296
                        ]
                      },
                      {
                        "learn": [
                          0.2873166065
                        ],
                        "iteration": 45,
                        "passed_time": 0.3797624602,
                        "remaining_time": 1.271378671,
                        "test": [
                          0.9163483719,
                          0.2999362061
                        ]
                      },
                      {
                        "learn": [
                          0.2867662686
                        ],
                        "iteration": 46,
                        "passed_time": 0.3869094875,
                        "remaining_time": 1.259513863,
                        "test": [
                          0.9162928273,
                          0.2999021457
                        ]
                      },
                      {
                        "learn": [
                          0.2862823823
                        ],
                        "iteration": 47,
                        "passed_time": 0.3926120723,
                        "remaining_time": 1.243271562,
                        "test": [
                          0.9162778544,
                          0.2997441669
                        ]
                      },
                      {
                        "learn": [
                          0.2858184422
                        ],
                        "iteration": 48,
                        "passed_time": 0.400470044,
                        "remaining_time": 1.234101564,
                        "test": [
                          0.9162575686,
                          0.2996187407
                        ]
                      },
                      {
                        "learn": [
                          0.2851899358
                        ],
                        "iteration": 49,
                        "passed_time": 0.4088563156,
                        "remaining_time": 1.226568947,
                        "test": [
                          0.916475883,
                          0.2991769504
                        ]
                      },
                      {
                        "learn": [
                          0.284625882
                        ],
                        "iteration": 50,
                        "passed_time": 0.4172766024,
                        "remaining_time": 1.219102231,
                        "test": [
                          0.9165082438,
                          0.2987084109
                        ]
                      },
                      {
                        "learn": [
                          0.2841678452
                        ],
                        "iteration": 51,
                        "passed_time": 0.4253935679,
                        "remaining_time": 1.210735539,
                        "test": [
                          0.9166618367,
                          0.2984074642
                        ]
                      },
                      {
                        "learn": [
                          0.2839821197
                        ],
                        "iteration": 52,
                        "passed_time": 0.4324046461,
                        "remaining_time": 1.199310999,
                        "test": [
                          0.9165719993,
                          0.2984512213
                        ]
                      },
                      {
                        "learn": [
                          0.2833742367
                        ],
                        "iteration": 53,
                        "passed_time": 0.4397744646,
                        "remaining_time": 1.189019849,
                        "test": [
                          0.9169110629,
                          0.2977708598
                        ]
                      },
                      {
                        "learn": [
                          0.2830641681
                        ],
                        "iteration": 54,
                        "passed_time": 0.4500659316,
                        "remaining_time": 1.186537456,
                        "test": [
                          0.9170849417,
                          0.2974019271
                        ]
                      },
                      {
                        "learn": [
                          0.2826067126
                        ],
                        "iteration": 55,
                        "passed_time": 0.4552642933,
                        "remaining_time": 1.170679611,
                        "test": [
                          0.9171158535,
                          0.2971082451
                        ]
                      },
                      {
                        "learn": [
                          0.2824767552
                        ],
                        "iteration": 56,
                        "passed_time": 0.4636228948,
                        "remaining_time": 1.163124104,
                        "test": [
                          0.9170791458,
                          0.2970669301
                        ]
                      },
                      {
                        "learn": [
                          0.2821934347
                        ],
                        "iteration": 57,
                        "passed_time": 0.4721920668,
                        "remaining_time": 1.156056439,
                        "test": [
                          0.9171554592,
                          0.2967994456
                        ]
                      },
                      {
                        "learn": [
                          0.2816064622
                        ],
                        "iteration": 58,
                        "passed_time": 0.47591844,
                        "remaining_time": 1.137364407,
                        "test": [
                          0.9170699688,
                          0.2967215588
                        ]
                      },
                      {
                        "learn": [
                          0.2803846666
                        ],
                        "iteration": 59,
                        "passed_time": 0.4816070122,
                        "remaining_time": 1.123749695,
                        "test": [
                          0.917745198,
                          0.2953850925
                        ]
                      },
                      {
                        "learn": [
                          0.2800533559
                        ],
                        "iteration": 60,
                        "passed_time": 0.4857916751,
                        "remaining_time": 1.106967915,
                        "test": [
                          0.9178388994,
                          0.2952318618
                        ]
                      },
                      {
                        "learn": [
                          0.2796063037
                        ],
                        "iteration": 61,
                        "passed_time": 0.4894157561,
                        "remaining_time": 1.089344748,
                        "test": [
                          0.9179470906,
                          0.2950570857
                        ]
                      },
                      {
                        "learn": [
                          0.2787210992
                        ],
                        "iteration": 62,
                        "passed_time": 0.4930084986,
                        "remaining_time": 1.072097846,
                        "test": [
                          0.9183672977,
                          0.2941797271
                        ]
                      },
                      {
                        "learn": [
                          0.2781485948
                        ],
                        "iteration": 63,
                        "passed_time": 0.4966061131,
                        "remaining_time": 1.05528799,
                        "test": [
                          0.9183503928,
                          0.2940019343
                        ]
                      },
                      {
                        "learn": [
                          0.2776110521
                        ],
                        "iteration": 64,
                        "passed_time": 0.5002252957,
                        "remaining_time": 1.03892946,
                        "test": [
                          0.9183909645,
                          0.293835627
                        ]
                      },
                      {
                        "learn": [
                          0.2771535222
                        ],
                        "iteration": 65,
                        "passed_time": 0.5036175468,
                        "remaining_time": 1.022496231,
                        "test": [
                          0.9183880665,
                          0.2937057946
                        ]
                      },
                      {
                        "learn": [
                          0.2769533904
                        ],
                        "iteration": 66,
                        "passed_time": 0.507003883,
                        "remaining_time": 1.006440544,
                        "test": [
                          0.9183503928,
                          0.29371154
                        ]
                      },
                      {
                        "learn": [
                          0.2760351021
                        ],
                        "iteration": 67,
                        "passed_time": 0.5103999611,
                        "remaining_time": 0.990776395,
                        "test": [
                          0.9184199443,
                          0.2932049777
                        ]
                      },
                      {
                        "learn": [
                          0.2755926691
                        ],
                        "iteration": 68,
                        "passed_time": 0.5154484438,
                        "remaining_time": 0.9786050165,
                        "test": [
                          0.9183001611,
                          0.2932927663
                        ]
                      },
                      {
                        "learn": [
                          0.2749876193
                        ],
                        "iteration": 69,
                        "passed_time": 0.5251825815,
                        "remaining_time": 0.9753390799,
                        "test": [
                          0.9186691705,
                          0.2925584672
                        ]
                      },
                      {
                        "learn": [
                          0.2745461749
                        ],
                        "iteration": 70,
                        "passed_time": 0.5336211561,
                        "remaining_time": 0.9695370301,
                        "test": [
                          0.9187908857,
                          0.2923727685
                        ]
                      },
                      {
                        "learn": [
                          0.2742788279
                        ],
                        "iteration": 71,
                        "passed_time": 0.5401901538,
                        "remaining_time": 0.9603380511,
                        "test": [
                          0.918879757,
                          0.2920898055
                        ]
                      },
                      {
                        "learn": [
                          0.2739971352
                        ],
                        "iteration": 72,
                        "passed_time": 0.5449310377,
                        "remaining_time": 0.9480307094,
                        "test": [
                          0.9190149961,
                          0.2919233254
                        ]
                      },
                      {
                        "learn": [
                          0.2736290899
                        ],
                        "iteration": 73,
                        "passed_time": 0.5522381654,
                        "remaining_time": 0.9402974168,
                        "test": [
                          0.9190140301,
                          0.2917608812
                        ]
                      },
                      {
                        "learn": [
                          0.2735443939
                        ],
                        "iteration": 74,
                        "passed_time": 0.5558833126,
                        "remaining_time": 0.9264721877,
                        "test": [
                          0.9190178941,
                          0.2917540827
                        ]
                      },
                      {
                        "learn": [
                          0.2731756912
                        ],
                        "iteration": 75,
                        "passed_time": 0.5594021304,
                        "remaining_time": 0.9127087391,
                        "test": [
                          0.9189937442,
                          0.2916454853
                        ]
                      },
                      {
                        "learn": [
                          0.2728777343
                        ],
                        "iteration": 76,
                        "passed_time": 0.5629576685,
                        "remaining_time": 0.8992700419,
                        "test": [
                          0.9190536358,
                          0.2915596193
                        ]
                      },
                      {
                        "learn": [
                          0.2724564874
                        ],
                        "iteration": 77,
                        "passed_time": 0.5666359922,
                        "remaining_time": 0.8862768083,
                        "test": [
                          0.919170038,
                          0.2912666468
                        ]
                      },
                      {
                        "learn": [
                          0.2722937628
                        ],
                        "iteration": 78,
                        "passed_time": 0.570137184,
                        "remaining_time": 0.8732480919,
                        "test": [
                          0.9191748679,
                          0.2912504164
                        ]
                      },
                      {
                        "learn": [
                          0.2720476712
                        ],
                        "iteration": 79,
                        "passed_time": 0.5738549281,
                        "remaining_time": 0.8607823921,
                        "test": [
                          0.9191787319,
                          0.2912416337
                        ]
                      },
                      {
                        "learn": [
                          0.2716753399
                        ],
                        "iteration": 80,
                        "passed_time": 0.5771698752,
                        "remaining_time": 0.8479409278,
                        "test": [
                          0.9191912898,
                          0.2911214355
                        ]
                      },
                      {
                        "learn": [
                          0.2712350546
                        ],
                        "iteration": 81,
                        "passed_time": 0.5809852421,
                        "remaining_time": 0.8360519337,
                        "test": [
                          0.9191256023,
                          0.2910705246
                        ]
                      },
                      {
                        "learn": [
                          0.2708828181
                        ],
                        "iteration": 82,
                        "passed_time": 0.5848833032,
                        "remaining_time": 0.8244740539,
                        "test": [
                          0.9190521868,
                          0.291125537
                        ]
                      },
                      {
                        "learn": [
                          0.2706206722
                        ],
                        "iteration": 83,
                        "passed_time": 0.5886956181,
                        "remaining_time": 0.8129606155,
                        "test": [
                          0.9190502548,
                          0.2910227285
                        ]
                      },
                      {
                        "learn": [
                          0.2704668002
                        ],
                        "iteration": 84,
                        "passed_time": 0.5925693133,
                        "remaining_time": 0.8017114239,
                        "test": [
                          0.9190695747,
                          0.2909903975
                        ]
                      },
                      {
                        "learn": [
                          0.2703574879
                        ],
                        "iteration": 85,
                        "passed_time": 0.5964520345,
                        "remaining_time": 0.7906457202,
                        "test": [
                          0.9191420242,
                          0.2909098111
                        ]
                      },
                      {
                        "learn": [
                          0.2697597913
                        ],
                        "iteration": 86,
                        "passed_time": 0.6004054101,
                        "remaining_time": 0.779836912,
                        "test": [
                          0.9194810878,
                          0.2901109492
                        ]
                      },
                      {
                        "learn": [
                          0.2693671254
                        ],
                        "iteration": 87,
                        "passed_time": 0.6042536839,
                        "remaining_time": 0.7690501431,
                        "test": [
                          0.9193999444,
                          0.2901355442
                        ]
                      },
                      {
                        "learn": [
                          0.2692460048
                        ],
                        "iteration": 88,
                        "passed_time": 0.6082433398,
                        "remaining_time": 0.758595626,
                        "test": [
                          0.9194936457,
                          0.2899721202
                        ]
                      },
                      {
                        "learn": [
                          0.2691569825
                        ],
                        "iteration": 89,
                        "passed_time": 0.6120586458,
                        "remaining_time": 0.7480716781,
                        "test": [
                          0.9194946117,
                          0.2899388351
                        ]
                      },
                      {
                        "learn": [
                          0.2688747794
                        ],
                        "iteration": 90,
                        "passed_time": 0.6153625541,
                        "remaining_time": 0.7370826197,
                        "test": [
                          0.9194830198,
                          0.2899420191
                        ]
                      },
                      {
                        "learn": [
                          0.26869085
                        ],
                        "iteration": 91,
                        "passed_time": 0.621542601,
                        "remaining_time": 0.7296369664,
                        "test": [
                          0.9194975097,
                          0.2898849023
                        ]
                      },
                      {
                        "learn": [
                          0.2681866651
                        ],
                        "iteration": 92,
                        "passed_time": 0.6258041942,
                        "remaining_time": 0.7200112771,
                        "test": [
                          0.9194656319,
                          0.2899573418
                        ]
                      },
                      {
                        "learn": [
                          0.2680997768
                        ],
                        "iteration": 93,
                        "passed_time": 0.6291721848,
                        "remaining_time": 0.7094920381,
                        "test": [
                          0.9194617679,
                          0.2899654891
                        ]
                      },
                      {
                        "learn": [
                          0.2680259452
                        ],
                        "iteration": 94,
                        "passed_time": 0.6332464323,
                        "remaining_time": 0.6999039514,
                        "test": [
                          0.9194009104,
                          0.2900303117
                        ]
                      },
                      {
                        "learn": [
                          0.2679816209
                        ],
                        "iteration": 95,
                        "passed_time": 0.6371798308,
                        "remaining_time": 0.6902781501,
                        "test": [
                          0.9194588699,
                          0.2900002136
                        ]
                      },
                      {
                        "learn": [
                          0.2675864746
                        ],
                        "iteration": 96,
                        "passed_time": 0.6451795297,
                        "remaining_time": 0.6850875418,
                        "test": [
                          0.9196288847,
                          0.289674062
                        ]
                      },
                      {
                        "learn": [
                          0.2671764793
                        ],
                        "iteration": 97,
                        "passed_time": 0.6534607994,
                        "remaining_time": 0.6801326688,
                        "test": [
                          0.919596041,
                          0.2896648205
                        ]
                      },
                      {
                        "learn": [
                          0.2671085034
                        ],
                        "iteration": 98,
                        "passed_time": 0.6688717841,
                        "remaining_time": 0.6823843454,
                        "test": [
                          0.9196153608,
                          0.2896179239
                        ]
                      },
                      {
                        "learn": [
                          0.2669800524
                        ],
                        "iteration": 99,
                        "passed_time": 0.6729885577,
                        "remaining_time": 0.6729885577,
                        "test": [
                          0.9195612652,
                          0.2897025062
                        ]
                      },
                      {
                        "learn": [
                          0.2669094238
                        ],
                        "iteration": 100,
                        "passed_time": 0.6768065715,
                        "remaining_time": 0.6634044612,
                        "test": [
                          0.9195110336,
                          0.289748571
                        ]
                      },
                      {
                        "learn": [
                          0.2666453551
                        ],
                        "iteration": 101,
                        "passed_time": 0.6807085997,
                        "remaining_time": 0.6540141448,
                        "test": [
                          0.9194772238,
                          0.2897829533
                        ]
                      },
                      {
                        "learn": [
                          0.2663534269
                        ],
                        "iteration": 102,
                        "passed_time": 0.6843733499,
                        "remaining_time": 0.6445069411,
                        "test": [
                          0.9196066669,
                          0.2896715056
                        ]
                      },
                      {
                        "learn": [
                          0.2655569803
                        ],
                        "iteration": 103,
                        "passed_time": 0.6885914073,
                        "remaining_time": 0.6356228376,
                        "test": [
                          0.9203224678,
                          0.2883105366
                        ]
                      },
                      {
                        "learn": [
                          0.2652005935
                        ],
                        "iteration": 104,
                        "passed_time": 0.6925844666,
                        "remaining_time": 0.6266240412,
                        "test": [
                          0.9204325911,
                          0.2880636694
                        ]
                      },
                      {
                        "learn": [
                          0.2651354123
                        ],
                        "iteration": 105,
                        "passed_time": 0.6961432948,
                        "remaining_time": 0.61733462,
                        "test": [
                          0.9204152032,
                          0.2880964204
                        ]
                      },
                      {
                        "learn": [
                          0.2648470579
                        ],
                        "iteration": 106,
                        "passed_time": 0.700118404,
                        "remaining_time": 0.6085141268,
                        "test": [
                          0.9204731628,
                          0.2879838662
                        ]
                      },
                      {
                        "learn": [
                          0.2646209805
                        ],
                        "iteration": 107,
                        "passed_time": 0.7036276053,
                        "remaining_time": 0.5993864786,
                        "test": [
                          0.9205639661,
                          0.2877962363
                        ]
                      },
                      {
                        "learn": [
                          0.2630615729
                        ],
                        "iteration": 108,
                        "passed_time": 0.7096810101,
                        "remaining_time": 0.5924859809,
                        "test": [
                          0.9218265192,
                          0.285582731
                        ]
                      },
                      {
                        "learn": [
                          0.2625902293
                        ],
                        "iteration": 109,
                        "passed_time": 0.713503862,
                        "remaining_time": 0.5837758871,
                        "test": [
                          0.9218931727,
                          0.2855223289
                        ]
                      },
                      {
                        "learn": [
                          0.262403406
                        ],
                        "iteration": 110,
                        "passed_time": 0.7172694947,
                        "remaining_time": 0.5751079732,
                        "test": [
                          0.9219105606,
                          0.2854876359
                        ]
                      },
                      {
                        "learn": [
                          0.2621536148
                        ],
                        "iteration": 111,
                        "passed_time": 0.7210182496,
                        "remaining_time": 0.566514339,
                        "test": [
                          0.9218410091,
                          0.2855236297
                        ]
                      },
                      {
                        "learn": [
                          0.2621018586
                        ],
                        "iteration": 112,
                        "passed_time": 0.7247169644,
                        "remaining_time": 0.5579679284,
                        "test": [
                          0.9218960707,
                          0.2854697448
                        ]
                      },
                      {
                        "learn": [
                          0.2618088781
                        ],
                        "iteration": 113,
                        "passed_time": 0.7282602541,
                        "remaining_time": 0.5493893145,
                        "test": [
                          0.92200233,
                          0.2853274783
                        ]
                      },
                      {
                        "learn": [
                          0.2615199472
                        ],
                        "iteration": 114,
                        "passed_time": 0.7319463327,
                        "remaining_time": 0.5410038111,
                        "test": [
                          0.9221655828,
                          0.285088361
                        ]
                      },
                      {
                        "learn": [
                          0.2614739643
                        ],
                        "iteration": 115,
                        "passed_time": 0.735747247,
                        "remaining_time": 0.5327824892,
                        "test": [
                          0.9221501269,
                          0.2851215936
                        ]
                      },
                      {
                        "learn": [
                          0.2613300238
                        ],
                        "iteration": 116,
                        "passed_time": 0.7395263523,
                        "remaining_time": 0.5246212584,
                        "test": [
                          0.922134671,
                          0.2850831387
                        ]
                      },
                      {
                        "learn": [
                          0.2602915341
                        ],
                        "iteration": 117,
                        "passed_time": 0.7436313688,
                        "remaining_time": 0.5167607817,
                        "test": [
                          0.9223240057,
                          0.2841737517
                        ]
                      },
                      {
                        "learn": [
                          0.2598449476
                        ],
                        "iteration": 118,
                        "passed_time": 0.7470995573,
                        "remaining_time": 0.5085299508,
                        "test": [
                          0.9226959131,
                          0.2834369684
                        ]
                      },
                      {
                        "learn": [
                          0.2598117278
                        ],
                        "iteration": 119,
                        "passed_time": 0.7533485127,
                        "remaining_time": 0.5022323418,
                        "test": [
                          0.9226949471,
                          0.2834377938
                        ]
                      },
                      {
                        "learn": [
                          0.2589418085
                        ],
                        "iteration": 120,
                        "passed_time": 0.757256078,
                        "remaining_time": 0.4944068609,
                        "test": [
                          0.9228833158,
                          0.2827608777
                        ]
                      },
                      {
                        "learn": [
                          0.2588658555
                        ],
                        "iteration": 121,
                        "passed_time": 0.7606470359,
                        "remaining_time": 0.486315318,
                        "test": [
                          0.9228842817,
                          0.2827628496
                        ]
                      },
                      {
                        "learn": [
                          0.2587750618
                        ],
                        "iteration": 122,
                        "passed_time": 0.7645447683,
                        "remaining_time": 0.4786174566,
                        "test": [
                          0.9228891117,
                          0.2827299087
                        ]
                      },
                      {
                        "learn": [
                          0.2582911666
                        ],
                        "iteration": 123,
                        "passed_time": 0.7682395098,
                        "remaining_time": 0.4708564737,
                        "test": [
                          0.9229663912,
                          0.2824733722
                        ]
                      },
                      {
                        "learn": [
                          0.2582473658
                        ],
                        "iteration": 124,
                        "passed_time": 0.7760233291,
                        "remaining_time": 0.4656139974,
                        "test": [
                          0.9229692891,
                          0.2824928176
                        ]
                      },
                      {
                        "learn": [
                          0.2582073066
                        ],
                        "iteration": 125,
                        "passed_time": 0.7803200105,
                        "remaining_time": 0.4582831808,
                        "test": [
                          0.9229625272,
                          0.2825149791
                        ]
                      },
                      {
                        "learn": [
                          0.2578016509
                        ],
                        "iteration": 126,
                        "passed_time": 0.786835406,
                        "remaining_time": 0.4522754696,
                        "test": [
                          0.9229605952,
                          0.2824919596
                        ]
                      },
                      {
                        "learn": [
                          0.2576070086
                        ],
                        "iteration": 127,
                        "passed_time": 0.7909073002,
                        "remaining_time": 0.4448853564,
                        "test": [
                          0.9229712211,
                          0.2823436461
                        ]
                      },
                      {
                        "learn": [
                          0.2573075541
                        ],
                        "iteration": 128,
                        "passed_time": 0.7964949126,
                        "remaining_time": 0.4383809209,
                        "test": [
                          0.9229547992,
                          0.2824105864
                        ]
                      },
                      {
                        "learn": [
                          0.2571797425
                        ],
                        "iteration": 129,
                        "passed_time": 0.8014515511,
                        "remaining_time": 0.4315508352,
                        "test": [
                          0.922983779,
                          0.2823548731
                        ]
                      },
                      {
                        "learn": [
                          0.2571358063
                        ],
                        "iteration": 130,
                        "passed_time": 0.812097906,
                        "remaining_time": 0.4277462253,
                        "test": [
                          0.9229992349,
                          0.2823270612
                        ]
                      },
                      {
                        "learn": [
                          0.2569134901
                        ],
                        "iteration": 131,
                        "passed_time": 0.8168652419,
                        "remaining_time": 0.420809367,
                        "test": [
                          0.9230523646,
                          0.282221372
                        ]
                      },
                      {
                        "learn": [
                          0.2568839112
                        ],
                        "iteration": 132,
                        "passed_time": 0.8248242752,
                        "remaining_time": 0.4155129807,
                        "test": [
                          0.9230398066,
                          0.2822527958
                        ]
                      },
                      {
                        "learn": [
                          0.2563358438
                        ],
                        "iteration": 133,
                        "passed_time": 0.8330169568,
                        "remaining_time": 0.4102919339,
                        "test": [
                          0.9230398066,
                          0.2822931928
                        ]
                      },
                      {
                        "learn": [
                          0.256055194
                        ],
                        "iteration": 134,
                        "passed_time": 0.8430141912,
                        "remaining_time": 0.4058957217,
                        "test": [
                          0.923129644,
                          0.2821514916
                        ]
                      },
                      {
                        "learn": [
                          0.2559084188
                        ],
                        "iteration": 135,
                        "passed_time": 0.8482290656,
                        "remaining_time": 0.3991666191,
                        "test": [
                          0.9231035622,
                          0.2821956439
                        ]
                      },
                      {
                        "learn": [
                          0.2556043976
                        ],
                        "iteration": 136,
                        "passed_time": 0.8559928197,
                        "remaining_time": 0.3936317346,
                        "test": [
                          0.922990541,
                          0.2823164533
                        ]
                      },
                      {
                        "learn": [
                          0.2554894911
                        ],
                        "iteration": 137,
                        "passed_time": 0.8641572565,
                        "remaining_time": 0.3882445645,
                        "test": [
                          0.9230456026,
                          0.2822189518
                        ]
                      },
                      {
                        "learn": [
                          0.2550123008
                        ],
                        "iteration": 138,
                        "passed_time": 0.8735411047,
                        "remaining_time": 0.3833525711,
                        "test": [
                          0.9235363271,
                          0.2813165098
                        ]
                      },
                      {
                        "learn": [
                          0.2539826376
                        ],
                        "iteration": 139,
                        "passed_time": 0.8786632544,
                        "remaining_time": 0.3765699662,
                        "test": [
                          0.9243062237,
                          0.2798310105
                        ]
                      },
                      {
                        "learn": [
                          0.2535467531
                        ],
                        "iteration": 140,
                        "passed_time": 0.8866951941,
                        "remaining_time": 0.3710284855,
                        "test": [
                          0.9242144543,
                          0.2799109943
                        ]
                      },
                      {
                        "learn": [
                          0.2530187689
                        ],
                        "iteration": 141,
                        "passed_time": 0.8951684175,
                        "remaining_time": 0.3656321705,
                        "test": [
                          0.9243149176,
                          0.2797292951
                        ]
                      },
                      {
                        "learn": [
                          0.2528424683
                        ],
                        "iteration": 142,
                        "passed_time": 0.9034067794,
                        "remaining_time": 0.3600992058,
                        "test": [
                          0.9243294075,
                          0.2796938643
                        ]
                      },
                      {
                        "learn": [
                          0.2524196485
                        ],
                        "iteration": 143,
                        "passed_time": 0.9126215849,
                        "remaining_time": 0.3549083941,
                        "test": [
                          0.9243748092,
                          0.2795745817
                        ]
                      },
                      {
                        "learn": [
                          0.252067921
                        ],
                        "iteration": 144,
                        "passed_time": 0.9187301001,
                        "remaining_time": 0.3484838311,
                        "test": [
                          0.9243583873,
                          0.2794848118
                        ]
                      },
                      {
                        "learn": [
                          0.2519960541
                        ],
                        "iteration": 145,
                        "passed_time": 1.149754554,
                        "remaining_time": 0.4252516845,
                        "test": [
                          0.9243390675,
                          0.2795233272
                        ]
                      },
                      {
                        "learn": [
                          0.25150041
                        ],
                        "iteration": 146,
                        "passed_time": 1.154447861,
                        "remaining_time": 0.4162295009,
                        "test": [
                          0.9244269728,
                          0.2792922609
                        ]
                      },
                      {
                        "learn": [
                          0.2514736944
                        ],
                        "iteration": 147,
                        "passed_time": 1.16967799,
                        "remaining_time": 0.4109679423,
                        "test": [
                          0.9244211769,
                          0.2793068472
                        ]
                      },
                      {
                        "learn": [
                          0.2512800742
                        ],
                        "iteration": 148,
                        "passed_time": 1.180082462,
                        "remaining_time": 0.4039208427,
                        "test": [
                          0.924405721,
                          0.2792983389
                        ]
                      },
                      {
                        "learn": [
                          0.2510386195
                        ],
                        "iteration": 149,
                        "passed_time": 1.193145324,
                        "remaining_time": 0.3977151079,
                        "test": [
                          0.9244385648,
                          0.2790636167
                        ]
                      },
                      {
                        "learn": [
                          0.2508404609
                        ],
                        "iteration": 150,
                        "passed_time": 1.199430196,
                        "remaining_time": 0.3892190701,
                        "test": [
                          0.9244791365,
                          0.2790309103
                        ]
                      },
                      {
                        "learn": [
                          0.2507501378
                        ],
                        "iteration": 151,
                        "passed_time": 1.207502579,
                        "remaining_time": 0.381316604,
                        "test": [
                          0.9244733405,
                          0.2790275821
                        ]
                      },
                      {
                        "learn": [
                          0.2504555042
                        ],
                        "iteration": 152,
                        "passed_time": 1.216831525,
                        "remaining_time": 0.3737979193,
                        "test": [
                          0.9244984563,
                          0.2789845963
                        ]
                      },
                      {
                        "learn": [
                          0.2500487776
                        ],
                        "iteration": 153,
                        "passed_time": 1.220985238,
                        "remaining_time": 0.3647098763,
                        "test": [
                          0.9245139122,
                          0.2789806062
                        ]
                      },
                      {
                        "learn": [
                          0.2499625034
                        ],
                        "iteration": 154,
                        "passed_time": 1.224363057,
                        "remaining_time": 0.3554602423,
                        "test": [
                          0.9244801025,
                          0.279016276
                        ]
                      },
                      {
                        "learn": [
                          0.2499379542
                        ],
                        "iteration": 155,
                        "passed_time": 1.227669052,
                        "remaining_time": 0.3462656299,
                        "test": [
                          0.9244868644,
                          0.2790105642
                        ]
                      },
                      {
                        "learn": [
                          0.2496179445
                        ],
                        "iteration": 156,
                        "passed_time": 1.231490106,
                        "remaining_time": 0.337287099,
                        "test": [
                          0.9243535574,
                          0.2791963472
                        ]
                      },
                      {
                        "learn": [
                          0.2492729683
                        ],
                        "iteration": 157,
                        "passed_time": 1.235227878,
                        "remaining_time": 0.3283517143,
                        "test": [
                          0.9245071503,
                          0.279008684
                        ]
                      },
                      {
                        "learn": [
                          0.2490019368
                        ],
                        "iteration": 158,
                        "passed_time": 1.238696476,
                        "remaining_time": 0.3194122988,
                        "test": [
                          0.924544824,
                          0.278979221
                        ]
                      },
                      {
                        "learn": [
                          0.2487873162
                        ],
                        "iteration": 159,
                        "passed_time": 1.242073601,
                        "remaining_time": 0.3105184003,
                        "test": [
                          0.9245699398,
                          0.2789366804
                        ]
                      },
                      {
                        "learn": [
                          0.2486570872
                        ],
                        "iteration": 160,
                        "passed_time": 1.245306699,
                        "remaining_time": 0.3016581445,
                        "test": [
                          0.9245718718,
                          0.2789184639
                        ]
                      },
                      {
                        "learn": [
                          0.2483473181
                        ],
                        "iteration": 161,
                        "passed_time": 1.249264599,
                        "remaining_time": 0.293037375,
                        "test": [
                          0.9246056816,
                          0.2787228025
                        ]
                      },
                      {
                        "learn": [
                          0.2483265282
                        ],
                        "iteration": 162,
                        "passed_time": 1.252943834,
                        "remaining_time": 0.2844105636,
                        "test": [
                          0.9245969876,
                          0.2787497646
                        ]
                      },
                      {
                        "learn": [
                          0.2482118018
                        ],
                        "iteration": 163,
                        "passed_time": 1.256656925,
                        "remaining_time": 0.2758515201,
                        "test": [
                          0.9245979536,
                          0.2787088493
                        ]
                      },
                      {
                        "learn": [
                          0.2478314095
                        ],
                        "iteration": 164,
                        "passed_time": 1.26011413,
                        "remaining_time": 0.2672969367,
                        "test": [
                          0.9245390281,
                          0.2788270112
                        ]
                      },
                      {
                        "learn": [
                          0.2473324544
                        ],
                        "iteration": 165,
                        "passed_time": 1.263688574,
                        "remaining_time": 0.2588277801,
                        "test": [
                          0.9246510833,
                          0.278453483
                        ]
                      },
                      {
                        "learn": [
                          0.2462531752
                        ],
                        "iteration": 166,
                        "passed_time": 1.267318612,
                        "remaining_time": 0.2504282287,
                        "test": [
                          0.9253823401,
                          0.2769792432
                        ]
                      },
                      {
                        "learn": [
                          0.2459817287
                        ],
                        "iteration": 167,
                        "passed_time": 1.270785322,
                        "remaining_time": 0.242054347,
                        "test": [
                          0.9254209798,
                          0.2769534733
                        ]
                      },
                      {
                        "learn": [
                          0.2458719771
                        ],
                        "iteration": 168,
                        "passed_time": 1.274480376,
                        "remaining_time": 0.233780424,
                        "test": [
                          0.925393932,
                          0.2769911854
                        ]
                      },
                      {
                        "learn": [
                          0.2452330262
                        ],
                        "iteration": 169,
                        "passed_time": 1.278602472,
                        "remaining_time": 0.2256357304,
                        "test": [
                          0.9258952825,
                          0.27599389
                        ]
                      },
                      {
                        "learn": [
                          0.244910037
                        ],
                        "iteration": 170,
                        "passed_time": 1.283624437,
                        "remaining_time": 0.217690694,
                        "test": [
                          0.9257764653,
                          0.276069226
                        ]
                      },
                      {
                        "learn": [
                          0.2448450402
                        ],
                        "iteration": 171,
                        "passed_time": 1.289521258,
                        "remaining_time": 0.2099220652,
                        "test": [
                          0.9257416896,
                          0.2761155788
                        ]
                      },
                      {
                        "learn": [
                          0.2446274608
                        ],
                        "iteration": 172,
                        "passed_time": 1.297780745,
                        "remaining_time": 0.2025438157,
                        "test": [
                          0.925818969,
                          0.2760047054
                        ]
                      },
                      {
                        "learn": [
                          0.2445826143
                        ],
                        "iteration": 173,
                        "passed_time": 1.305928864,
                        "remaining_time": 0.1951387958,
                        "test": [
                          0.9258585747,
                          0.2759295253
                        ]
                      },
                      {
                        "learn": [
                          0.2445486523
                        ],
                        "iteration": 174,
                        "passed_time": 1.315280097,
                        "remaining_time": 0.1878971567,
                        "test": [
                          0.9258711326,
                          0.2759022229
                        ]
                      },
                      {
                        "learn": [
                          0.2442511685
                        ],
                        "iteration": 175,
                        "passed_time": 1.320586611,
                        "remaining_time": 0.1800799925,
                        "test": [
                          0.9258846566,
                          0.2758542996
                        ]
                      },
                      {
                        "learn": [
                          0.2440902213
                        ],
                        "iteration": 176,
                        "passed_time": 1.328846253,
                        "remaining_time": 0.1726749368,
                        "test": [
                          0.9258460168,
                          0.2759001407
                        ]
                      },
                      {
                        "learn": [
                          0.2438446772
                        ],
                        "iteration": 177,
                        "passed_time": 1.337423224,
                        "remaining_time": 0.1652994996,
                        "test": [
                          0.9257899892,
                          0.2759223524
                        ]
                      },
                      {
                        "learn": [
                          0.2437463278
                        ],
                        "iteration": 178,
                        "passed_time": 1.345809259,
                        "remaining_time": 0.157888237,
                        "test": [
                          0.9258672687,
                          0.2758346538
                        ]
                      },
                      {
                        "learn": [
                          0.2433615431
                        ],
                        "iteration": 179,
                        "passed_time": 1.353836275,
                        "remaining_time": 0.1504262528,
                        "test": [
                          0.926101039,
                          0.2753900191
                        ]
                      },
                      {
                        "learn": [
                          0.2430555545
                        ],
                        "iteration": 180,
                        "passed_time": 1.360848468,
                        "remaining_time": 0.1428514966,
                        "test": [
                          0.9260701272,
                          0.2754352886
                        ]
                      },
                      {
                        "learn": [
                          0.242735324
                        ],
                        "iteration": 181,
                        "passed_time": 1.36797333,
                        "remaining_time": 0.1352940656,
                        "test": [
                          0.926102971,
                          0.2752660563
                        ]
                      },
                      {
                        "learn": [
                          0.2425839637
                        ],
                        "iteration": 182,
                        "passed_time": 1.376451566,
                        "remaining_time": 0.1278670854,
                        "test": [
                          0.9260672293,
                          0.2752469045
                        ]
                      },
                      {
                        "learn": [
                          0.2420527805
                        ],
                        "iteration": 183,
                        "passed_time": 1.384599362,
                        "remaining_time": 0.1203999445,
                        "test": [
                          0.9262150262,
                          0.2751165648
                        ]
                      },
                      {
                        "learn": [
                          0.2417803439
                        ],
                        "iteration": 184,
                        "passed_time": 1.393825246,
                        "remaining_time": 0.1130128578,
                        "test": [
                          0.9263029316,
                          0.2749697534
                        ]
                      },
                      {
                        "learn": [
                          0.2415567006
                        ],
                        "iteration": 185,
                        "passed_time": 1.399726137,
                        "remaining_time": 0.1053557307,
                        "test": [
                          0.9261647946,
                          0.2751845966
                        ]
                      },
                      {
                        "learn": [
                          0.2414273395
                        ],
                        "iteration": 186,
                        "passed_time": 1.408378115,
                        "remaining_time": 0.097908639,
                        "test": [
                          0.9261425767,
                          0.2751915016
                        ]
                      },
                      {
                        "learn": [
                          0.2413595549
                        ],
                        "iteration": 187,
                        "passed_time": 1.417119467,
                        "remaining_time": 0.09045443407,
                        "test": [
                          0.9261155289,
                          0.2752069128
                        ]
                      },
                      {
                        "learn": [
                          0.2413412202
                        ],
                        "iteration": 188,
                        "passed_time": 1.425660427,
                        "remaining_time": 0.08297494546,
                        "test": [
                          0.9261174609,
                          0.2752277006
                        ]
                      },
                      {
                        "learn": [
                          0.2412681244
                        ],
                        "iteration": 189,
                        "passed_time": 1.436246793,
                        "remaining_time": 0.07559193648,
                        "test": [
                          0.9261338828,
                          0.2751912336
                        ]
                      },
                      {
                        "learn": [
                          0.2412018996
                        ],
                        "iteration": 190,
                        "passed_time": 1.441090669,
                        "remaining_time": 0.06790479593,
                        "test": [
                          0.9261647946,
                          0.2751364968
                        ]
                      },
                      {
                        "learn": [
                          0.2411282482
                        ],
                        "iteration": 191,
                        "passed_time": 1.449211844,
                        "remaining_time": 0.06038382685,
                        "test": [
                          0.9261725225,
                          0.275087126
                        ]
                      },
                      {
                        "learn": [
                          0.2410153721
                        ],
                        "iteration": 192,
                        "passed_time": 1.457343425,
                        "remaining_time": 0.05285701541,
                        "test": [
                          0.9261435427,
                          0.2750939608
                        ]
                      },
                      {
                        "learn": [
                          0.24089207
                        ],
                        "iteration": 193,
                        "passed_time": 1.464175011,
                        "remaining_time": 0.04528376324,
                        "test": [
                          0.9261503047,
                          0.2750291482
                        ]
                      },
                      {
                        "learn": [
                          0.2406048214
                        ],
                        "iteration": 194,
                        "passed_time": 1.471342129,
                        "remaining_time": 0.03772672125,
                        "test": [
                          0.9261899104,
                          0.2749946422
                        ]
                      },
                      {
                        "learn": [
                          0.240590196
                        ],
                        "iteration": 195,
                        "passed_time": 1.479421467,
                        "remaining_time": 0.03019227483,
                        "test": [
                          0.9261957064,
                          0.2749901018
                        ]
                      },
                      {
                        "learn": [
                          0.2404309239
                        ],
                        "iteration": 196,
                        "passed_time": 1.488605346,
                        "remaining_time": 0.02266911694,
                        "test": [
                          0.9261203589,
                          0.2750806251
                        ]
                      },
                      {
                        "learn": [
                          0.2402487885
                        ],
                        "iteration": 197,
                        "passed_time": 1.493888678,
                        "remaining_time": 0.01508978463,
                        "test": [
                          0.9261908764,
                          0.2748914641
                        ]
                      },
                      {
                        "learn": [
                          0.2399235653
                        ],
                        "iteration": 198,
                        "passed_time": 1.502180331,
                        "remaining_time": 0.00754864488,
                        "test": [
                          0.9261358148,
                          0.274977513
                        ]
                      },
                      {
                        "learn": [
                          0.2399082955
                        ],
                        "iteration": 199,
                        "passed_time": 1.511689589,
                        "remaining_time": 0,
                        "test": [
                          0.9261309848,
                          0.2749984876
                        ]
                      }
                    ],
                    "meta": {
                      "test_sets": [
                        "test"
                      ],
                      "test_metrics": [
                        {
                          "best_value": "Max",
                          "name": "AUC"
                        },
                        {
                          "best_value": "Min",
                          "name": "Logloss"
                        }
                      ],
                      "learn_metrics": [
                        {
                          "best_value": "Min",
                          "name": "Logloss"
                        }
                      ],
                      "launch_mode": "Train",
                      "parameters": "",
                      "iteration_count": 200,
                      "learn_sets": [
                        "learn"
                      ],
                      "name": "experiment"
                    }
                  }
                }
              }
            },
            "layout": "IPY_MODEL_48d79ccb89204a02be225d0a74fcf506"
          }
        }
      }
    }
  },
  "nbformat": 4,
  "nbformat_minor": 0
}