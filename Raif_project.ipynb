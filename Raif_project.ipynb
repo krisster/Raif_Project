{
  "cells": [
    {
      "cell_type": "markdown",
      "metadata": {
        "id": "view-in-github",
        "colab_type": "text"
      },
      "source": [
        "<a href=\"https://colab.research.google.com/github/krisster/Raif_Project/blob/main/Raif_project.ipynb\" target=\"_parent\"><img src=\"https://colab.research.google.com/assets/colab-badge.svg\" alt=\"Open In Colab\"/></a>"
      ]
    },
    {
      "cell_type": "markdown",
      "source": [
        "# Solving the problem of income predictions\n",
        "*According to characteristics decide if an agent has an income higher or lower than 50 thousands*\n",
        "* Downloading dataset \n",
        "* Analysis of missing values and wrong data"
      ],
      "metadata": {
        "id": "z79gbIw0bWJZ"
      }
    },
    {
      "cell_type": "code",
      "execution_count": 323,
      "metadata": {
        "id": "wD3LYTXnhtwZ"
      },
      "outputs": [],
      "source": [
        "import pandas as pd\n",
        "import numpy as np\n",
        "from matplotlib import pyplot as plt\n",
        "\n",
        "from sklearn.linear_model import LogisticRegression\n",
        "from sklearn.ensemble import RandomForestClassifier\n",
        "from sklearn.cluster import KMeans\n",
        "\n",
        "from sklearn.preprocessing import MinMaxScaler\n",
        "\n",
        "from google.colab import drive\n",
        "\n",
        "\n",
        "import warnings\n",
        "warnings.filterwarnings(\"ignore\")"
      ]
    },
    {
      "cell_type": "markdown",
      "source": [
        "## Download data\n",
        "\n"
      ],
      "metadata": {
        "id": "cgXJLC1Yjpnm"
      }
    },
    {
      "cell_type": "code",
      "execution_count": null,
      "metadata": {
        "id": "HWwIJ2AQhtwb"
      },
      "outputs": [],
      "source": [
        "!mkdir -p ~/.postgresql && \\\n",
        "wget \"https://storage.yandexcloud.net/cloud-certs/CA.pem\" \\\n",
        "    --output-document ~/.postgresql/root.crt && \\\n",
        "chmod 0600 ~/.postgresql/root.crt"
      ]
    },
    {
      "cell_type": "code",
      "source": [
        "!sudo apt update && sudo apt install --yes python3 python3-pip && \\\n",
        "!pip3 install psycopg2-binary"
      ],
      "metadata": {
        "id": "OAFi6whWi-so"
      },
      "execution_count": null,
      "outputs": []
    },
    {
      "cell_type": "code",
      "source": [
        "import psycopg2\n",
        "\n",
        "conn = psycopg2.connect(\"\"\"\n",
        "    host=rc1b-70q90cunwkzx49mj.mdb.yandexcloud.net\n",
        "    port=6432\n",
        "    sslmode=verify-full\n",
        "    dbname=db_clients\n",
        "    user=mlhs_student\n",
        "    password=mlhs_student\n",
        "    target_session_attrs=read-write\n",
        "\"\"\")"
      ],
      "metadata": {
        "id": "7efd5Dz0jBYo"
      },
      "execution_count": null,
      "outputs": []
    },
    {
      "cell_type": "code",
      "source": [
        "query = \"SELECT * from public.adult_income\"\n",
        "df = pd.read_sql_query(query, conn)\n",
        "conn.close()"
      ],
      "metadata": {
        "id": "Z4QXHJtvjG5G"
      },
      "execution_count": null,
      "outputs": []
    },
    {
      "cell_type": "code",
      "source": [
        "df.head()"
      ],
      "metadata": {
        "colab": {
          "base_uri": "https://localhost:8080/",
          "height": 443
        },
        "id": "-qMNRHrm6VBG",
        "outputId": "a3dff0c2-3512-4fc1-c968-64c922a3b6ed"
      },
      "execution_count": null,
      "outputs": [
        {
          "output_type": "execute_result",
          "data": {
            "text/plain": [
              "    age  workclass  fnlwgt     education  educational-num      marital-status  \\\n",
              "0  25.0    Private  226802          11th                7       Never-married   \n",
              "1  38.0    Private   89814       HS-grad                9  Married-civ-spouse   \n",
              "2  28.0  Local-gov  336951    Assoc-acdm               12  Married-civ-spouse   \n",
              "3  44.0    Private  160323  Some-college               10  Married-civ-spouse   \n",
              "4  18.0          ?  103497  Some-college               10       Never-married   \n",
              "\n",
              "          occupation relationship   race  gender  capital-gain  capital-loss  \\\n",
              "0  Machine-op-inspct    Own-child  Black    Male           0.0           0.0   \n",
              "1    Farming-fishing      Husband  White    Male           0.0           0.0   \n",
              "2    Protective-serv      Husband  White    Male           0.0           0.0   \n",
              "3  Machine-op-inspct      Husband  Black    Male        7688.0           0.0   \n",
              "4                  ?    Own-child  White  Female           0.0           0.0   \n",
              "\n",
              "   hours-per-week native-country income  \n",
              "0            40.0  United-States  <=50K  \n",
              "1            50.0  United-States  <=50K  \n",
              "2            40.0  United-States   >50K  \n",
              "3            40.0  United-States   >50K  \n",
              "4            30.0  United-States  <=50K  "
            ],
            "text/html": [
              "\n",
              "  <div id=\"df-0e29ff91-0925-4de9-9f81-76c98ec8aecb\">\n",
              "    <div class=\"colab-df-container\">\n",
              "      <div>\n",
              "<style scoped>\n",
              "    .dataframe tbody tr th:only-of-type {\n",
              "        vertical-align: middle;\n",
              "    }\n",
              "\n",
              "    .dataframe tbody tr th {\n",
              "        vertical-align: top;\n",
              "    }\n",
              "\n",
              "    .dataframe thead th {\n",
              "        text-align: right;\n",
              "    }\n",
              "</style>\n",
              "<table border=\"1\" class=\"dataframe\">\n",
              "  <thead>\n",
              "    <tr style=\"text-align: right;\">\n",
              "      <th></th>\n",
              "      <th>age</th>\n",
              "      <th>workclass</th>\n",
              "      <th>fnlwgt</th>\n",
              "      <th>education</th>\n",
              "      <th>educational-num</th>\n",
              "      <th>marital-status</th>\n",
              "      <th>occupation</th>\n",
              "      <th>relationship</th>\n",
              "      <th>race</th>\n",
              "      <th>gender</th>\n",
              "      <th>capital-gain</th>\n",
              "      <th>capital-loss</th>\n",
              "      <th>hours-per-week</th>\n",
              "      <th>native-country</th>\n",
              "      <th>income</th>\n",
              "    </tr>\n",
              "  </thead>\n",
              "  <tbody>\n",
              "    <tr>\n",
              "      <th>0</th>\n",
              "      <td>25.0</td>\n",
              "      <td>Private</td>\n",
              "      <td>226802</td>\n",
              "      <td>11th</td>\n",
              "      <td>7</td>\n",
              "      <td>Never-married</td>\n",
              "      <td>Machine-op-inspct</td>\n",
              "      <td>Own-child</td>\n",
              "      <td>Black</td>\n",
              "      <td>Male</td>\n",
              "      <td>0.0</td>\n",
              "      <td>0.0</td>\n",
              "      <td>40.0</td>\n",
              "      <td>United-States</td>\n",
              "      <td>&lt;=50K</td>\n",
              "    </tr>\n",
              "    <tr>\n",
              "      <th>1</th>\n",
              "      <td>38.0</td>\n",
              "      <td>Private</td>\n",
              "      <td>89814</td>\n",
              "      <td>HS-grad</td>\n",
              "      <td>9</td>\n",
              "      <td>Married-civ-spouse</td>\n",
              "      <td>Farming-fishing</td>\n",
              "      <td>Husband</td>\n",
              "      <td>White</td>\n",
              "      <td>Male</td>\n",
              "      <td>0.0</td>\n",
              "      <td>0.0</td>\n",
              "      <td>50.0</td>\n",
              "      <td>United-States</td>\n",
              "      <td>&lt;=50K</td>\n",
              "    </tr>\n",
              "    <tr>\n",
              "      <th>2</th>\n",
              "      <td>28.0</td>\n",
              "      <td>Local-gov</td>\n",
              "      <td>336951</td>\n",
              "      <td>Assoc-acdm</td>\n",
              "      <td>12</td>\n",
              "      <td>Married-civ-spouse</td>\n",
              "      <td>Protective-serv</td>\n",
              "      <td>Husband</td>\n",
              "      <td>White</td>\n",
              "      <td>Male</td>\n",
              "      <td>0.0</td>\n",
              "      <td>0.0</td>\n",
              "      <td>40.0</td>\n",
              "      <td>United-States</td>\n",
              "      <td>&gt;50K</td>\n",
              "    </tr>\n",
              "    <tr>\n",
              "      <th>3</th>\n",
              "      <td>44.0</td>\n",
              "      <td>Private</td>\n",
              "      <td>160323</td>\n",
              "      <td>Some-college</td>\n",
              "      <td>10</td>\n",
              "      <td>Married-civ-spouse</td>\n",
              "      <td>Machine-op-inspct</td>\n",
              "      <td>Husband</td>\n",
              "      <td>Black</td>\n",
              "      <td>Male</td>\n",
              "      <td>7688.0</td>\n",
              "      <td>0.0</td>\n",
              "      <td>40.0</td>\n",
              "      <td>United-States</td>\n",
              "      <td>&gt;50K</td>\n",
              "    </tr>\n",
              "    <tr>\n",
              "      <th>4</th>\n",
              "      <td>18.0</td>\n",
              "      <td>?</td>\n",
              "      <td>103497</td>\n",
              "      <td>Some-college</td>\n",
              "      <td>10</td>\n",
              "      <td>Never-married</td>\n",
              "      <td>?</td>\n",
              "      <td>Own-child</td>\n",
              "      <td>White</td>\n",
              "      <td>Female</td>\n",
              "      <td>0.0</td>\n",
              "      <td>0.0</td>\n",
              "      <td>30.0</td>\n",
              "      <td>United-States</td>\n",
              "      <td>&lt;=50K</td>\n",
              "    </tr>\n",
              "  </tbody>\n",
              "</table>\n",
              "</div>\n",
              "      <button class=\"colab-df-convert\" onclick=\"convertToInteractive('df-0e29ff91-0925-4de9-9f81-76c98ec8aecb')\"\n",
              "              title=\"Convert this dataframe to an interactive table.\"\n",
              "              style=\"display:none;\">\n",
              "        \n",
              "  <svg xmlns=\"http://www.w3.org/2000/svg\" height=\"24px\"viewBox=\"0 0 24 24\"\n",
              "       width=\"24px\">\n",
              "    <path d=\"M0 0h24v24H0V0z\" fill=\"none\"/>\n",
              "    <path d=\"M18.56 5.44l.94 2.06.94-2.06 2.06-.94-2.06-.94-.94-2.06-.94 2.06-2.06.94zm-11 1L8.5 8.5l.94-2.06 2.06-.94-2.06-.94L8.5 2.5l-.94 2.06-2.06.94zm10 10l.94 2.06.94-2.06 2.06-.94-2.06-.94-.94-2.06-.94 2.06-2.06.94z\"/><path d=\"M17.41 7.96l-1.37-1.37c-.4-.4-.92-.59-1.43-.59-.52 0-1.04.2-1.43.59L10.3 9.45l-7.72 7.72c-.78.78-.78 2.05 0 2.83L4 21.41c.39.39.9.59 1.41.59.51 0 1.02-.2 1.41-.59l7.78-7.78 2.81-2.81c.8-.78.8-2.07 0-2.86zM5.41 20L4 18.59l7.72-7.72 1.47 1.35L5.41 20z\"/>\n",
              "  </svg>\n",
              "      </button>\n",
              "      \n",
              "  <style>\n",
              "    .colab-df-container {\n",
              "      display:flex;\n",
              "      flex-wrap:wrap;\n",
              "      gap: 12px;\n",
              "    }\n",
              "\n",
              "    .colab-df-convert {\n",
              "      background-color: #E8F0FE;\n",
              "      border: none;\n",
              "      border-radius: 50%;\n",
              "      cursor: pointer;\n",
              "      display: none;\n",
              "      fill: #1967D2;\n",
              "      height: 32px;\n",
              "      padding: 0 0 0 0;\n",
              "      width: 32px;\n",
              "    }\n",
              "\n",
              "    .colab-df-convert:hover {\n",
              "      background-color: #E2EBFA;\n",
              "      box-shadow: 0px 1px 2px rgba(60, 64, 67, 0.3), 0px 1px 3px 1px rgba(60, 64, 67, 0.15);\n",
              "      fill: #174EA6;\n",
              "    }\n",
              "\n",
              "    [theme=dark] .colab-df-convert {\n",
              "      background-color: #3B4455;\n",
              "      fill: #D2E3FC;\n",
              "    }\n",
              "\n",
              "    [theme=dark] .colab-df-convert:hover {\n",
              "      background-color: #434B5C;\n",
              "      box-shadow: 0px 1px 3px 1px rgba(0, 0, 0, 0.15);\n",
              "      filter: drop-shadow(0px 1px 2px rgba(0, 0, 0, 0.3));\n",
              "      fill: #FFFFFF;\n",
              "    }\n",
              "  </style>\n",
              "\n",
              "      <script>\n",
              "        const buttonEl =\n",
              "          document.querySelector('#df-0e29ff91-0925-4de9-9f81-76c98ec8aecb button.colab-df-convert');\n",
              "        buttonEl.style.display =\n",
              "          google.colab.kernel.accessAllowed ? 'block' : 'none';\n",
              "\n",
              "        async function convertToInteractive(key) {\n",
              "          const element = document.querySelector('#df-0e29ff91-0925-4de9-9f81-76c98ec8aecb');\n",
              "          const dataTable =\n",
              "            await google.colab.kernel.invokeFunction('convertToInteractive',\n",
              "                                                     [key], {});\n",
              "          if (!dataTable) return;\n",
              "\n",
              "          const docLinkHtml = 'Like what you see? Visit the ' +\n",
              "            '<a target=\"_blank\" href=https://colab.research.google.com/notebooks/data_table.ipynb>data table notebook</a>'\n",
              "            + ' to learn more about interactive tables.';\n",
              "          element.innerHTML = '';\n",
              "          dataTable['output_type'] = 'display_data';\n",
              "          await google.colab.output.renderOutput(dataTable, element);\n",
              "          const docLink = document.createElement('div');\n",
              "          docLink.innerHTML = docLinkHtml;\n",
              "          element.appendChild(docLink);\n",
              "        }\n",
              "      </script>\n",
              "    </div>\n",
              "  </div>\n",
              "  "
            ]
          },
          "metadata": {},
          "execution_count": 12
        }
      ]
    },
    {
      "cell_type": "code",
      "source": [
        "df.shape "
      ],
      "metadata": {
        "id": "aX7cYQzN0k_Z",
        "colab": {
          "base_uri": "https://localhost:8080/"
        },
        "outputId": "abcba17b-090e-4131-836a-cf5b626e8c5f"
      },
      "execution_count": null,
      "outputs": [
        {
          "output_type": "execute_result",
          "data": {
            "text/plain": [
              "(9615, 15)"
            ]
          },
          "metadata": {},
          "execution_count": 13
        }
      ]
    },
    {
      "cell_type": "code",
      "source": [
        "df.info()"
      ],
      "metadata": {
        "id": "1FjpaGIa0mjt",
        "colab": {
          "base_uri": "https://localhost:8080/"
        },
        "outputId": "40698bd3-d362-4611-cb2e-fbe67383bb24"
      },
      "execution_count": null,
      "outputs": [
        {
          "output_type": "stream",
          "name": "stdout",
          "text": [
            "<class 'pandas.core.frame.DataFrame'>\n",
            "RangeIndex: 9615 entries, 0 to 9614\n",
            "Data columns (total 15 columns):\n",
            " #   Column           Non-Null Count  Dtype  \n",
            "---  ------           --------------  -----  \n",
            " 0   age              8961 non-null   float64\n",
            " 1   workclass        9615 non-null   object \n",
            " 2   fnlwgt           9615 non-null   int64  \n",
            " 3   education        9615 non-null   object \n",
            " 4   educational-num  9615 non-null   int64  \n",
            " 5   marital-status   9615 non-null   object \n",
            " 6   occupation       9615 non-null   object \n",
            " 7   relationship     9615 non-null   object \n",
            " 8   race             9614 non-null   object \n",
            " 9   gender           9614 non-null   object \n",
            " 10  capital-gain     9614 non-null   float64\n",
            " 11  capital-loss     9614 non-null   float64\n",
            " 12  hours-per-week   8543 non-null   float64\n",
            " 13  native-country   9614 non-null   object \n",
            " 14  income           9614 non-null   object \n",
            "dtypes: float64(4), int64(2), object(9)\n",
            "memory usage: 1.1+ MB\n"
          ]
        }
      ]
    },
    {
      "cell_type": "markdown",
      "source": [
        "### Data collection"
      ],
      "metadata": {
        "id": "0ALQi-Vf2rYb"
      }
    },
    {
      "cell_type": "code",
      "source": [
        "df.to_csv(\"income_clients.csv\", index=False)"
      ],
      "metadata": {
        "id": "nAFYRh072trA"
      },
      "execution_count": null,
      "outputs": []
    },
    {
      "cell_type": "markdown",
      "source": [
        "## Data analysis"
      ],
      "metadata": {
        "id": "9u5kjESXjg-s"
      }
    },
    {
      "cell_type": "code",
      "source": [
        "drive.mount('/content/drive')"
      ],
      "metadata": {
        "colab": {
          "base_uri": "https://localhost:8080/"
        },
        "id": "fetzM1xt8h4c",
        "outputId": "c1b2a07a-c46f-443b-b853-01e6712a6afe"
      },
      "execution_count": 1,
      "outputs": [
        {
          "output_type": "stream",
          "name": "stdout",
          "text": [
            "Mounted at /content/drive\n"
          ]
        }
      ]
    },
    {
      "cell_type": "code",
      "source": [
        "df = pd.read_csv(\"/content/drive/MyDrive/Colab Notebooks/income_clients.csv\")"
      ],
      "metadata": {
        "id": "St_3B7fjIyX8"
      },
      "execution_count": 282,
      "outputs": []
    },
    {
      "cell_type": "markdown",
      "source": [
        "### Quality of data"
      ],
      "metadata": {
        "id": "ORzwrTOrltqs"
      }
    },
    {
      "cell_type": "code",
      "source": [
        "df.isna().sum()"
      ],
      "metadata": {
        "id": "rM92inoDURTx",
        "colab": {
          "base_uri": "https://localhost:8080/"
        },
        "outputId": "53798888-76bd-4db1-ffe2-354249c3bedc"
      },
      "execution_count": 140,
      "outputs": [
        {
          "output_type": "execute_result",
          "data": {
            "text/plain": [
              "age                 654\n",
              "workclass             0\n",
              "fnlwgt                0\n",
              "education             0\n",
              "educational-num       0\n",
              "marital-status        0\n",
              "occupation            0\n",
              "relationship          0\n",
              "race                  1\n",
              "gender                1\n",
              "capital-gain          1\n",
              "capital-loss          1\n",
              "hours-per-week     1072\n",
              "native-country        1\n",
              "income                1\n",
              "dtype: int64"
            ]
          },
          "metadata": {},
          "execution_count": 140
        }
      ]
    },
    {
      "cell_type": "code",
      "source": [
        "# delete the row, where income is nan\n",
        "df = df.drop(df[df[\"income\"].isna()].index)"
      ],
      "metadata": {
        "id": "2fOOja8S4JsD"
      },
      "execution_count": 286,
      "outputs": []
    },
    {
      "cell_type": "code",
      "source": [
        "result = df_change[df_change.applymap(lambda x: '?' in str(x)).any(axis=1)] \n",
        "result"
      ],
      "metadata": {
        "colab": {
          "base_uri": "https://localhost:8080/",
          "height": 177
        },
        "id": "0PQ70VM_uBJj",
        "outputId": "7646e807-31f4-4fa5-823b-1392900bc519"
      },
      "execution_count": 400,
      "outputs": [
        {
          "output_type": "execute_result",
          "data": {
            "text/plain": [
              "Empty DataFrame\n",
              "Columns: [age, fnlwgt, educational-num, capital-gain, capital-loss, hours-per-week, education_10th, education_11th, education_12th, education_1st-4th, education_5th-6th, education_7th-8th, education_9th, education_Assoc-acdm, education_Assoc-voc, education_Bachelors, education_Doctorate, education_HS-grad, education_Masters, education_Preschool, education_Prof-school, education_Some-college, marital-status_Divorced, marital-status_Married-AF-spouse, marital-status_Married-civ-spouse, marital-status_Married-spouse-absent, marital-status_Never-married, marital-status_Separated, marital-status_Widowed, relationship_Husband, relationship_Not-in-family, relationship_Other-relative, relationship_Own-child, relationship_Unmarried, relationship_Wife, race_Amer-Indian-Eskimo, race_Asian-Pac-Islander, race_Black, race_Other, race_White, gender_Female, gender_Male, income_<=50K, income_>50K, native-country_Cambodia, native-country_Canada, native-country_China, native-country_Columbia, native-country_Cuba, native-country_Dominican-Republic, native-country_Ecuador, native-country_El-Salvador, native-country_England, native-country_France, native-country_Germany, native-country_Greece, native-country_Guatemala, native-country_Haiti, native-country_Honduras, native-country_Hong, native-country_Hungary, native-country_India, native-country_Iran, native-country_Ireland, native-country_Italy, native-country_Jamaica, native-country_Japan, native-country_Laos, native-country_Mexico, native-country_Nicaragua, native-country_Outlying-US(Guam-USVI-etc), native-country_Peru, native-country_Philippines, native-country_Poland, native-country_Portugal, native-country_Puerto-Rico, native-country_Scotland, native-country_South, native-country_Taiwan, native-country_Thailand, native-country_Trinadad&Tobago, native-country_United-States, native-country_Vietnam, native-country_Yugoslavia, workclass_Federal-gov, workclass_Local-gov, workclass_Private, workclass_Self-emp-inc, workclass_Self-emp-not-inc, workclass_State-gov, workclass_Without-pay, occupation_Adm-clerical, occupation_Armed-Forces, occupation_Craft-repair, occupation_Exec-managerial, occupation_Farming-fishing, occupation_Handlers-cleaners, occupation_Machine-op-inspct, occupation_Other-service, occupation_Priv-house-serv, ...]\n",
              "Index: []\n",
              "\n",
              "[0 rows x 106 columns]"
            ],
            "text/html": [
              "\n",
              "  <div id=\"df-333f8be0-cf94-4ae3-bcfd-ee2943fa63c7\">\n",
              "    <div class=\"colab-df-container\">\n",
              "      <div>\n",
              "<style scoped>\n",
              "    .dataframe tbody tr th:only-of-type {\n",
              "        vertical-align: middle;\n",
              "    }\n",
              "\n",
              "    .dataframe tbody tr th {\n",
              "        vertical-align: top;\n",
              "    }\n",
              "\n",
              "    .dataframe thead th {\n",
              "        text-align: right;\n",
              "    }\n",
              "</style>\n",
              "<table border=\"1\" class=\"dataframe\">\n",
              "  <thead>\n",
              "    <tr style=\"text-align: right;\">\n",
              "      <th></th>\n",
              "      <th>age</th>\n",
              "      <th>fnlwgt</th>\n",
              "      <th>educational-num</th>\n",
              "      <th>capital-gain</th>\n",
              "      <th>capital-loss</th>\n",
              "      <th>hours-per-week</th>\n",
              "      <th>education_10th</th>\n",
              "      <th>education_11th</th>\n",
              "      <th>education_12th</th>\n",
              "      <th>education_1st-4th</th>\n",
              "      <th>...</th>\n",
              "      <th>occupation_Handlers-cleaners</th>\n",
              "      <th>occupation_Machine-op-inspct</th>\n",
              "      <th>occupation_Other-service</th>\n",
              "      <th>occupation_Priv-house-serv</th>\n",
              "      <th>occupation_Prof-specialty</th>\n",
              "      <th>occupation_Protective-serv</th>\n",
              "      <th>occupation_Sales</th>\n",
              "      <th>occupation_Tech-support</th>\n",
              "      <th>occupation_Transport-moving</th>\n",
              "      <th>cluster</th>\n",
              "    </tr>\n",
              "  </thead>\n",
              "  <tbody>\n",
              "  </tbody>\n",
              "</table>\n",
              "<p>0 rows × 106 columns</p>\n",
              "</div>\n",
              "      <button class=\"colab-df-convert\" onclick=\"convertToInteractive('df-333f8be0-cf94-4ae3-bcfd-ee2943fa63c7')\"\n",
              "              title=\"Convert this dataframe to an interactive table.\"\n",
              "              style=\"display:none;\">\n",
              "        \n",
              "  <svg xmlns=\"http://www.w3.org/2000/svg\" height=\"24px\"viewBox=\"0 0 24 24\"\n",
              "       width=\"24px\">\n",
              "    <path d=\"M0 0h24v24H0V0z\" fill=\"none\"/>\n",
              "    <path d=\"M18.56 5.44l.94 2.06.94-2.06 2.06-.94-2.06-.94-.94-2.06-.94 2.06-2.06.94zm-11 1L8.5 8.5l.94-2.06 2.06-.94-2.06-.94L8.5 2.5l-.94 2.06-2.06.94zm10 10l.94 2.06.94-2.06 2.06-.94-2.06-.94-.94-2.06-.94 2.06-2.06.94z\"/><path d=\"M17.41 7.96l-1.37-1.37c-.4-.4-.92-.59-1.43-.59-.52 0-1.04.2-1.43.59L10.3 9.45l-7.72 7.72c-.78.78-.78 2.05 0 2.83L4 21.41c.39.39.9.59 1.41.59.51 0 1.02-.2 1.41-.59l7.78-7.78 2.81-2.81c.8-.78.8-2.07 0-2.86zM5.41 20L4 18.59l7.72-7.72 1.47 1.35L5.41 20z\"/>\n",
              "  </svg>\n",
              "      </button>\n",
              "      \n",
              "  <style>\n",
              "    .colab-df-container {\n",
              "      display:flex;\n",
              "      flex-wrap:wrap;\n",
              "      gap: 12px;\n",
              "    }\n",
              "\n",
              "    .colab-df-convert {\n",
              "      background-color: #E8F0FE;\n",
              "      border: none;\n",
              "      border-radius: 50%;\n",
              "      cursor: pointer;\n",
              "      display: none;\n",
              "      fill: #1967D2;\n",
              "      height: 32px;\n",
              "      padding: 0 0 0 0;\n",
              "      width: 32px;\n",
              "    }\n",
              "\n",
              "    .colab-df-convert:hover {\n",
              "      background-color: #E2EBFA;\n",
              "      box-shadow: 0px 1px 2px rgba(60, 64, 67, 0.3), 0px 1px 3px 1px rgba(60, 64, 67, 0.15);\n",
              "      fill: #174EA6;\n",
              "    }\n",
              "\n",
              "    [theme=dark] .colab-df-convert {\n",
              "      background-color: #3B4455;\n",
              "      fill: #D2E3FC;\n",
              "    }\n",
              "\n",
              "    [theme=dark] .colab-df-convert:hover {\n",
              "      background-color: #434B5C;\n",
              "      box-shadow: 0px 1px 3px 1px rgba(0, 0, 0, 0.15);\n",
              "      filter: drop-shadow(0px 1px 2px rgba(0, 0, 0, 0.3));\n",
              "      fill: #FFFFFF;\n",
              "    }\n",
              "  </style>\n",
              "\n",
              "      <script>\n",
              "        const buttonEl =\n",
              "          document.querySelector('#df-333f8be0-cf94-4ae3-bcfd-ee2943fa63c7 button.colab-df-convert');\n",
              "        buttonEl.style.display =\n",
              "          google.colab.kernel.accessAllowed ? 'block' : 'none';\n",
              "\n",
              "        async function convertToInteractive(key) {\n",
              "          const element = document.querySelector('#df-333f8be0-cf94-4ae3-bcfd-ee2943fa63c7');\n",
              "          const dataTable =\n",
              "            await google.colab.kernel.invokeFunction('convertToInteractive',\n",
              "                                                     [key], {});\n",
              "          if (!dataTable) return;\n",
              "\n",
              "          const docLinkHtml = 'Like what you see? Visit the ' +\n",
              "            '<a target=\"_blank\" href=https://colab.research.google.com/notebooks/data_table.ipynb>data table notebook</a>'\n",
              "            + ' to learn more about interactive tables.';\n",
              "          element.innerHTML = '';\n",
              "          dataTable['output_type'] = 'display_data';\n",
              "          await google.colab.output.renderOutput(dataTable, element);\n",
              "          const docLink = document.createElement('div');\n",
              "          docLink.innerHTML = docLinkHtml;\n",
              "          element.appendChild(docLink);\n",
              "        }\n",
              "      </script>\n",
              "    </div>\n",
              "  </div>\n",
              "  "
            ]
          },
          "metadata": {},
          "execution_count": 400
        }
      ]
    },
    {
      "cell_type": "markdown",
      "source": [
        "There are missing values in \"age\", \"hours-per-week\" and also in \"workclass\", \"native-country\" and \"occupation\". I decided to use different methods to fill nans. For the first case, with age, I just use median. Second thing, I decide to fill \"workclass\" and \"occupation\" using random forest. Third case \"hours-per-week\" will be filled according information from missed data"
      ],
      "metadata": {
        "id": "rByiUbVXa1LU"
      }
    },
    {
      "cell_type": "code",
      "source": [
        "df[\"hours-per-week\"].hist(bins=100)"
      ],
      "metadata": {
        "colab": {
          "base_uri": "https://localhost:8080/",
          "height": 448
        },
        "id": "zP95eNUbQLJm",
        "outputId": "4e71cab8-312c-4478-aeaa-d3819c4b7180"
      },
      "execution_count": 6,
      "outputs": [
        {
          "output_type": "execute_result",
          "data": {
            "text/plain": [
              "<Axes: >"
            ]
          },
          "metadata": {},
          "execution_count": 6
        },
        {
          "output_type": "display_data",
          "data": {
            "text/plain": [
              "<Figure size 640x480 with 1 Axes>"
            ],
            "image/png": "[encoded data removed]"
          },
          "metadata": {}
        }
      ]
    },
    {
      "cell_type": "code",
      "source": [
        "median_age = df.age.median()\n",
        "df[\"age\"] = df[\"age\"].fillna(median_age)"
      ],
      "metadata": {
        "id": "Uu6-Oikwam3H"
      },
      "execution_count": 287,
      "outputs": []
    },
    {
      "cell_type": "markdown",
      "source": [
        "We can see that missong values in the variable \"hours-per-week\" is aboout 10%. Thus we have to fill this values with something. Looking at this histogram plot we can see that the most frequent value is 40 hours a day. So, put it instead of nan"
      ],
      "metadata": {
        "id": "TPhQVIdcQotx"
      }
    },
    {
      "cell_type": "markdown",
      "source": [
        "However, there are cases, where values are hidden (\"?\"). Try to use a RandomForest method to fill missing values"
      ],
      "metadata": {
        "id": "jnTu-Q8j_Pd3"
      }
    },
    {
      "cell_type": "markdown",
      "source": [
        "### RandomForestClassifier"
      ],
      "metadata": {
        "id": "ByvBpKjc_com"
      }
    },
    {
      "cell_type": "code",
      "source": [
        "cat_features = [\"education\", \"marital-status\", \"relationship\", \n",
        "                \"race\", \"gender\", \"income\"] # \"native-country\", \"workclass\", \"occupation\"     "
      ],
      "metadata": {
        "id": "eumYsHZrP-eE"
      },
      "execution_count": 288,
      "outputs": []
    },
    {
      "cell_type": "code",
      "source": [
        "numerical_feat = [\"age\", \"fnlwgt\", \"educational-num\", \n",
        "                  \"capital-gain\", \"capital-loss\"]"
      ],
      "metadata": {
        "id": "MK20CL4ZaPO9"
      },
      "execution_count": 289,
      "outputs": []
    },
    {
      "cell_type": "code",
      "source": [
        "df_change = pd.get_dummies(df, columns = cat_features)"
      ],
      "metadata": {
        "id": "hW2pv-AugpeG"
      },
      "execution_count": 290,
      "outputs": []
    },
    {
      "cell_type": "code",
      "source": [
        "mis_values = df_change[(df_change[\"occupation\"] == \"?\") | (df_change[\"workclass\"] == \"?\") | (df_change[\"native-country\"] == \"?\")]"
      ],
      "metadata": {
        "id": "IjDv7a5dRnjv"
      },
      "execution_count": 291,
      "outputs": []
    },
    {
      "cell_type": "code",
      "source": [
        "df_full = df_change[(df_change[\"occupation\"] != \"?\") & (df_change[\"workclass\"] != \"?\") & (df_change[\"native-country\"] != \"?\")]\n",
        "# df_full = df_full.dropna()"
      ],
      "metadata": {
        "id": "DEi6JJpHXoaF"
      },
      "execution_count": 292,
      "outputs": []
    },
    {
      "cell_type": "code",
      "source": [
        "# drop hours-per-week because there are lots of nans, \n",
        "# but fill it according information from other columns\n",
        "X = df_full.drop(columns = [\"workclass\", \"occupation\", \"native-country\", \"hours-per-week\"])\n",
        "y = df_full[\"native-country\"]"
      ],
      "metadata": {
        "id": "csYn-TtwP-iG"
      },
      "execution_count": 293,
      "outputs": []
    },
    {
      "cell_type": "code",
      "source": [
        "clf = RandomForestClassifier(n_estimators=100, random_state=0)\n",
        "clf.fit(X, y)"
      ],
      "metadata": {
        "colab": {
          "base_uri": "https://localhost:8080/",
          "height": 75
        },
        "id": "y9vlrORDRT5T",
        "outputId": "9e01be6d-370e-4f22-cca5-1c2f15be5c23"
      },
      "execution_count": 294,
      "outputs": [
        {
          "output_type": "execute_result",
          "data": {
            "text/plain": [
              "RandomForestClassifier(random_state=0)"
            ],
            "text/html": [
              "<style>#sk-container-id-15 {color: black;background-color: white;}#sk-container-id-15 pre{padding: 0;}#sk-container-id-15 div.sk-toggleable {background-color: white;}#sk-container-id-15 label.sk-toggleable__label {cursor: pointer;display: block;width: 100%;margin-bottom: 0;padding: 0.3em;box-sizing: border-box;text-align: center;}#sk-container-id-15 label.sk-toggleable__label-arrow:before {content: \"▸\";float: left;margin-right: 0.25em;color: #696969;}#sk-container-id-15 label.sk-toggleable__label-arrow:hover:before {color: black;}#sk-container-id-15 div.sk-estimator:hover label.sk-toggleable__label-arrow:before {color: black;}#sk-container-id-15 div.sk-toggleable__content {max-height: 0;max-width: 0;overflow: hidden;text-align: left;background-color: #f0f8ff;}#sk-container-id-15 div.sk-toggleable__content pre {margin: 0.2em;color: black;border-radius: 0.25em;background-color: #f0f8ff;}#sk-container-id-15 input.sk-toggleable__control:checked~div.sk-toggleable__content {max-height: 200px;max-width: 100%;overflow: auto;}#sk-container-id-15 input.sk-toggleable__control:checked~label.sk-toggleable__label-arrow:before {content: \"▾\";}#sk-container-id-15 div.sk-estimator input.sk-toggleable__control:checked~label.sk-toggleable__label {background-color: #d4ebff;}#sk-container-id-15 div.sk-label input.sk-toggleable__control:checked~label.sk-toggleable__label {background-color: #d4ebff;}#sk-container-id-15 input.sk-hidden--visually {border: 0;clip: rect(1px 1px 1px 1px);clip: rect(1px, 1px, 1px, 1px);height: 1px;margin: -1px;overflow: hidden;padding: 0;position: absolute;width: 1px;}#sk-container-id-15 div.sk-estimator {font-family: monospace;background-color: #f0f8ff;border: 1px dotted black;border-radius: 0.25em;box-sizing: border-box;margin-bottom: 0.5em;}#sk-container-id-15 div.sk-estimator:hover {background-color: #d4ebff;}#sk-container-id-15 div.sk-parallel-item::after {content: \"\";width: 100%;border-bottom: 1px solid gray;flex-grow: 1;}#sk-container-id-15 div.sk-label:hover label.sk-toggleable__label {background-color: #d4ebff;}#sk-container-id-15 div.sk-serial::before {content: \"\";position: absolute;border-left: 1px solid gray;box-sizing: border-box;top: 0;bottom: 0;left: 50%;z-index: 0;}#sk-container-id-15 div.sk-serial {display: flex;flex-direction: column;align-items: center;background-color: white;padding-right: 0.2em;padding-left: 0.2em;position: relative;}#sk-container-id-15 div.sk-item {position: relative;z-index: 1;}#sk-container-id-15 div.sk-parallel {display: flex;align-items: stretch;justify-content: center;background-color: white;position: relative;}#sk-container-id-15 div.sk-item::before, #sk-container-id-15 div.sk-parallel-item::before {content: \"\";position: absolute;border-left: 1px solid gray;box-sizing: border-box;top: 0;bottom: 0;left: 50%;z-index: -1;}#sk-container-id-15 div.sk-parallel-item {display: flex;flex-direction: column;z-index: 1;position: relative;background-color: white;}#sk-container-id-15 div.sk-parallel-item:first-child::after {align-self: flex-end;width: 50%;}#sk-container-id-15 div.sk-parallel-item:last-child::after {align-self: flex-start;width: 50%;}#sk-container-id-15 div.sk-parallel-item:only-child::after {width: 0;}#sk-container-id-15 div.sk-dashed-wrapped {border: 1px dashed gray;margin: 0 0.4em 0.5em 0.4em;box-sizing: border-box;padding-bottom: 0.4em;background-color: white;}#sk-container-id-15 div.sk-label label {font-family: monospace;font-weight: bold;display: inline-block;line-height: 1.2em;}#sk-container-id-15 div.sk-label-container {text-align: center;}#sk-container-id-15 div.sk-container {/* jupyter's `normalize.less` sets `[hidden] { display: none; }` but bootstrap.min.css set `[hidden] { display: none !important; }` so we also need the `!important` here to be able to override the default hidden behavior on the sphinx rendered scikit-learn.org. See: https://github.com/scikit-learn/scikit-learn/issues/21755 */display: inline-block !important;position: relative;}#sk-container-id-15 div.sk-text-repr-fallback {display: none;}</style><div id=\"sk-container-id-15\" class=\"sk-top-container\"><div class=\"sk-text-repr-fallback\"><pre>RandomForestClassifier(random_state=0)</pre><b>In a Jupyter environment, please rerun this cell to show the HTML representation or trust the notebook. <br />On GitHub, the HTML representation is unable to render, please try loading this page with nbviewer.org.</b></div><div class=\"sk-container\" hidden><div class=\"sk-item\"><div class=\"sk-estimator sk-toggleable\"><input class=\"sk-toggleable__control sk-hidden--visually\" id=\"sk-estimator-id-15\" type=\"checkbox\" checked><label for=\"sk-estimator-id-15\" class=\"sk-toggleable__label sk-toggleable__label-arrow\">RandomForestClassifier</label><div class=\"sk-toggleable__content\"><pre>RandomForestClassifier(random_state=0)</pre></div></div></div></div></div>"
            ]
          },
          "metadata": {},
          "execution_count": 294
        }
      ]
    },
    {
      "cell_type": "code",
      "source": [
        "X_test = mis_values.drop(columns = [\"workclass\", \"occupation\", \"native-country\", \"hours-per-week\"])"
      ],
      "metadata": {
        "id": "_5k0F-i3pVYe"
      },
      "execution_count": 295,
      "outputs": []
    },
    {
      "cell_type": "code",
      "source": [
        "mis_values[\"native-country\"] = clf.predict(X_test)"
      ],
      "metadata": {
        "id": "_NDZDEISpbA4"
      },
      "execution_count": 296,
      "outputs": []
    },
    {
      "cell_type": "code",
      "source": [
        "mis_values[\"native-country\"].value_counts()"
      ],
      "metadata": {
        "colab": {
          "base_uri": "https://localhost:8080/"
        },
        "id": "vInWpGlIP-nS",
        "outputId": "3bb849e1-1a14-4f8d-b89d-c789a650ef0b"
      },
      "execution_count": 297,
      "outputs": [
        {
          "output_type": "execute_result",
          "data": {
            "text/plain": [
              "United-States         703\n",
              "Mexico                 10\n",
              "Philippines             9\n",
              "India                   8\n",
              "Columbia                2\n",
              "China                   2\n",
              "Guatemala               1\n",
              "Peru                    1\n",
              "Dominican-Republic      1\n",
              "Name: native-country, dtype: int64"
            ]
          },
          "metadata": {},
          "execution_count": 297
        }
      ]
    },
    {
      "cell_type": "code",
      "source": [
        "df_new = pd.concat([df_full, mis_values])"
      ],
      "metadata": {
        "id": "6mCpMxCfqubi"
      },
      "execution_count": 298,
      "outputs": []
    },
    {
      "cell_type": "markdown",
      "source": [
        "Do the same things again for \"occupation\""
      ],
      "metadata": {
        "id": "hON_gYj3qwHf"
      }
    },
    {
      "cell_type": "code",
      "source": [
        "cat_features = [\"native-country\"]"
      ],
      "metadata": {
        "id": "JVUA9wc7yw1C"
      },
      "execution_count": 299,
      "outputs": []
    },
    {
      "cell_type": "code",
      "source": [
        "df_change = pd.get_dummies(df_new, columns = cat_features)"
      ],
      "metadata": {
        "id": "Nxjvv9Gjy2hb"
      },
      "execution_count": 300,
      "outputs": []
    },
    {
      "cell_type": "code",
      "source": [
        "mis_values = df_change[(df_change[\"occupation\"] == \"?\") | (df_change[\"workclass\"] == \"?\")]\n",
        "df_full = df_change[(df_change[\"occupation\"] != \"?\") & (df_change[\"workclass\"] != \"?\")]"
      ],
      "metadata": {
        "id": "ax4auSOHq1E4"
      },
      "execution_count": 301,
      "outputs": []
    },
    {
      "cell_type": "code",
      "source": [
        "X = df_full.drop(columns = [\"workclass\", \"occupation\", \"hours-per-week\", \"hours-per-week\"])\n",
        "y = df_full[\"workclass\"]"
      ],
      "metadata": {
        "id": "s034Kc1Eq1Hz"
      },
      "execution_count": 302,
      "outputs": []
    },
    {
      "cell_type": "code",
      "source": [
        "clf = RandomForestClassifier(n_estimators=100, random_state=0)\n",
        "clf.fit(X, y)"
      ],
      "metadata": {
        "colab": {
          "base_uri": "https://localhost:8080/",
          "height": 75
        },
        "id": "6oBd9_JnypbO",
        "outputId": "f6ab92f6-a9f2-4805-d4d3-42c40b6e4d27"
      },
      "execution_count": 303,
      "outputs": [
        {
          "output_type": "execute_result",
          "data": {
            "text/plain": [
              "RandomForestClassifier(random_state=0)"
            ],
            "text/html": [
              "<style>#sk-container-id-16 {color: black;background-color: white;}#sk-container-id-16 pre{padding: 0;}#sk-container-id-16 div.sk-toggleable {background-color: white;}#sk-container-id-16 label.sk-toggleable__label {cursor: pointer;display: block;width: 100%;margin-bottom: 0;padding: 0.3em;box-sizing: border-box;text-align: center;}#sk-container-id-16 label.sk-toggleable__label-arrow:before {content: \"▸\";float: left;margin-right: 0.25em;color: #696969;}#sk-container-id-16 label.sk-toggleable__label-arrow:hover:before {color: black;}#sk-container-id-16 div.sk-estimator:hover label.sk-toggleable__label-arrow:before {color: black;}#sk-container-id-16 div.sk-toggleable__content {max-height: 0;max-width: 0;overflow: hidden;text-align: left;background-color: #f0f8ff;}#sk-container-id-16 div.sk-toggleable__content pre {margin: 0.2em;color: black;border-radius: 0.25em;background-color: #f0f8ff;}#sk-container-id-16 input.sk-toggleable__control:checked~div.sk-toggleable__content {max-height: 200px;max-width: 100%;overflow: auto;}#sk-container-id-16 input.sk-toggleable__control:checked~label.sk-toggleable__label-arrow:before {content: \"▾\";}#sk-container-id-16 div.sk-estimator input.sk-toggleable__control:checked~label.sk-toggleable__label {background-color: #d4ebff;}#sk-container-id-16 div.sk-label input.sk-toggleable__control:checked~label.sk-toggleable__label {background-color: #d4ebff;}#sk-container-id-16 input.sk-hidden--visually {border: 0;clip: rect(1px 1px 1px 1px);clip: rect(1px, 1px, 1px, 1px);height: 1px;margin: -1px;overflow: hidden;padding: 0;position: absolute;width: 1px;}#sk-container-id-16 div.sk-estimator {font-family: monospace;background-color: #f0f8ff;border: 1px dotted black;border-radius: 0.25em;box-sizing: border-box;margin-bottom: 0.5em;}#sk-container-id-16 div.sk-estimator:hover {background-color: #d4ebff;}#sk-container-id-16 div.sk-parallel-item::after {content: \"\";width: 100%;border-bottom: 1px solid gray;flex-grow: 1;}#sk-container-id-16 div.sk-label:hover label.sk-toggleable__label {background-color: #d4ebff;}#sk-container-id-16 div.sk-serial::before {content: \"\";position: absolute;border-left: 1px solid gray;box-sizing: border-box;top: 0;bottom: 0;left: 50%;z-index: 0;}#sk-container-id-16 div.sk-serial {display: flex;flex-direction: column;align-items: center;background-color: white;padding-right: 0.2em;padding-left: 0.2em;position: relative;}#sk-container-id-16 div.sk-item {position: relative;z-index: 1;}#sk-container-id-16 div.sk-parallel {display: flex;align-items: stretch;justify-content: center;background-color: white;position: relative;}#sk-container-id-16 div.sk-item::before, #sk-container-id-16 div.sk-parallel-item::before {content: \"\";position: absolute;border-left: 1px solid gray;box-sizing: border-box;top: 0;bottom: 0;left: 50%;z-index: -1;}#sk-container-id-16 div.sk-parallel-item {display: flex;flex-direction: column;z-index: 1;position: relative;background-color: white;}#sk-container-id-16 div.sk-parallel-item:first-child::after {align-self: flex-end;width: 50%;}#sk-container-id-16 div.sk-parallel-item:last-child::after {align-self: flex-start;width: 50%;}#sk-container-id-16 div.sk-parallel-item:only-child::after {width: 0;}#sk-container-id-16 div.sk-dashed-wrapped {border: 1px dashed gray;margin: 0 0.4em 0.5em 0.4em;box-sizing: border-box;padding-bottom: 0.4em;background-color: white;}#sk-container-id-16 div.sk-label label {font-family: monospace;font-weight: bold;display: inline-block;line-height: 1.2em;}#sk-container-id-16 div.sk-label-container {text-align: center;}#sk-container-id-16 div.sk-container {/* jupyter's `normalize.less` sets `[hidden] { display: none; }` but bootstrap.min.css set `[hidden] { display: none !important; }` so we also need the `!important` here to be able to override the default hidden behavior on the sphinx rendered scikit-learn.org. See: https://github.com/scikit-learn/scikit-learn/issues/21755 */display: inline-block !important;position: relative;}#sk-container-id-16 div.sk-text-repr-fallback {display: none;}</style><div id=\"sk-container-id-16\" class=\"sk-top-container\"><div class=\"sk-text-repr-fallback\"><pre>RandomForestClassifier(random_state=0)</pre><b>In a Jupyter environment, please rerun this cell to show the HTML representation or trust the notebook. <br />On GitHub, the HTML representation is unable to render, please try loading this page with nbviewer.org.</b></div><div class=\"sk-container\" hidden><div class=\"sk-item\"><div class=\"sk-estimator sk-toggleable\"><input class=\"sk-toggleable__control sk-hidden--visually\" id=\"sk-estimator-id-16\" type=\"checkbox\" checked><label for=\"sk-estimator-id-16\" class=\"sk-toggleable__label sk-toggleable__label-arrow\">RandomForestClassifier</label><div class=\"sk-toggleable__content\"><pre>RandomForestClassifier(random_state=0)</pre></div></div></div></div></div>"
            ]
          },
          "metadata": {},
          "execution_count": 303
        }
      ]
    },
    {
      "cell_type": "code",
      "source": [
        "X_test = mis_values.drop(columns = [\"workclass\", \"occupation\", \"hours-per-week\", \"hours-per-week\"])"
      ],
      "metadata": {
        "id": "UuuWdlUbypl9"
      },
      "execution_count": 304,
      "outputs": []
    },
    {
      "cell_type": "code",
      "source": [
        "mis_values[\"workclass\"] = clf.predict(X_test)"
      ],
      "metadata": {
        "id": "vqjh-ntpypq8"
      },
      "execution_count": 305,
      "outputs": []
    },
    {
      "cell_type": "code",
      "source": [
        "mis_values[\"workclass\"].value_counts()"
      ],
      "metadata": {
        "colab": {
          "base_uri": "https://localhost:8080/"
        },
        "id": "JB7XuiNTzbV4",
        "outputId": "9ad36f4c-9e4e-4f3f-86ee-54442b48e60f"
      },
      "execution_count": 306,
      "outputs": [
        {
          "output_type": "execute_result",
          "data": {
            "text/plain": [
              "Private             513\n",
              "Self-emp-not-inc     44\n",
              "Local-gov            16\n",
              "Self-emp-inc          5\n",
              "State-gov             5\n",
              "Federal-gov           2\n",
              "Name: workclass, dtype: int64"
            ]
          },
          "metadata": {},
          "execution_count": 306
        }
      ]
    },
    {
      "cell_type": "code",
      "source": [
        "df_new = pd.concat([df_full, mis_values])"
      ],
      "metadata": {
        "id": "fcGOG3ByzbYv"
      },
      "execution_count": 307,
      "outputs": []
    },
    {
      "cell_type": "markdown",
      "source": [
        "And for \"work-class\""
      ],
      "metadata": {
        "id": "7VjvsQrqzlze"
      }
    },
    {
      "cell_type": "code",
      "source": [
        "cat_features = [\"workclass\"]"
      ],
      "metadata": {
        "id": "suZoy2X6ziiw"
      },
      "execution_count": 308,
      "outputs": []
    },
    {
      "cell_type": "code",
      "source": [
        "df_change = pd.get_dummies(df_new, columns = cat_features)"
      ],
      "metadata": {
        "id": "T7kWirsazilc"
      },
      "execution_count": 309,
      "outputs": []
    },
    {
      "cell_type": "code",
      "source": [
        "mis_values = df_change[(df_change[\"occupation\"] == \"?\")]\n",
        "df_full = df_change[(df_change[\"occupation\"] != \"?\")]"
      ],
      "metadata": {
        "id": "RkN3gqPTzwq8"
      },
      "execution_count": 310,
      "outputs": []
    },
    {
      "cell_type": "code",
      "source": [
        "X = df_full.drop(columns = [\"occupation\", \"hours-per-week\", \"hours-per-week\"])\n",
        "y = df_full[\"occupation\"]"
      ],
      "metadata": {
        "id": "GuxwlzsyzwuY"
      },
      "execution_count": 311,
      "outputs": []
    },
    {
      "cell_type": "code",
      "source": [
        "clf = RandomForestClassifier(n_estimators=100, random_state=0)\n",
        "clf.fit(X, y)"
      ],
      "metadata": {
        "colab": {
          "base_uri": "https://localhost:8080/",
          "height": 75
        },
        "id": "8SiE8huEzwzI",
        "outputId": "a2b766f8-d0b0-4e1d-f78d-4d84f59f1f35"
      },
      "execution_count": 312,
      "outputs": [
        {
          "output_type": "execute_result",
          "data": {
            "text/plain": [
              "RandomForestClassifier(random_state=0)"
            ],
            "text/html": [
              "<style>#sk-container-id-17 {color: black;background-color: white;}#sk-container-id-17 pre{padding: 0;}#sk-container-id-17 div.sk-toggleable {background-color: white;}#sk-container-id-17 label.sk-toggleable__label {cursor: pointer;display: block;width: 100%;margin-bottom: 0;padding: 0.3em;box-sizing: border-box;text-align: center;}#sk-container-id-17 label.sk-toggleable__label-arrow:before {content: \"▸\";float: left;margin-right: 0.25em;color: #696969;}#sk-container-id-17 label.sk-toggleable__label-arrow:hover:before {color: black;}#sk-container-id-17 div.sk-estimator:hover label.sk-toggleable__label-arrow:before {color: black;}#sk-container-id-17 div.sk-toggleable__content {max-height: 0;max-width: 0;overflow: hidden;text-align: left;background-color: #f0f8ff;}#sk-container-id-17 div.sk-toggleable__content pre {margin: 0.2em;color: black;border-radius: 0.25em;background-color: #f0f8ff;}#sk-container-id-17 input.sk-toggleable__control:checked~div.sk-toggleable__content {max-height: 200px;max-width: 100%;overflow: auto;}#sk-container-id-17 input.sk-toggleable__control:checked~label.sk-toggleable__label-arrow:before {content: \"▾\";}#sk-container-id-17 div.sk-estimator input.sk-toggleable__control:checked~label.sk-toggleable__label {background-color: #d4ebff;}#sk-container-id-17 div.sk-label input.sk-toggleable__control:checked~label.sk-toggleable__label {background-color: #d4ebff;}#sk-container-id-17 input.sk-hidden--visually {border: 0;clip: rect(1px 1px 1px 1px);clip: rect(1px, 1px, 1px, 1px);height: 1px;margin: -1px;overflow: hidden;padding: 0;position: absolute;width: 1px;}#sk-container-id-17 div.sk-estimator {font-family: monospace;background-color: #f0f8ff;border: 1px dotted black;border-radius: 0.25em;box-sizing: border-box;margin-bottom: 0.5em;}#sk-container-id-17 div.sk-estimator:hover {background-color: #d4ebff;}#sk-container-id-17 div.sk-parallel-item::after {content: \"\";width: 100%;border-bottom: 1px solid gray;flex-grow: 1;}#sk-container-id-17 div.sk-label:hover label.sk-toggleable__label {background-color: #d4ebff;}#sk-container-id-17 div.sk-serial::before {content: \"\";position: absolute;border-left: 1px solid gray;box-sizing: border-box;top: 0;bottom: 0;left: 50%;z-index: 0;}#sk-container-id-17 div.sk-serial {display: flex;flex-direction: column;align-items: center;background-color: white;padding-right: 0.2em;padding-left: 0.2em;position: relative;}#sk-container-id-17 div.sk-item {position: relative;z-index: 1;}#sk-container-id-17 div.sk-parallel {display: flex;align-items: stretch;justify-content: center;background-color: white;position: relative;}#sk-container-id-17 div.sk-item::before, #sk-container-id-17 div.sk-parallel-item::before {content: \"\";position: absolute;border-left: 1px solid gray;box-sizing: border-box;top: 0;bottom: 0;left: 50%;z-index: -1;}#sk-container-id-17 div.sk-parallel-item {display: flex;flex-direction: column;z-index: 1;position: relative;background-color: white;}#sk-container-id-17 div.sk-parallel-item:first-child::after {align-self: flex-end;width: 50%;}#sk-container-id-17 div.sk-parallel-item:last-child::after {align-self: flex-start;width: 50%;}#sk-container-id-17 div.sk-parallel-item:only-child::after {width: 0;}#sk-container-id-17 div.sk-dashed-wrapped {border: 1px dashed gray;margin: 0 0.4em 0.5em 0.4em;box-sizing: border-box;padding-bottom: 0.4em;background-color: white;}#sk-container-id-17 div.sk-label label {font-family: monospace;font-weight: bold;display: inline-block;line-height: 1.2em;}#sk-container-id-17 div.sk-label-container {text-align: center;}#sk-container-id-17 div.sk-container {/* jupyter's `normalize.less` sets `[hidden] { display: none; }` but bootstrap.min.css set `[hidden] { display: none !important; }` so we also need the `!important` here to be able to override the default hidden behavior on the sphinx rendered scikit-learn.org. See: https://github.com/scikit-learn/scikit-learn/issues/21755 */display: inline-block !important;position: relative;}#sk-container-id-17 div.sk-text-repr-fallback {display: none;}</style><div id=\"sk-container-id-17\" class=\"sk-top-container\"><div class=\"sk-text-repr-fallback\"><pre>RandomForestClassifier(random_state=0)</pre><b>In a Jupyter environment, please rerun this cell to show the HTML representation or trust the notebook. <br />On GitHub, the HTML representation is unable to render, please try loading this page with nbviewer.org.</b></div><div class=\"sk-container\" hidden><div class=\"sk-item\"><div class=\"sk-estimator sk-toggleable\"><input class=\"sk-toggleable__control sk-hidden--visually\" id=\"sk-estimator-id-17\" type=\"checkbox\" checked><label for=\"sk-estimator-id-17\" class=\"sk-toggleable__label sk-toggleable__label-arrow\">RandomForestClassifier</label><div class=\"sk-toggleable__content\"><pre>RandomForestClassifier(random_state=0)</pre></div></div></div></div></div>"
            ]
          },
          "metadata": {},
          "execution_count": 312
        }
      ]
    },
    {
      "cell_type": "code",
      "source": [
        "X_test = mis_values.drop(columns = [\"occupation\", \"hours-per-week\"])"
      ],
      "metadata": {
        "id": "ukLunu8Gzw2c"
      },
      "execution_count": 313,
      "outputs": []
    },
    {
      "cell_type": "code",
      "source": [
        "mis_values[\"occupation\"] = clf.predict(X_test)"
      ],
      "metadata": {
        "id": "Hl5mFo7ezw7q"
      },
      "execution_count": 314,
      "outputs": []
    },
    {
      "cell_type": "code",
      "source": [
        "mis_values[\"occupation\"].value_counts()"
      ],
      "metadata": {
        "colab": {
          "base_uri": "https://localhost:8080/"
        },
        "id": "_BMd_CyZ0Lk3",
        "outputId": "e9c19306-7246-4c38-c9b6-d9853f336512"
      },
      "execution_count": 315,
      "outputs": [
        {
          "output_type": "execute_result",
          "data": {
            "text/plain": [
              "Other-service        128\n",
              "Adm-clerical          94\n",
              "Sales                 91\n",
              "Craft-repair          57\n",
              "Exec-managerial       47\n",
              "Machine-op-inspct     36\n",
              "Prof-specialty        32\n",
              "Transport-moving      27\n",
              "Handlers-cleaners     26\n",
              "Farming-fishing       25\n",
              "Tech-support          12\n",
              "Priv-house-serv        6\n",
              "Protective-serv        4\n",
              "Name: occupation, dtype: int64"
            ]
          },
          "metadata": {},
          "execution_count": 315
        }
      ]
    },
    {
      "cell_type": "code",
      "source": [
        "df_new = pd.concat([df_full, mis_values])"
      ],
      "metadata": {
        "id": "Fj40Ocye0Lng"
      },
      "execution_count": 316,
      "outputs": []
    },
    {
      "cell_type": "code",
      "source": [
        "df_new.shape"
      ],
      "metadata": {
        "colab": {
          "base_uri": "https://localhost:8080/"
        },
        "id": "twRj1kuH0zjx",
        "outputId": "0cda47d9-f701-4b62-832d-3c81cbb24580"
      },
      "execution_count": 319,
      "outputs": [
        {
          "output_type": "execute_result",
          "data": {
            "text/plain": [
              "(9614, 92)"
            ]
          },
          "metadata": {},
          "execution_count": 319
        }
      ]
    },
    {
      "cell_type": "markdown",
      "source": [
        "The last feature is \"hours-per-week\". Let's try to apply clusterization"
      ],
      "metadata": {
        "id": "uu_KHpti5ion"
      }
    },
    {
      "cell_type": "code",
      "source": [
        "cat_features = [\"occupation\"]"
      ],
      "metadata": {
        "id": "Be6jG2AD9wdr"
      },
      "execution_count": 326,
      "outputs": []
    },
    {
      "cell_type": "code",
      "source": [
        "df_change = pd.get_dummies(df_new, columns = cat_features)"
      ],
      "metadata": {
        "id": "_KekzXkm91Ko"
      },
      "execution_count": 331,
      "outputs": []
    },
    {
      "cell_type": "code",
      "source": [
        "# Scale our values, use MinMax as we have categirical features\n",
        "mms = MinMaxScaler()\n",
        "mms.fit(df_change.drop(columns=\"hours-per-week\"))\n",
        "df_transformed = mms.transform(df_change.drop(columns=\"hours-per-week\"))"
      ],
      "metadata": {
        "id": "c2hk1A0r0VUY"
      },
      "execution_count": 385,
      "outputs": []
    },
    {
      "cell_type": "code",
      "source": [
        "# Elbow method to find an optimal numer of clusters\n",
        "Sum_of_squared_distances = []\n",
        "K = range(1, 15)\n",
        "for k in K:\n",
        "    km = KMeans(n_clusters=k)\n",
        "    km = km.fit(df_transformed)\n",
        "    Sum_of_squared_distances.append(km.inertia_)"
      ],
      "metadata": {
        "id": "vHPDYFXr9b57"
      },
      "execution_count": 386,
      "outputs": []
    },
    {
      "cell_type": "code",
      "source": [
        "plt.plot(K, Sum_of_squared_distances, 'bx-')\n",
        "plt.xlabel('k')\n",
        "plt.ylabel('Sum_of_squared_distances')\n",
        "plt.title('Elbow Method For Optimal k')\n",
        "plt.show()"
      ],
      "metadata": {
        "colab": {
          "base_uri": "https://localhost:8080/",
          "height": 472
        },
        "id": "W4cgdrXb9b86",
        "outputId": "08ed6788-f810-4b50-a34e-e050611910f2"
      },
      "execution_count": 387,
      "outputs": [
        {
          "output_type": "display_data",
          "data": {
            "text/plain": [
              "<Figure size 640x480 with 1 Axes>"
            ],
            "image/png": "[encoded data removed]"
          },
          "metadata": {}
        }
      ]
    },
    {
      "cell_type": "markdown",
      "source": [
        "This is an elbow method even if we don't have a peak here. I will choose number of clusters = 7, as we can see, that we have lower additional qualuty here"
      ],
      "metadata": {
        "id": "h__g7U0C_OFw"
      }
    },
    {
      "cell_type": "code",
      "source": [
        "kmeans = KMeans(n_clusters=7, random_state=0)\n",
        "kmeans.fit(df_transformed)"
      ],
      "metadata": {
        "colab": {
          "base_uri": "https://localhost:8080/",
          "height": 75
        },
        "id": "2tv16M5w9cDr",
        "outputId": "7d320c71-9752-43e2-aeca-286a1f07434e"
      },
      "execution_count": 379,
      "outputs": [
        {
          "output_type": "execute_result",
          "data": {
            "text/plain": [
              "KMeans(n_clusters=7, random_state=0)"
            ],
            "text/html": [
              "<style>#sk-container-id-21 {color: black;background-color: white;}#sk-container-id-21 pre{padding: 0;}#sk-container-id-21 div.sk-toggleable {background-color: white;}#sk-container-id-21 label.sk-toggleable__label {cursor: pointer;display: block;width: 100%;margin-bottom: 0;padding: 0.3em;box-sizing: border-box;text-align: center;}#sk-container-id-21 label.sk-toggleable__label-arrow:before {content: \"▸\";float: left;margin-right: 0.25em;color: #696969;}#sk-container-id-21 label.sk-toggleable__label-arrow:hover:before {color: black;}#sk-container-id-21 div.sk-estimator:hover label.sk-toggleable__label-arrow:before {color: black;}#sk-container-id-21 div.sk-toggleable__content {max-height: 0;max-width: 0;overflow: hidden;text-align: left;background-color: #f0f8ff;}#sk-container-id-21 div.sk-toggleable__content pre {margin: 0.2em;color: black;border-radius: 0.25em;background-color: #f0f8ff;}#sk-container-id-21 input.sk-toggleable__control:checked~div.sk-toggleable__content {max-height: 200px;max-width: 100%;overflow: auto;}#sk-container-id-21 input.sk-toggleable__control:checked~label.sk-toggleable__label-arrow:before {content: \"▾\";}#sk-container-id-21 div.sk-estimator input.sk-toggleable__control:checked~label.sk-toggleable__label {background-color: #d4ebff;}#sk-container-id-21 div.sk-label input.sk-toggleable__control:checked~label.sk-toggleable__label {background-color: #d4ebff;}#sk-container-id-21 input.sk-hidden--visually {border: 0;clip: rect(1px 1px 1px 1px);clip: rect(1px, 1px, 1px, 1px);height: 1px;margin: -1px;overflow: hidden;padding: 0;position: absolute;width: 1px;}#sk-container-id-21 div.sk-estimator {font-family: monospace;background-color: #f0f8ff;border: 1px dotted black;border-radius: 0.25em;box-sizing: border-box;margin-bottom: 0.5em;}#sk-container-id-21 div.sk-estimator:hover {background-color: #d4ebff;}#sk-container-id-21 div.sk-parallel-item::after {content: \"\";width: 100%;border-bottom: 1px solid gray;flex-grow: 1;}#sk-container-id-21 div.sk-label:hover label.sk-toggleable__label {background-color: #d4ebff;}#sk-container-id-21 div.sk-serial::before {content: \"\";position: absolute;border-left: 1px solid gray;box-sizing: border-box;top: 0;bottom: 0;left: 50%;z-index: 0;}#sk-container-id-21 div.sk-serial {display: flex;flex-direction: column;align-items: center;background-color: white;padding-right: 0.2em;padding-left: 0.2em;position: relative;}#sk-container-id-21 div.sk-item {position: relative;z-index: 1;}#sk-container-id-21 div.sk-parallel {display: flex;align-items: stretch;justify-content: center;background-color: white;position: relative;}#sk-container-id-21 div.sk-item::before, #sk-container-id-21 div.sk-parallel-item::before {content: \"\";position: absolute;border-left: 1px solid gray;box-sizing: border-box;top: 0;bottom: 0;left: 50%;z-index: -1;}#sk-container-id-21 div.sk-parallel-item {display: flex;flex-direction: column;z-index: 1;position: relative;background-color: white;}#sk-container-id-21 div.sk-parallel-item:first-child::after {align-self: flex-end;width: 50%;}#sk-container-id-21 div.sk-parallel-item:last-child::after {align-self: flex-start;width: 50%;}#sk-container-id-21 div.sk-parallel-item:only-child::after {width: 0;}#sk-container-id-21 div.sk-dashed-wrapped {border: 1px dashed gray;margin: 0 0.4em 0.5em 0.4em;box-sizing: border-box;padding-bottom: 0.4em;background-color: white;}#sk-container-id-21 div.sk-label label {font-family: monospace;font-weight: bold;display: inline-block;line-height: 1.2em;}#sk-container-id-21 div.sk-label-container {text-align: center;}#sk-container-id-21 div.sk-container {/* jupyter's `normalize.less` sets `[hidden] { display: none; }` but bootstrap.min.css set `[hidden] { display: none !important; }` so we also need the `!important` here to be able to override the default hidden behavior on the sphinx rendered scikit-learn.org. See: https://github.com/scikit-learn/scikit-learn/issues/21755 */display: inline-block !important;position: relative;}#sk-container-id-21 div.sk-text-repr-fallback {display: none;}</style><div id=\"sk-container-id-21\" class=\"sk-top-container\"><div class=\"sk-text-repr-fallback\"><pre>KMeans(n_clusters=7, random_state=0)</pre><b>In a Jupyter environment, please rerun this cell to show the HTML representation or trust the notebook. <br />On GitHub, the HTML representation is unable to render, please try loading this page with nbviewer.org.</b></div><div class=\"sk-container\" hidden><div class=\"sk-item\"><div class=\"sk-estimator sk-toggleable\"><input class=\"sk-toggleable__control sk-hidden--visually\" id=\"sk-estimator-id-21\" type=\"checkbox\" checked><label for=\"sk-estimator-id-21\" class=\"sk-toggleable__label sk-toggleable__label-arrow\">KMeans</label><div class=\"sk-toggleable__content\"><pre>KMeans(n_clusters=7, random_state=0)</pre></div></div></div></div></div>"
            ]
          },
          "metadata": {},
          "execution_count": 379
        }
      ]
    },
    {
      "cell_type": "code",
      "source": [
        "df_change['cluster'] = kmeans.predict(df_transformed)"
      ],
      "metadata": {
        "id": "kkiOFsUb9cIK"
      },
      "execution_count": 388,
      "outputs": []
    },
    {
      "cell_type": "code",
      "source": [
        "df_change[\"hours-per-week\"] = df_change.groupby(\"cluster\")[\"hours-per-week\"].apply(lambda x: x.fillna(x.median()))"
      ],
      "metadata": {
        "id": "qmddPsJ9Gu6s"
      },
      "execution_count": 395,
      "outputs": []
    },
    {
      "cell_type": "code",
      "source": [
        "df_change.isna().sum()"
      ],
      "metadata": {
        "colab": {
          "base_uri": "https://localhost:8080/"
        },
        "id": "42cm_zJ3KbkP",
        "outputId": "69d6ae96-a76a-46ea-ae77-8b9b6f492304"
      },
      "execution_count": 399,
      "outputs": [
        {
          "output_type": "execute_result",
          "data": {
            "text/plain": [
              "age                            0\n",
              "fnlwgt                         0\n",
              "educational-num                0\n",
              "capital-gain                   0\n",
              "capital-loss                   0\n",
              "                              ..\n",
              "occupation_Protective-serv     0\n",
              "occupation_Sales               0\n",
              "occupation_Tech-support        0\n",
              "occupation_Transport-moving    0\n",
              "cluster                        0\n",
              "Length: 106, dtype: int64"
            ]
          },
          "metadata": {},
          "execution_count": 399
        }
      ]
    },
    {
      "cell_type": "markdown",
      "source": [
        "### Wrong values"
      ],
      "metadata": {
        "id": "rzypjl5l3Q57"
      }
    },
    {
      "cell_type": "markdown",
      "source": [
        "### Main characteristics"
      ],
      "metadata": {
        "id": "2nouWWLZl6oA"
      }
    },
    {
      "cell_type": "code",
      "source": [
        "# There is a class disbalance\n",
        "df['income'].value_counts(normalize=True)"
      ],
      "metadata": {
        "id": "EuBlDOeX5JM5",
        "colab": {
          "base_uri": "https://localhost:8080/"
        },
        "outputId": "5b424814-ec56-4be8-8c74-d7c16fdfafd5"
      },
      "execution_count": null,
      "outputs": [
        {
          "output_type": "execute_result",
          "data": {
            "text/plain": [
              "<=50K    0.763998\n",
              ">50K     0.236002\n",
              "Name: income, dtype: float64"
            ]
          },
          "metadata": {},
          "execution_count": 72
        }
      ]
    },
    {
      "cell_type": "code",
      "source": [
        "df.describe()"
      ],
      "metadata": {
        "id": "B5qadSUDl-vu",
        "colab": {
          "base_uri": "https://localhost:8080/",
          "height": 300
        },
        "outputId": "7cb8ad67-b5aa-47e7-ab7f-db0dca65261b"
      },
      "execution_count": 401,
      "outputs": [
        {
          "output_type": "execute_result",
          "data": {
            "text/plain": [
              "               age        fnlwgt  educational-num  capital-gain  capital-loss  \\\n",
              "count  9614.000000  9.614000e+03      9614.000000   9614.000000   9614.000000   \n",
              "mean     38.604327  1.882948e+05        10.080092   1121.998232     87.926669   \n",
              "std      13.362983  1.051352e+05         2.562733   7890.578253    404.085647   \n",
              "min      17.000000  1.376900e+04         1.000000      0.000000      0.000000   \n",
              "25%      28.000000  1.154652e+05         9.000000      0.000000      0.000000   \n",
              "50%      37.000000  1.778450e+05        10.000000      0.000000      0.000000   \n",
              "75%      47.000000  2.374175e+05        12.000000      0.000000      0.000000   \n",
              "max      90.000000  1.490400e+06        16.000000  99999.000000   3770.000000   \n",
              "\n",
              "       hours-per-week  \n",
              "count     8543.000000  \n",
              "mean        40.475126  \n",
              "std         12.340030  \n",
              "min          1.000000  \n",
              "25%         40.000000  \n",
              "50%         40.000000  \n",
              "75%         45.000000  \n",
              "max         99.000000  "
            ],
            "text/html": [
              "\n",
              "  <div id=\"df-332a1b66-dc82-4acc-97b0-acbff9fdd0ea\">\n",
              "    <div class=\"colab-df-container\">\n",
              "      <div>\n",
              "<style scoped>\n",
              "    .dataframe tbody tr th:only-of-type {\n",
              "        vertical-align: middle;\n",
              "    }\n",
              "\n",
              "    .dataframe tbody tr th {\n",
              "        vertical-align: top;\n",
              "    }\n",
              "\n",
              "    .dataframe thead th {\n",
              "        text-align: right;\n",
              "    }\n",
              "</style>\n",
              "<table border=\"1\" class=\"dataframe\">\n",
              "  <thead>\n",
              "    <tr style=\"text-align: right;\">\n",
              "      <th></th>\n",
              "      <th>age</th>\n",
              "      <th>fnlwgt</th>\n",
              "      <th>educational-num</th>\n",
              "      <th>capital-gain</th>\n",
              "      <th>capital-loss</th>\n",
              "      <th>hours-per-week</th>\n",
              "    </tr>\n",
              "  </thead>\n",
              "  <tbody>\n",
              "    <tr>\n",
              "      <th>count</th>\n",
              "      <td>9614.000000</td>\n",
              "      <td>9.614000e+03</td>\n",
              "      <td>9614.000000</td>\n",
              "      <td>9614.000000</td>\n",
              "      <td>9614.000000</td>\n",
              "      <td>8543.000000</td>\n",
              "    </tr>\n",
              "    <tr>\n",
              "      <th>mean</th>\n",
              "      <td>38.604327</td>\n",
              "      <td>1.882948e+05</td>\n",
              "      <td>10.080092</td>\n",
              "      <td>1121.998232</td>\n",
              "      <td>87.926669</td>\n",
              "      <td>40.475126</td>\n",
              "    </tr>\n",
              "    <tr>\n",
              "      <th>std</th>\n",
              "      <td>13.362983</td>\n",
              "      <td>1.051352e+05</td>\n",
              "      <td>2.562733</td>\n",
              "      <td>7890.578253</td>\n",
              "      <td>404.085647</td>\n",
              "      <td>12.340030</td>\n",
              "    </tr>\n",
              "    <tr>\n",
              "      <th>min</th>\n",
              "      <td>17.000000</td>\n",
              "      <td>1.376900e+04</td>\n",
              "      <td>1.000000</td>\n",
              "      <td>0.000000</td>\n",
              "      <td>0.000000</td>\n",
              "      <td>1.000000</td>\n",
              "    </tr>\n",
              "    <tr>\n",
              "      <th>25%</th>\n",
              "      <td>28.000000</td>\n",
              "      <td>1.154652e+05</td>\n",
              "      <td>9.000000</td>\n",
              "      <td>0.000000</td>\n",
              "      <td>0.000000</td>\n",
              "      <td>40.000000</td>\n",
              "    </tr>\n",
              "    <tr>\n",
              "      <th>50%</th>\n",
              "      <td>37.000000</td>\n",
              "      <td>1.778450e+05</td>\n",
              "      <td>10.000000</td>\n",
              "      <td>0.000000</td>\n",
              "      <td>0.000000</td>\n",
              "      <td>40.000000</td>\n",
              "    </tr>\n",
              "    <tr>\n",
              "      <th>75%</th>\n",
              "      <td>47.000000</td>\n",
              "      <td>2.374175e+05</td>\n",
              "      <td>12.000000</td>\n",
              "      <td>0.000000</td>\n",
              "      <td>0.000000</td>\n",
              "      <td>45.000000</td>\n",
              "    </tr>\n",
              "    <tr>\n",
              "      <th>max</th>\n",
              "      <td>90.000000</td>\n",
              "      <td>1.490400e+06</td>\n",
              "      <td>16.000000</td>\n",
              "      <td>99999.000000</td>\n",
              "      <td>3770.000000</td>\n",
              "      <td>99.000000</td>\n",
              "    </tr>\n",
              "  </tbody>\n",
              "</table>\n",
              "</div>\n",
              "      <button class=\"colab-df-convert\" onclick=\"convertToInteractive('df-332a1b66-dc82-4acc-97b0-acbff9fdd0ea')\"\n",
              "              title=\"Convert this dataframe to an interactive table.\"\n",
              "              style=\"display:none;\">\n",
              "        \n",
              "  <svg xmlns=\"http://www.w3.org/2000/svg\" height=\"24px\"viewBox=\"0 0 24 24\"\n",
              "       width=\"24px\">\n",
              "    <path d=\"M0 0h24v24H0V0z\" fill=\"none\"/>\n",
              "    <path d=\"M18.56 5.44l.94 2.06.94-2.06 2.06-.94-2.06-.94-.94-2.06-.94 2.06-2.06.94zm-11 1L8.5 8.5l.94-2.06 2.06-.94-2.06-.94L8.5 2.5l-.94 2.06-2.06.94zm10 10l.94 2.06.94-2.06 2.06-.94-2.06-.94-.94-2.06-.94 2.06-2.06.94z\"/><path d=\"M17.41 7.96l-1.37-1.37c-.4-.4-.92-.59-1.43-.59-.52 0-1.04.2-1.43.59L10.3 9.45l-7.72 7.72c-.78.78-.78 2.05 0 2.83L4 21.41c.39.39.9.59 1.41.59.51 0 1.02-.2 1.41-.59l7.78-7.78 2.81-2.81c.8-.78.8-2.07 0-2.86zM5.41 20L4 18.59l7.72-7.72 1.47 1.35L5.41 20z\"/>\n",
              "  </svg>\n",
              "      </button>\n",
              "      \n",
              "  <style>\n",
              "    .colab-df-container {\n",
              "      display:flex;\n",
              "      flex-wrap:wrap;\n",
              "      gap: 12px;\n",
              "    }\n",
              "\n",
              "    .colab-df-convert {\n",
              "      background-color: #E8F0FE;\n",
              "      border: none;\n",
              "      border-radius: 50%;\n",
              "      cursor: pointer;\n",
              "      display: none;\n",
              "      fill: #1967D2;\n",
              "      height: 32px;\n",
              "      padding: 0 0 0 0;\n",
              "      width: 32px;\n",
              "    }\n",
              "\n",
              "    .colab-df-convert:hover {\n",
              "      background-color: #E2EBFA;\n",
              "      box-shadow: 0px 1px 2px rgba(60, 64, 67, 0.3), 0px 1px 3px 1px rgba(60, 64, 67, 0.15);\n",
              "      fill: #174EA6;\n",
              "    }\n",
              "\n",
              "    [theme=dark] .colab-df-convert {\n",
              "      background-color: #3B4455;\n",
              "      fill: #D2E3FC;\n",
              "    }\n",
              "\n",
              "    [theme=dark] .colab-df-convert:hover {\n",
              "      background-color: #434B5C;\n",
              "      box-shadow: 0px 1px 3px 1px rgba(0, 0, 0, 0.15);\n",
              "      filter: drop-shadow(0px 1px 2px rgba(0, 0, 0, 0.3));\n",
              "      fill: #FFFFFF;\n",
              "    }\n",
              "  </style>\n",
              "\n",
              "      <script>\n",
              "        const buttonEl =\n",
              "          document.querySelector('#df-332a1b66-dc82-4acc-97b0-acbff9fdd0ea button.colab-df-convert');\n",
              "        buttonEl.style.display =\n",
              "          google.colab.kernel.accessAllowed ? 'block' : 'none';\n",
              "\n",
              "        async function convertToInteractive(key) {\n",
              "          const element = document.querySelector('#df-332a1b66-dc82-4acc-97b0-acbff9fdd0ea');\n",
              "          const dataTable =\n",
              "            await google.colab.kernel.invokeFunction('convertToInteractive',\n",
              "                                                     [key], {});\n",
              "          if (!dataTable) return;\n",
              "\n",
              "          const docLinkHtml = 'Like what you see? Visit the ' +\n",
              "            '<a target=\"_blank\" href=https://colab.research.google.com/notebooks/data_table.ipynb>data table notebook</a>'\n",
              "            + ' to learn more about interactive tables.';\n",
              "          element.innerHTML = '';\n",
              "          dataTable['output_type'] = 'display_data';\n",
              "          await google.colab.output.renderOutput(dataTable, element);\n",
              "          const docLink = document.createElement('div');\n",
              "          docLink.innerHTML = docLinkHtml;\n",
              "          element.appendChild(docLink);\n",
              "        }\n",
              "      </script>\n",
              "    </div>\n",
              "  </div>\n",
              "  "
            ]
          },
          "metadata": {},
          "execution_count": 401
        }
      ]
    },
    {
      "cell_type": "code",
      "source": [
        "# We have some strange values for capital-gain - 99999\n",
        "df[df[\"capital-gain\"] > 1000][\"capital-gain\"].hist(bins=100)"
      ],
      "metadata": {
        "colab": {
          "base_uri": "https://localhost:8080/",
          "height": 448
        },
        "id": "3JjnB9Tqn8V9",
        "outputId": "040a88dd-6d59-4e86-8a2f-f6c5a0734721"
      },
      "execution_count": 407,
      "outputs": [
        {
          "output_type": "execute_result",
          "data": {
            "text/plain": [
              "<Axes: >"
            ]
          },
          "metadata": {},
          "execution_count": 407
        },
        {
          "output_type": "display_data",
          "data": {
            "text/plain": [
              "<Figure size 640x480 with 1 Axes>"
            ],
            "image/png": "[encoded data removed]"
          },
          "metadata": {}
        }
      ]
    },
    {
      "cell_type": "code",
      "source": [
        "df[df[\"capital-gain\"] == df[\"capital-gain\"].max()]"
      ],
      "metadata": {
        "id": "FJ4RALsXOOQe"
      },
      "execution_count": null,
      "outputs": []
    },
    {
      "cell_type": "markdown",
      "source": [
        "All clients have income higher than 50K. So, they maybe do not want to say about additional gain. As this value seems strange, I decided just fill capital-gain by mean among people, who have income > 50K\n",
        "\n"
      ],
      "metadata": {
        "id": "r5mYbOO2ONxH"
      }
    },
    {
      "cell_type": "code",
      "source": [
        "df.loc[df['name'] == 'Charlie', 'age'] = 40"
      ],
      "metadata": {
        "id": "1rHwyWUtQ22Z"
      },
      "execution_count": null,
      "outputs": []
    },
    {
      "cell_type": "code",
      "source": [
        "mean = df_change[df_change[\"income_>50K\"] == 1][\"capital-gain\"].mean()\n",
        "df_change.loc[df_change[\"capital-gain\"] == df_change[\"capital-gain\"].max(), \"capital-gain\"] = mean"
      ],
      "metadata": {
        "id": "pbpn3lInPL3F"
      },
      "execution_count": 417,
      "outputs": []
    },
    {
      "cell_type": "code",
      "source": [
        "df_change[\"hours-per-week\"].hist()"
      ],
      "metadata": {
        "colab": {
          "base_uri": "https://localhost:8080/",
          "height": 448
        },
        "id": "2T1uzlxGRV_B",
        "outputId": "269e3477-0ac5-4987-f9fd-0e4fcee572a2"
      },
      "execution_count": 423,
      "outputs": [
        {
          "output_type": "execute_result",
          "data": {
            "text/plain": [
              "<Axes: >"
            ]
          },
          "metadata": {},
          "execution_count": 423
        },
        {
          "output_type": "display_data",
          "data": {
            "text/plain": [
              "<Figure size 640x480 with 1 Axes>"
            ],
            "image/png": "[encoded data removed]"
          },
          "metadata": {}
        }
      ]
    },
    {
      "cell_type": "code",
      "source": [
        "corr = df.corr()\n",
        "corr.style.background_gradient()"
      ],
      "metadata": {
        "id": "ba6wxZGjx50Y",
        "colab": {
          "base_uri": "https://localhost:8080/",
          "height": 238
        },
        "outputId": "e7a64432-7f0f-457c-a2e7-721fb8bcb389"
      },
      "execution_count": 425,
      "outputs": [
        {
          "output_type": "execute_result",
          "data": {
            "text/plain": [
              "<pandas.io.formats.style.Styler at 0x7efe0ce70b20>"
            ],
            "text/html": [
              "<style type=\"text/css\">\n",
              "#T_4dfa1_row0_col0, #T_4dfa1_row1_col1, #T_4dfa1_row2_col2, #T_4dfa1_row3_col3, #T_4dfa1_row4_col4, #T_4dfa1_row5_col5 {\n",
              "  background-color: #023858;\n",
              "  color: #f1f1f1;\n",
              "}\n",
              "#T_4dfa1_row0_col1, #T_4dfa1_row1_col0, #T_4dfa1_row1_col2, #T_4dfa1_row1_col5, #T_4dfa1_row3_col4, #T_4dfa1_row4_col3 {\n",
              "  background-color: #fff7fb;\n",
              "  color: #000000;\n",
              "}\n",
              "#T_4dfa1_row0_col2, #T_4dfa1_row1_col3 {\n",
              "  background-color: #fbf4f9;\n",
              "  color: #000000;\n",
              "}\n",
              "#T_4dfa1_row0_col3, #T_4dfa1_row3_col5, #T_4dfa1_row4_col2 {\n",
              "  background-color: #f0eaf4;\n",
              "  color: #000000;\n",
              "}\n",
              "#T_4dfa1_row0_col4, #T_4dfa1_row2_col0 {\n",
              "  background-color: #f4edf6;\n",
              "  color: #000000;\n",
              "}\n",
              "#T_4dfa1_row0_col5 {\n",
              "  background-color: #f2ecf5;\n",
              "  color: #000000;\n",
              "}\n",
              "#T_4dfa1_row1_col4 {\n",
              "  background-color: #fbf3f9;\n",
              "  color: #000000;\n",
              "}\n",
              "#T_4dfa1_row2_col1, #T_4dfa1_row4_col5 {\n",
              "  background-color: #f7f0f7;\n",
              "  color: #000000;\n",
              "}\n",
              "#T_4dfa1_row2_col3, #T_4dfa1_row5_col2 {\n",
              "  background-color: #e5e1ef;\n",
              "  color: #000000;\n",
              "}\n",
              "#T_4dfa1_row2_col4 {\n",
              "  background-color: #eee9f3;\n",
              "  color: #000000;\n",
              "}\n",
              "#T_4dfa1_row2_col5, #T_4dfa1_row3_col0 {\n",
              "  background-color: #e9e5f1;\n",
              "  color: #000000;\n",
              "}\n",
              "#T_4dfa1_row3_col1 {\n",
              "  background-color: #f5eef6;\n",
              "  color: #000000;\n",
              "}\n",
              "#T_4dfa1_row3_col2, #T_4dfa1_row5_col0 {\n",
              "  background-color: #e6e2ef;\n",
              "  color: #000000;\n",
              "}\n",
              "#T_4dfa1_row4_col0 {\n",
              "  background-color: #ede8f3;\n",
              "  color: #000000;\n",
              "}\n",
              "#T_4dfa1_row4_col1, #T_4dfa1_row5_col1 {\n",
              "  background-color: #f4eef6;\n",
              "  color: #000000;\n",
              "}\n",
              "#T_4dfa1_row5_col3 {\n",
              "  background-color: #ebe6f2;\n",
              "  color: #000000;\n",
              "}\n",
              "#T_4dfa1_row5_col4 {\n",
              "  background-color: #f3edf5;\n",
              "  color: #000000;\n",
              "}\n",
              "</style>\n",
              "<table id=\"T_4dfa1\" class=\"dataframe\">\n",
              "  <thead>\n",
              "    <tr>\n",
              "      <th class=\"blank level0\" >&nbsp;</th>\n",
              "      <th id=\"T_4dfa1_level0_col0\" class=\"col_heading level0 col0\" >age</th>\n",
              "      <th id=\"T_4dfa1_level0_col1\" class=\"col_heading level0 col1\" >fnlwgt</th>\n",
              "      <th id=\"T_4dfa1_level0_col2\" class=\"col_heading level0 col2\" >educational-num</th>\n",
              "      <th id=\"T_4dfa1_level0_col3\" class=\"col_heading level0 col3\" >capital-gain</th>\n",
              "      <th id=\"T_4dfa1_level0_col4\" class=\"col_heading level0 col4\" >capital-loss</th>\n",
              "      <th id=\"T_4dfa1_level0_col5\" class=\"col_heading level0 col5\" >hours-per-week</th>\n",
              "    </tr>\n",
              "  </thead>\n",
              "  <tbody>\n",
              "    <tr>\n",
              "      <th id=\"T_4dfa1_level0_row0\" class=\"row_heading level0 row0\" >age</th>\n",
              "      <td id=\"T_4dfa1_row0_col0\" class=\"data row0 col0\" >1.000000</td>\n",
              "      <td id=\"T_4dfa1_row0_col1\" class=\"data row0 col1\" >-0.079232</td>\n",
              "      <td id=\"T_4dfa1_row0_col2\" class=\"data row0 col2\" >0.002274</td>\n",
              "      <td id=\"T_4dfa1_row0_col3\" class=\"data row0 col3\" >0.072331</td>\n",
              "      <td id=\"T_4dfa1_row0_col4\" class=\"data row0 col4\" >0.049127</td>\n",
              "      <td id=\"T_4dfa1_row0_col5\" class=\"data row0 col5\" >0.086708</td>\n",
              "    </tr>\n",
              "    <tr>\n",
              "      <th id=\"T_4dfa1_level0_row1\" class=\"row_heading level0 row1\" >fnlwgt</th>\n",
              "      <td id=\"T_4dfa1_row1_col0\" class=\"data row1 col0\" >-0.079232</td>\n",
              "      <td id=\"T_4dfa1_row1_col1\" class=\"data row1 col1\" >1.000000</td>\n",
              "      <td id=\"T_4dfa1_row1_col2\" class=\"data row1 col2\" >-0.024398</td>\n",
              "      <td id=\"T_4dfa1_row1_col3\" class=\"data row1 col3\" >-0.005989</td>\n",
              "      <td id=\"T_4dfa1_row1_col4\" class=\"data row1 col4\" >-0.000409</td>\n",
              "      <td id=\"T_4dfa1_row1_col5\" class=\"data row1 col5\" >-0.003148</td>\n",
              "    </tr>\n",
              "    <tr>\n",
              "      <th id=\"T_4dfa1_level0_row2\" class=\"row_heading level0 row2\" >educational-num</th>\n",
              "      <td id=\"T_4dfa1_row2_col0\" class=\"data row2 col0\" >0.002274</td>\n",
              "      <td id=\"T_4dfa1_row2_col1\" class=\"data row2 col1\" >-0.024398</td>\n",
              "      <td id=\"T_4dfa1_row2_col2\" class=\"data row2 col2\" >1.000000</td>\n",
              "      <td id=\"T_4dfa1_row2_col3\" class=\"data row2 col3\" >0.132639</td>\n",
              "      <td id=\"T_4dfa1_row2_col4\" class=\"data row2 col4\" >0.083546</td>\n",
              "      <td id=\"T_4dfa1_row2_col5\" class=\"data row2 col5\" >0.137757</td>\n",
              "    </tr>\n",
              "    <tr>\n",
              "      <th id=\"T_4dfa1_level0_row3\" class=\"row_heading level0 row3\" >capital-gain</th>\n",
              "      <td id=\"T_4dfa1_row3_col0\" class=\"data row3 col0\" >0.072331</td>\n",
              "      <td id=\"T_4dfa1_row3_col1\" class=\"data row3 col1\" >-0.005989</td>\n",
              "      <td id=\"T_4dfa1_row3_col2\" class=\"data row3 col2\" >0.132639</td>\n",
              "      <td id=\"T_4dfa1_row3_col3\" class=\"data row3 col3\" >1.000000</td>\n",
              "      <td id=\"T_4dfa1_row3_col4\" class=\"data row3 col4\" >-0.030944</td>\n",
              "      <td id=\"T_4dfa1_row3_col5\" class=\"data row3 col5\" >0.102024</td>\n",
              "    </tr>\n",
              "    <tr>\n",
              "      <th id=\"T_4dfa1_level0_row4\" class=\"row_heading level0 row4\" >capital-loss</th>\n",
              "      <td id=\"T_4dfa1_row4_col0\" class=\"data row4 col0\" >0.049127</td>\n",
              "      <td id=\"T_4dfa1_row4_col1\" class=\"data row4 col1\" >-0.000409</td>\n",
              "      <td id=\"T_4dfa1_row4_col2\" class=\"data row4 col2\" >0.083546</td>\n",
              "      <td id=\"T_4dfa1_row4_col3\" class=\"data row4 col3\" >-0.030944</td>\n",
              "      <td id=\"T_4dfa1_row4_col4\" class=\"data row4 col4\" >1.000000</td>\n",
              "      <td id=\"T_4dfa1_row4_col5\" class=\"data row4 col5\" >0.052580</td>\n",
              "    </tr>\n",
              "    <tr>\n",
              "      <th id=\"T_4dfa1_level0_row5\" class=\"row_heading level0 row5\" >hours-per-week</th>\n",
              "      <td id=\"T_4dfa1_row5_col0\" class=\"data row5 col0\" >0.086708</td>\n",
              "      <td id=\"T_4dfa1_row5_col1\" class=\"data row5 col1\" >-0.003148</td>\n",
              "      <td id=\"T_4dfa1_row5_col2\" class=\"data row5 col2\" >0.137757</td>\n",
              "      <td id=\"T_4dfa1_row5_col3\" class=\"data row5 col3\" >0.102024</td>\n",
              "      <td id=\"T_4dfa1_row5_col4\" class=\"data row5 col4\" >0.052580</td>\n",
              "      <td id=\"T_4dfa1_row5_col5\" class=\"data row5 col5\" >1.000000</td>\n",
              "    </tr>\n",
              "  </tbody>\n",
              "</table>\n"
            ]
          },
          "metadata": {},
          "execution_count": 425
        }
      ]
    },
    {
      "cell_type": "code",
      "source": [],
      "metadata": {
        "id": "RPgI8vMtr0Tf"
      },
      "execution_count": null,
      "outputs": []
    }
  ],
  "metadata": {
    "kernelspec": {
      "display_name": "Python 3",
      "language": "python",
      "name": "python3"
    },
    "language_info": {
      "codemirror_mode": {
        "name": "ipython",
        "version": 3
      },
      "file_extension": ".py",
      "mimetype": "text/x-python",
      "name": "python",
      "nbconvert_exporter": "python",
      "pygments_lexer": "ipython3",
      "version": "3.7.6"
    },
    "colab": {
      "provenance": [],
      "include_colab_link": true
    }
  },
  "nbformat": 4,
  "nbformat_minor": 0
}